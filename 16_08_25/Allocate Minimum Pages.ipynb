{
 "cells": [
  {
   "cell_type": "markdown",
   "id": "c307377c",
   "metadata": {},
   "source": [
    "1. Allocate Minimum Pages\n",
    "Given an array arr[] of integers, where each element arr[i] represents the number of pages in the i-th book. You also have an integer k representing the number of students. The task is to allocate books to each student such that:\n",
    "\n",
    "Each student receives atleast one book.\n",
    "Each student is assigned a contiguous sequence of books.\n",
    "No book is assigned to more than one student.\n",
    "The objective is to minimize the maximum number of pages assigned to any student. In other words, out of all possible allocations, find the arrangement where the student who receives the most pages still has the smallest possible maximum.\n",
    "\n",
    "Note: If it is not possible to allocate books to all students, return -1.\n",
    "\n",
    "Examples:\n",
    "\n",
    "Input: arr[] = [12, 34, 67, 90], k = 2\n",
    "Output: 113\n",
    "Explanation: Allocation can be done in following ways:\n",
    "=> [12] and [34, 67, 90] Maximum Pages = 191\n",
    "=> [12, 34] and [67, 90] Maximum Pages = 157\n",
    "=> [12, 34, 67] and [90] Maximum Pages = 113.\n",
    "The third combination has the minimum pages assigned to a student which is 113.\n",
    "Input: arr[] = [15, 17, 20], k = 5\n",
    "Output: -1\n",
    "Explanation: Since there are more students than total books, it's impossible to allocate a book to each student.\n",
    "Constraints:\n",
    "1 ≤ arr.size() ≤ 106\n",
    "1 ≤ arr[i], k ≤ 103"
   ]
  },
  {
   "cell_type": "code",
   "execution_count": 2,
   "id": "e5e380c6",
   "metadata": {},
   "outputs": [],
   "source": [
    "class Solution:\n",
    "    def findPages(self, arr, k):\n",
    "        # code here\n",
    "        pass\n",
    "arr= [12, 34, 67, 90]\n",
    "k = 2"
   ]
  }
 ],
 "metadata": {
  "kernelspec": {
   "display_name": "Python 3",
   "language": "python",
   "name": "python3"
  },
  "language_info": {
   "codemirror_mode": {
    "name": "ipython",
    "version": 3
   },
   "file_extension": ".py",
   "mimetype": "text/x-python",
   "name": "python",
   "nbconvert_exporter": "python",
   "pygments_lexer": "ipython3",
   "version": "3.13.2"
  }
 },
 "nbformat": 4,
 "nbformat_minor": 5
}
