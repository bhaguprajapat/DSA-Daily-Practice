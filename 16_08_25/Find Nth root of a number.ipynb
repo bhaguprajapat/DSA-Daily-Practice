{
 "cells": [
  {
   "cell_type": "markdown",
   "id": "532692da",
   "metadata": {},
   "source": [
    "1. Find Nth root of a number\n",
    "Given two numbers N and M, find the Nth root of M. The Nth root of a number M is defined as a number X such that when X is raised to the power of N, it equals M. If the Nth root is not an integer, return -1.\n",
    "\n",
    "\n",
    "Examples:\n",
    "Input: N = 3, M = 27\n",
    "\n",
    "Output: 3\n",
    "\n",
    "Explanation: The cube root of 27 is equal to 3.\n",
    "\n",
    "Input: N = 4, M = 69\n",
    "\n",
    "Output:-1\n",
    "\n",
    "Explanation: The 4th root of 69 does not exist. So, the answer is -1.\n",
    "\n",
    "Input: N = 4, M = 81"
   ]
  },
  {
   "cell_type": "code",
   "execution_count": 4,
   "id": "ee67c449",
   "metadata": {},
   "outputs": [
    {
     "name": "stdout",
     "output_type": "stream",
     "text": [
      "3\n"
     ]
    }
   ],
   "source": [
    "class Solution:\n",
    "    def NthRoot(self, n, m):\n",
    "        left,right=0,m\n",
    "        while left<=right:\n",
    "            mid=left+(right-left)//2\n",
    "            my_nthRoot=pow(mid,n)\n",
    "            if my_nthRoot==m:\n",
    "                return mid\n",
    "            elif my_nthRoot>m:\n",
    "                right=mid-1\n",
    "            else:\n",
    "                left=mid+1\n",
    "        return -1\n",
    "sl=Solution()\n",
    "n,m=4,81\n",
    "print(sl.NthRoot(n,m))\n",
    "      "
   ]
  }
 ],
 "metadata": {
  "kernelspec": {
   "display_name": "Python 3",
   "language": "python",
   "name": "python3"
  },
  "language_info": {
   "codemirror_mode": {
    "name": "ipython",
    "version": 3
   },
   "file_extension": ".py",
   "mimetype": "text/x-python",
   "name": "python",
   "nbconvert_exporter": "python",
   "pygments_lexer": "ipython3",
   "version": "3.13.2"
  }
 },
 "nbformat": 4,
 "nbformat_minor": 5
}
