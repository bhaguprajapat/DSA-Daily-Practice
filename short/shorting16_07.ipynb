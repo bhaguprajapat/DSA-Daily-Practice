{
 "cells": [
  {
   "cell_type": "markdown",
   "id": "9703ac97",
   "metadata": {},
   "source": [
    "1. Insertion Sort List\n",
    "Given the head of a singly linked list, sort the list using insertion sort, and return the sorted list's head.\n",
    "\n",
    "The steps of the insertion sort algorithm:\n",
    "\n",
    "Insertion sort iterates, consuming one input element each repetition and growing a sorted output list.\n",
    "At each iteration, insertion sort removes one element from the input data, finds the location it belongs within the sorted list and inserts it there.\n",
    "It repeats until no input elements remain.\n",
    "The following is a graphical example of the insertion sort algorithm. The partially sorted list (black) initially contains only the first element in the list. One element (red) is removed from the input data and inserted in-place into the sorted list with each iteration.\n",
    "\n",
    "Input: head = [4,2,1,3]\n",
    "Output: [1,2,3,4]\n",
    "Input: head = [-1,5,3,4,0]\n",
    "Output: [-1,0,3,4,5]\n",
    " \n",
    "\n",
    "Constraints:\n",
    "\n",
    "The number of nodes in the list is in the range [1, 5000].\n",
    "-5000 <= Node.val <= 5000"
   ]
  },
  {
   "cell_type": "code",
   "execution_count": 11,
   "id": "250d5375",
   "metadata": {},
   "outputs": [
    {
     "name": "stdout",
     "output_type": "stream",
     "text": [
      "1 -> 2 -> 3 -> 4\n"
     ]
    }
   ],
   "source": [
    "class ListNode(object):\n",
    "    def __init__(self, val=0, next=None):\n",
    "        self.val = val\n",
    "        self.next = next\n",
    "\n",
    "    # For printing linked list nicely\n",
    "    def __str__(self):\n",
    "        result = []\n",
    "        current = self\n",
    "        while current:\n",
    "            result.append(str(current.val))\n",
    "            current = current.next\n",
    "        return \" -> \".join(result)\n",
    "\n",
    "class Solution(object):\n",
    "    def insertionSortList(self, head):\n",
    "        temp = head\n",
    "        res = []\n",
    "        while temp:\n",
    "            res.append(temp.val)\n",
    "            temp = temp.next\n",
    "        res.sort()    \n",
    "        new_node = ListNode(res[0])    \n",
    "        head = new_node\n",
    "        prev = new_node\n",
    "        for i in range(1, len(res)):\n",
    "            new_node = ListNode(res[i])\n",
    "            prev.next = new_node\n",
    "            prev = new_node\n",
    "        return head    \n",
    "\n",
    "# 🔄 Convert list [4,2,1,3] to linked list\n",
    "def list_to_linkedlist(lst):\n",
    "    dummy = ListNode(0)\n",
    "    curr = dummy\n",
    "    for val in lst:\n",
    "        curr.next = ListNode(val)\n",
    "        curr = curr.next\n",
    "    return dummy.next\n",
    "\n",
    "# 👇 Example usage\n",
    "head = list_to_linkedlist([4, 2, 1, 3])\n",
    "sl = Solution()\n",
    "sorted_head = sl.insertionSortList(head)\n",
    "print(sorted_head)\n"
   ]
  }
 ],
 "metadata": {
  "kernelspec": {
   "display_name": "Python 3",
   "language": "python",
   "name": "python3"
  },
  "language_info": {
   "codemirror_mode": {
    "name": "ipython",
    "version": 3
   },
   "file_extension": ".py",
   "mimetype": "text/x-python",
   "name": "python",
   "nbconvert_exporter": "python",
   "pygments_lexer": "ipython3",
   "version": "3.13.2"
  }
 },
 "nbformat": 4,
 "nbformat_minor": 5
}
