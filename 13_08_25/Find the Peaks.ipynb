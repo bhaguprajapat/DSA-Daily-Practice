{
 "cells": [
  {
   "cell_type": "markdown",
   "id": "377382e8",
   "metadata": {},
   "source": [
    "1. Find the Peaks\n",
    "You are given a 0-indexed array mountain. Your task is to find all the peaks in the mountain array.\n",
    "\n",
    "Return an array that consists of indices of peaks in the given array in any order.\n",
    "\n",
    "Notes:\n",
    "\n",
    "A peak is defined as an element that is strictly greater than its neighboring elements.\n",
    "The first and last elements of the array are not a peak.\n",
    " \n",
    "\n",
    "Example 1:\n",
    "\n",
    "Input: mountain = [2,4,4]\n",
    "Output: []\n",
    "Explanation: mountain[0] and mountain[2] can not be a peak because they are first and last elements of the array.\n",
    "mountain[1] also can not be a peak because it is not strictly greater than mountain[2].\n",
    "So the answer is [].\n",
    "Example 2:\n",
    "\n",
    "Input: mountain = [1,4,3,8,5]\n",
    "Output: [1,3]\n",
    "Explanation: mountain[0] and mountain[4] can not be a peak because they are first and last elements of the array.\n",
    "mountain[2] also can not be a peak because it is not strictly greater than mountain[3] and mountain[1].\n",
    "But mountain [1] and mountain[3] are strictly greater than their neighboring elements.\n",
    "So the answer is [1,3]."
   ]
  },
  {
   "cell_type": "code",
   "execution_count": 2,
   "id": "87a81e47",
   "metadata": {},
   "outputs": [
    {
     "name": "stdout",
     "output_type": "stream",
     "text": [
      "[1, 3]\n"
     ]
    }
   ],
   "source": [
    "class Solution(object):\n",
    "    def findPeaks(self, mountain):\n",
    "        ans=[]\n",
    "        for i in range(1,len(mountain)-1):\n",
    "            if mountain[i]>mountain[i-1] and mountain[i]>mountain[i+1]:\n",
    "                ans.append(i)\n",
    "        return ans\n",
    "sl=Solution()\n",
    "mountain = [1,4,3,8,5]\n",
    "print(sl.findPeaks(mountain))"
   ]
  }
 ],
 "metadata": {
  "kernelspec": {
   "display_name": "Python 3",
   "language": "python",
   "name": "python3"
  },
  "language_info": {
   "codemirror_mode": {
    "name": "ipython",
    "version": 3
   },
   "file_extension": ".py",
   "mimetype": "text/x-python",
   "name": "python",
   "nbconvert_exporter": "python",
   "pygments_lexer": "ipython3",
   "version": "3.13.2"
  }
 },
 "nbformat": 4,
 "nbformat_minor": 5
}
