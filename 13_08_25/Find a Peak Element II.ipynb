{
 "cells": [
  {
   "cell_type": "markdown",
   "id": "03281521",
   "metadata": {},
   "source": [
    "1. Find a Peak Element II\n",
    "A peak element in a 2D grid is an element that is strictly greater than all of its adjacent neighbors to the left, right, top, and bottom.\n",
    "\n",
    "Given a 0-indexed m x n matrix mat where no two adjacent cells are equal, find any peak element mat[i][j] and return the length 2 array [i,j].\n",
    "\n",
    "You may assume that the entire matrix is surrounded by an outer perimeter with the value -1 in each cell.\n",
    "\n",
    "You must write an algorithm that runs in O(m log(n)) or O(n log(m)) time.\n",
    "Input: mat = [[1,4],[3,2]]\n",
    "Output: [0,1]\n",
    "Explanation: Both 3 and 4 are peak elements so [1,0] and [0,1] are both acceptable answers.\n",
    "Input: mat = [[10,20,15],[21,30,14],[7,16,32]]\n",
    "Output: [1,1]\n",
    "Explanation: Both 30 and 32 are peak elements so [1,1] and [2,2] are both acceptable answers."
   ]
  },
  {
   "cell_type": "code",
   "execution_count": 1,
   "id": "f69f400a",
   "metadata": {},
   "outputs": [
    {
     "name": "stdout",
     "output_type": "stream",
     "text": [
      "[1, 0]\n"
     ]
    }
   ],
   "source": [
    "class Solution(object):\n",
    "    def findPeakGrid(self, mat):\n",
    "        startCol = 0\n",
    "        endCol = len(mat[0])-1\n",
    "       \n",
    "        while startCol <= endCol:\n",
    "            maxRow = 0\n",
    "            midCol = (endCol+startCol)//2\n",
    "            \n",
    "            for row in range(len(mat)):\n",
    "                maxRow = row if (mat[row][midCol] >= mat[maxRow][midCol]) else maxRow\n",
    "            \n",
    "            leftIsBig    =   midCol-1 >= startCol  and  mat[maxRow][midCol-1] > mat[maxRow][midCol]\n",
    "            rightIsBig   =   midCol+1 <= endCol    and  mat[maxRow][midCol+1] > mat[maxRow][midCol]\n",
    "            \n",
    "            if (not leftIsBig) and (not rightIsBig):   # we have found the peak element\n",
    "                return [maxRow, midCol]\n",
    "            elif rightIsBig:             # if rightIsBig, then there is an element in 'right' that is bigger than all the elements in the 'midCol', \n",
    "                startCol = midCol+1     # so 'midCol' cannot have 'peakPlane'\n",
    "            else:                           # leftIsBig\n",
    "                endCol = midCol-1\n",
    "                \n",
    "        return []\n",
    "sl=Solution()\n",
    "mat = [[1,4],[3,2]]\n",
    "print(sl.findPeakGrid(mat))\n"
   ]
  }
 ],
 "metadata": {
  "kernelspec": {
   "display_name": "Python 3",
   "language": "python",
   "name": "python3"
  },
  "language_info": {
   "codemirror_mode": {
    "name": "ipython",
    "version": 3
   },
   "file_extension": ".py",
   "mimetype": "text/x-python",
   "name": "python",
   "nbconvert_exporter": "python",
   "pygments_lexer": "ipython3",
   "version": "3.13.2"
  }
 },
 "nbformat": 4,
 "nbformat_minor": 5
}
