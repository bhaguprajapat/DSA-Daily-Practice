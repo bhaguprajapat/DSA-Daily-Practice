{
 "cells": [
  {
   "cell_type": "markdown",
   "id": "9c626dad",
   "metadata": {},
   "source": [
    "1.  Reverse Integer\n",
    "Given a signed 32-bit integer x, return x with its digits reversed. If reversing x causes the value to go outside the signed 32-bit integer range [-231, 231 - 1], then return 0.\n",
    "\n",
    "Assume the environment does not allow you to store 64-bit integers (signed or unsigned).\n",
    "\n",
    " \n",
    "\n",
    "Example 1:\n",
    "\n",
    "Input: x = 123\n",
    "Output: 321\n",
    "Example 2:\n",
    "\n",
    "Input: x = -123\n",
    "Output: -321\n",
    "Example 3:\n",
    "\n",
    "Input: x = 120\n",
    "Output: 21"
   ]
  },
  {
   "cell_type": "code",
   "execution_count": 15,
   "id": "9998c156",
   "metadata": {},
   "outputs": [
    {
     "name": "stdout",
     "output_type": "stream",
     "text": [
      "321\n"
     ]
    }
   ],
   "source": [
    "# solustion one\n",
    "def reverse(x):\n",
    "    # ini;litaze res \n",
    "    res=0\n",
    "    if x<0:\n",
    "        res=int(str(x)[1:][::-1])*-1\n",
    "    else:\n",
    "        res=int(str(x)[::-1])\n",
    "    if res>2**31-1 or res<-2**31:\n",
    "        return 0\n",
    "    return res\n",
    "x = 123\n",
    "print(reverse(x))"
   ]
  },
  {
   "cell_type": "markdown",
   "id": "7c47b9df",
   "metadata": {},
   "source": [
    "Linked List"
   ]
  },
  {
   "cell_type": "code",
   "execution_count": 117,
   "id": "14397608",
   "metadata": {},
   "outputs": [],
   "source": [
    "class Node():\n",
    "    def __init__(self,value):\n",
    "        self.data=value\n",
    "        self.next=None\n",
    "class LinkList:\n",
    "    def __init__(self):\n",
    "        self.head=None\n",
    "        self.n=0\n",
    "    def __len__(self):\n",
    "        return self.n\n",
    "    def insert_head(self,item):\n",
    "        # create new Item\n",
    "        new_node=Node(item)\n",
    "        new_node.next=self.head # create connection\n",
    "        self.head=new_node # reassign the head\n",
    "        self.n+=1 # increase the lenth of nodes\n",
    "    def traverse(self):\n",
    "        # inilitaze the head\n",
    "        curr=self.head\n",
    "        while curr != None:\n",
    "            print(curr.data, \"->\",end=\"\")\n",
    "            curr = curr.next\n",
    "        print(None)\n",
    "    def append(self,item):\n",
    "        new_node=Node(item) #create new node\n",
    "        # if list is empty\n",
    "        if self.head==None:\n",
    "            self.head=new_node\n",
    "            self.n+=1\n",
    "            return\n",
    "        curr_node=self.head #inilitaze the head\n",
    "        while curr_node.next !=None: #traverse in all nodes\n",
    "            curr_node=curr_node.next\n",
    "        curr_node.next=new_node #create connection\n",
    "        self.n+=1 #increase the size of nodes\n",
    "    def insert(self,item,index):\n",
    "        curr_node=self.head\n",
    "        new_node=Node(item)\n",
    "        # if index is greater then size\n",
    "        if self.n<index:\n",
    "            return \"This inex is not exit\"\n",
    "        # check list is empty and insert index is 0\n",
    "        if self.head==None:\n",
    "            self.head=new_node\n",
    "            self.n+=1\n",
    "            return\n",
    "        if self.head.next==None and index==0:\n",
    "            curr_node=self.head\n",
    "            self.head=new_node\n",
    "            self.head.next=curr_node\n",
    "            self.n+=1\n",
    "            return\n",
    "        for i in range(index-1):\n",
    "            curr_node=curr_node.next\n",
    "        next_node=curr_node.next\n",
    "        curr_node.next=new_node\n",
    "        new_node.next=next_node\n",
    "        self.n+=1\n",
    "    def pop(self):\n",
    "        pass\n"
   ]
  },
  {
   "cell_type": "code",
   "execution_count": 130,
   "id": "04e81ee3",
   "metadata": {},
   "outputs": [],
   "source": [
    "LL=LinkList()"
   ]
  },
  {
   "cell_type": "code",
   "execution_count": 131,
   "id": "74364aec",
   "metadata": {},
   "outputs": [
    {
     "data": {
      "text/plain": [
       "'This inex is not exit'"
      ]
     },
     "execution_count": 131,
     "metadata": {},
     "output_type": "execute_result"
    }
   ],
   "source": [
    "LL.insert(23,3)"
   ]
  },
  {
   "cell_type": "code",
   "execution_count": 132,
   "id": "f27271df",
   "metadata": {},
   "outputs": [],
   "source": [
    "\n",
    "LL.append(50)\n",
    "LL.append(60)\n",
    "LL.append(70)"
   ]
  },
  {
   "cell_type": "code",
   "execution_count": 133,
   "id": "5014b981",
   "metadata": {},
   "outputs": [],
   "source": [
    "LL.insert_head(10)\n",
    "LL.insert_head(20)\n",
    "LL.insert_head(30)\n",
    "LL.insert_head(\"hello\")"
   ]
  },
  {
   "cell_type": "code",
   "execution_count": 134,
   "id": "da98016a",
   "metadata": {},
   "outputs": [
    {
     "name": "stdout",
     "output_type": "stream",
     "text": [
      "hello ->30 ->20 ->10 ->50 ->60 ->70 ->None\n"
     ]
    }
   ],
   "source": [
    "LL.traverse()"
   ]
  },
  {
   "cell_type": "code",
   "execution_count": 135,
   "id": "eb8b214d",
   "metadata": {},
   "outputs": [
    {
     "data": {
      "text/plain": [
       "7"
      ]
     },
     "execution_count": 135,
     "metadata": {},
     "output_type": "execute_result"
    }
   ],
   "source": [
    "LL.__len__()"
   ]
  }
 ],
 "metadata": {
  "kernelspec": {
   "display_name": "Python 3",
   "language": "python",
   "name": "python3"
  },
  "language_info": {
   "codemirror_mode": {
    "name": "ipython",
    "version": 3
   },
   "file_extension": ".py",
   "mimetype": "text/x-python",
   "name": "python",
   "nbconvert_exporter": "python",
   "pygments_lexer": "ipython3",
   "version": "3.13.2"
  }
 },
 "nbformat": 4,
 "nbformat_minor": 5
}
