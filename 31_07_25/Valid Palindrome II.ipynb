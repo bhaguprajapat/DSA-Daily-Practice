{
 "cells": [
  {
   "cell_type": "markdown",
   "id": "e3114c1d",
   "metadata": {},
   "source": [
    "1. Valid Palindrome II\n",
    "Given a string s, return true if the s can be palindrome after deleting at most one character from it.\n",
    "\n",
    " \n",
    "\n",
    "Example 1:\n",
    "\n",
    "Input: s = \"aba\"\n",
    "Output: true\n",
    "Example 2:\n",
    "\n",
    "Input: s = \"abca\"\n",
    "Output: true\n",
    "Explanation: You could delete the character 'c'.\n",
    "Example 3:\n",
    "\n",
    "Input: s = \"abc\"\n",
    "Output: false\n",
    " "
   ]
  },
  {
   "cell_type": "code",
   "execution_count": null,
   "id": "fa550c63",
   "metadata": {},
   "outputs": [],
   "source": [
    "class Solution:\n",
    "    def validPalindrome(self, s: str) -> bool:\n",
    "        left,right=0,len(s)-1\n",
    "        while left<right:\n",
    "            if s[left]!=s[right]:\n",
    "                one, two = s[left:right], s[left + 1:right + 1]\n",
    "                return one == one[::-1] or two == two[::-1]\n",
    "            left, right = left + 1, right - 1\n",
    "        return True\n",
    "        "
   ]
  }
 ],
 "metadata": {
  "kernelspec": {
   "display_name": "Python 3",
   "language": "python",
   "name": "python3"
  },
  "language_info": {
   "name": "python",
   "version": "3.13.2"
  }
 },
 "nbformat": 4,
 "nbformat_minor": 5
}
