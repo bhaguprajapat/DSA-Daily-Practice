{
 "cells": [
  {
   "cell_type": "markdown",
   "id": "95bf887b",
   "metadata": {},
   "source": [
    "1. Most Frequent Even Element\n",
    "Given an integer array nums, return the most frequent even element.\n",
    "\n",
    "If there is a tie, return the smallest one. If there is no such element, return -1.\n",
    "\n",
    " \n",
    "\n",
    "Example 1:\n",
    "\n",
    "Input: nums = [0,1,2,2,4,4,1]\n",
    "Output: 2\n",
    "Explanation:\n",
    "The even elements are 0, 2, and 4. Of these, 2 and 4 appear the most.\n",
    "We return the smallest one, which is 2.\n",
    "Example 2:\n",
    "\n",
    "Input: nums = [4,4,4,9,2,4]\n",
    "Output: 4\n",
    "Explanation: 4 is the even element appears the most.\n",
    "Example 3:\n",
    "\n",
    "Input: nums = [29,47,21,41,13,37,25,7]\n",
    "Output: -1\n",
    "Explanation: There is no even element."
   ]
  },
  {
   "cell_type": "code",
   "execution_count": 22,
   "id": "2d49d311",
   "metadata": {},
   "outputs": [
    {
     "name": "stdout",
     "output_type": "stream",
     "text": [
      "2\n"
     ]
    }
   ],
   "source": [
    "from collections import Counter\n",
    "class Solution:\n",
    "    def mostFrequentEven(self, nums):\n",
    "       # Filter only even numbers\n",
    "        even_nums = [n for n in nums if n % 2 == 0]\n",
    "        if not even_nums:\n",
    "            return -1\n",
    "        \n",
    "        # Count frequencies\n",
    "        count = Counter(even_nums)\n",
    "\n",
    "        # Find the most frequent even number\n",
    "        # If tie, return the smallest one\n",
    "        max_freq = max(count.values())\n",
    "        candidates = [num for num, freq in count.items() if freq == max_freq]\n",
    "        return min(candidates)\n",
    "\n",
    "nums = [0,1,2,2,4,4,1]\n",
    "sl=Solution()\n",
    "print(sl.mostFrequentEven(nums))\n",
    "        "
   ]
  }
 ],
 "metadata": {
  "kernelspec": {
   "display_name": "Python 3",
   "language": "python",
   "name": "python3"
  },
  "language_info": {
   "codemirror_mode": {
    "name": "ipython",
    "version": 3
   },
   "file_extension": ".py",
   "mimetype": "text/x-python",
   "name": "python",
   "nbconvert_exporter": "python",
   "pygments_lexer": "ipython3",
   "version": "3.13.2"
  }
 },
 "nbformat": 4,
 "nbformat_minor": 5
}
