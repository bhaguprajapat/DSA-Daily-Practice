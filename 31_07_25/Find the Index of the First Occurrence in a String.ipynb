{
 "cells": [
  {
   "cell_type": "markdown",
   "id": "0f253e13",
   "metadata": {},
   "source": [
    "1. Find the Index of the First Occurrence in a String\n",
    "Given two strings needle and haystack, return the index of the first occurrence of needle in haystack, or -1 if needle is not part of haystack.\n",
    "\n",
    " \n",
    "\n",
    "Example 1:\n",
    "\n",
    "Input: haystack = \"sadbutsad\", needle = \"sad\"\n",
    "Output: 0\n",
    "Explanation: \"sad\" occurs at index 0 and 6.\n",
    "The first occurrence is at index 0, so we return 0.\n",
    "Example 2:\n",
    "\n",
    "Input: haystack = \"leetcode\", needle = \"leeto\"\n",
    "Output: -1\n",
    "Explanation: \"leeto\" did not occur in \"leetcode\", so we return -1."
   ]
  },
  {
   "cell_type": "code",
   "execution_count": null,
   "id": "b6635ea2",
   "metadata": {},
   "outputs": [
    {
     "name": "stdout",
     "output_type": "stream",
     "text": [
      "0\n"
     ]
    }
   ],
   "source": [
    "class Solution(object):\n",
    "    def strStr(self, haystack, needle):\n",
    "        # Approach\n",
    "        # use a loop that itterate through the haystack string. thal will run till len(haystack)-len(needle)+1\n",
    "        # then I check is this sub string matched with needle then return the index first\n",
    "        # Other wise return -1\n",
    "        # Time complexity O(n*m)\n",
    "        # space complexity O(1)\n",
    "        for i in range(len(haystack)-len(needle)+1):\n",
    "            if haystack[i:i+len(needle)]==needle:\n",
    "                return i\n",
    "        return -1\n",
    "sl=Solution()\n",
    "haystack = \"sadbutsad\"\n",
    "needle = \"sad\"\n",
    "print(sl.strStr(haystack, needle))\n"
   ]
  }
 ],
 "metadata": {
  "kernelspec": {
   "display_name": "Python 3",
   "language": "python",
   "name": "python3"
  },
  "language_info": {
   "codemirror_mode": {
    "name": "ipython",
    "version": 3
   },
   "file_extension": ".py",
   "mimetype": "text/x-python",
   "name": "python",
   "nbconvert_exporter": "python",
   "pygments_lexer": "ipython3",
   "version": "3.13.2"
  }
 },
 "nbformat": 4,
 "nbformat_minor": 5
}
