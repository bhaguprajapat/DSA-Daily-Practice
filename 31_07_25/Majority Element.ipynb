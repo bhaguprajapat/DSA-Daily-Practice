{
 "cells": [
  {
   "cell_type": "markdown",
   "id": "29284253",
   "metadata": {},
   "source": [
    "1. Majority Element\n",
    "Given an array nums of size n, return the majority element.\n",
    "\n",
    "The majority element is the element that appears more than ⌊n / 2⌋ times. You may assume that the majority element always exists in the array.\n",
    "\n",
    " \n",
    "\n",
    "Example 1:\n",
    "\n",
    "Input: nums = [3,2,3]\n",
    "Output: 3\n",
    "Example 2:\n",
    "\n",
    "Input: nums = [2,2,1,1,1,2,2]\n",
    "Output: 2\n",
    " "
   ]
  },
  {
   "cell_type": "code",
   "execution_count": 4,
   "id": "acd3ae59",
   "metadata": {},
   "outputs": [
    {
     "name": "stdout",
     "output_type": "stream",
     "text": [
      "1\n"
     ]
    }
   ],
   "source": [
    "class Solution:\n",
    "    def majorityElement(self, nums):\n",
    "        #approch first Sort the arry\n",
    "        # then count the freq\n",
    "        # if freq greater then n/2 then return element\n",
    "        nums.sort()\n",
    "        freq=0\n",
    "        ans=nums[0]\n",
    "        for i in nums:\n",
    "            if ans==i:\n",
    "                freq+=1\n",
    "                if freq>len(nums)//2:\n",
    "                    return i\n",
    "            ans=i\n",
    "\n",
    "nums = [2,2,1,1,1,2,2,1,1]    \n",
    "sl=Solution()\n",
    "print(sl.majorityElement(nums))"
   ]
  },
  {
   "cell_type": "code",
   "execution_count": 5,
   "id": "295e13ea",
   "metadata": {},
   "outputs": [
    {
     "name": "stdout",
     "output_type": "stream",
     "text": [
      "1\n"
     ]
    }
   ],
   "source": [
    "class Solution:\n",
    "    def majorityElement(self, nums):\n",
    "        freq=0\n",
    "        ans=0\n",
    "        for i in range(len(nums)):\n",
    "            if freq==0:\n",
    "                ans=nums[i]\n",
    "            if ans==nums[i]:\n",
    "                freq+=1\n",
    "            else:\n",
    "                freq-=1\n",
    "        return ans\n",
    "\n",
    "nums = [2,2,1,1,1,2,2,1,1]    \n",
    "sl=Solution()\n",
    "print(sl.majorityElement(nums))"
   ]
  }
 ],
 "metadata": {
  "kernelspec": {
   "display_name": "Python 3",
   "language": "python",
   "name": "python3"
  },
  "language_info": {
   "codemirror_mode": {
    "name": "ipython",
    "version": 3
   },
   "file_extension": ".py",
   "mimetype": "text/x-python",
   "name": "python",
   "nbconvert_exporter": "python",
   "pygments_lexer": "ipython3",
   "version": "3.13.2"
  }
 },
 "nbformat": 4,
 "nbformat_minor": 5
}
