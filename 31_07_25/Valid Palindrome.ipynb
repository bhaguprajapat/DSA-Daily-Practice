{
 "cells": [
  {
   "cell_type": "markdown",
   "id": "f850e11e",
   "metadata": {},
   "source": [
    "1. Valid Palindrome\n",
    "A phrase is a palindrome if, after converting all uppercase letters into lowercase letters and removing all non-alphanumeric characters, it reads the same forward and backward. Alphanumeric characters include letters and numbers.\n",
    "\n",
    "Given a string s, return true if it is a palindrome, or false otherwise.\n",
    "\n",
    " \n",
    "\n",
    "Example 1:\n",
    "\n",
    "Input: s = \"A man, a plan, a canal: Panama\"\n",
    "Output: true\n",
    "Explanation: \"amanaplanacanalpanama\" is a palindrome.\n",
    "Example 2:\n",
    "\n",
    "Input: s = \"race a car\"\n",
    "Output: false\n",
    "Explanation: \"raceacar\" is not a palindrome.\n",
    "Example 3:\n",
    "\n",
    "Input: s = \" \"\n",
    "Output: true\n",
    "Explanation: s is an empty string \"\" after removing non-alphanumeric characters.\n",
    "Since an empty string reads the same forward and backward, it is a palindrome."
   ]
  },
  {
   "cell_type": "code",
   "execution_count": 16,
   "id": "9b074d0e",
   "metadata": {},
   "outputs": [
    {
     "name": "stdout",
     "output_type": "stream",
     "text": [
      "False\n"
     ]
    }
   ],
   "source": [
    "class Solution(object):\n",
    "    def isPalindrome(self, s):\n",
    "        \"\"\"\n",
    "        :type s: str\n",
    "        :rtype: bool\n",
    "        \"\"\"\n",
    "        # Approach\n",
    "        # first remove all spaces and spacial char and convert in lower case \n",
    "        # then check is string is empty then return true\n",
    "        # ṭhen inilitaze two pointer left and right\n",
    "        # then run the while loop till condition will not false\n",
    "        # check if left and right both are not same then return false other wise return true\n",
    "        # Time Complexity: O(n)\n",
    "        # Space Complexity: O(n)\n",
    "        s=\"\".join(char for char in s if char.isalpha())\n",
    "        s=s.lower()\n",
    "        if s==\"\":\n",
    "            return True\n",
    "        if len(s)==1:\n",
    "            return False\n",
    "        left,right=0,len(s)-1\n",
    "        while left<right:\n",
    "            if s[left] !=s[right]:\n",
    "                return False\n",
    "            left+=1\n",
    "            right-=1\n",
    "        return True\n",
    "        \n",
    "sl=Solution()\n",
    "s = \"0p\"\n",
    "print(sl.isPalindrome(s))     "
   ]
  }
 ],
 "metadata": {
  "kernelspec": {
   "display_name": "Python 3",
   "language": "python",
   "name": "python3"
  },
  "language_info": {
   "codemirror_mode": {
    "name": "ipython",
    "version": 3
   },
   "file_extension": ".py",
   "mimetype": "text/x-python",
   "name": "python",
   "nbconvert_exporter": "python",
   "pygments_lexer": "ipython3",
   "version": "3.13.2"
  }
 },
 "nbformat": 4,
 "nbformat_minor": 5
}
