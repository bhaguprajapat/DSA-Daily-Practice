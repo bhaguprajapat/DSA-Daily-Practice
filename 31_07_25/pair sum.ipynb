{
 "cells": [
  {
   "cell_type": "markdown",
   "id": "1cb1e5fc",
   "metadata": {},
   "source": [
    "1. pair sum\n",
    "return pair index in sorted array with target sum \n",
    "input: nums=[2,7,11,15], target=9\n",
    "output=[0,1]"
   ]
  },
  {
   "cell_type": "code",
   "execution_count": 1,
   "id": "cf9f34fd",
   "metadata": {},
   "outputs": [
    {
     "name": "stdout",
     "output_type": "stream",
     "text": [
      "[0, 1]\n"
     ]
    }
   ],
   "source": [
    "def MaxSumPair(nums,target):\n",
    "    left,right=0,len(nums)-1\n",
    "    while left<right:\n",
    "        if nums[left]+nums[right]==target:\n",
    "            return [left,right]\n",
    "        elif nums[left]+nums[right]>target:\n",
    "            right-=1\n",
    "        else:\n",
    "            left+=1\n",
    "    return [-1,-1]\n",
    "nums=[2,7,11,15] \n",
    "target=9\n",
    "print(MaxSumPair(nums,target))"
   ]
  }
 ],
 "metadata": {
  "kernelspec": {
   "display_name": "Python 3",
   "language": "python",
   "name": "python3"
  },
  "language_info": {
   "codemirror_mode": {
    "name": "ipython",
    "version": 3
   },
   "file_extension": ".py",
   "mimetype": "text/x-python",
   "name": "python",
   "nbconvert_exporter": "python",
   "pygments_lexer": "ipython3",
   "version": "3.13.2"
  }
 },
 "nbformat": 4,
 "nbformat_minor": 5
}
