{
 "cells": [
  {
   "cell_type": "markdown",
   "id": "afe1e10c",
   "metadata": {},
   "source": [
    "1. Set Matrix Zeroes\n",
    "Given an m x n integer matrix matrix, if an element is 0, set its entire row and column to 0. You must do it in place.\n",
    "\n",
    "\n",
    "Examples:\n",
    "Input: matrix = [[1,1,1],[1,0,1],[1,1,1]]\n",
    "\n",
    "Output: [[1,0,1],[0,0,0],[1,0,1]]\n",
    "\n",
    "Explanation:\n",
    "\n",
    "Element at position (1,1) is 0, so set entire row 1 and column 1 to 0.\n",
    "\n",
    "Input: matrix = [[0,1,2,0],[3,4,5,2],[1,3,1,5]]\n",
    "\n",
    "Output: [[0,0,0,0],[0,4,5,0],[0,3,1,0]]\n",
    "\n",
    "Explanation:\n",
    "\n",
    "There are two zeroes: (0,0) and (0,3).\n",
    "\n",
    "Row 0 → all elements become 0\n",
    "Column 0 and column 3 → all elements become 0"
   ]
  },
  {
   "cell_type": "code",
   "execution_count": 4,
   "id": "8b029512",
   "metadata": {},
   "outputs": [
    {
     "name": "stdout",
     "output_type": "stream",
     "text": [
      "[[0, 0, 0, 0], [0, 4, 5, 0], [0, 3, 1, 0]]\n"
     ]
    }
   ],
   "source": [
    "class Solution:\n",
    "    def setZeroes(self, matrix):\n",
    "        rows = len(matrix)\n",
    "        cols = len(matrix[0])\n",
    "\n",
    "        first_row_has_zero = False        \n",
    "        first_col_has_zero = False\n",
    "\n",
    "        # check if the first row contains zero\n",
    "        for c in range(cols):\n",
    "            if matrix[0][c] == 0:\n",
    "                first_row_has_zero = True\n",
    "                break\n",
    "\n",
    "        # check if the first column contains zero\n",
    "        for r in range(rows):\n",
    "            if matrix[r][0] == 0:\n",
    "                first_col_has_zero = True\n",
    "                break\n",
    "        \n",
    "        # use the first row and column as a note\n",
    "        for r in range(1, rows):\n",
    "            for c in range(1, cols):\n",
    "                if matrix[r][c] == 0:\n",
    "                    matrix[r][0] = 0\n",
    "                    matrix[0][c] = 0\n",
    "        \n",
    "        # set the marked rows to zero\n",
    "        for r in range(1, rows):\n",
    "            if matrix[r][0] == 0:\n",
    "                for c in range(1, cols):\n",
    "                    matrix[r][c] = 0\n",
    "\n",
    "        # set the marked columns to zero\n",
    "        for c in range(1, cols):\n",
    "            if matrix[0][c] == 0:\n",
    "                for r in range(1, rows):\n",
    "                    matrix[r][c] = 0\n",
    "    \n",
    "        # set the first row to zero if needed\n",
    "        if first_row_has_zero:\n",
    "            for c in range(cols):\n",
    "                matrix[0][c] = 0\n",
    "\n",
    "        # set the first column to zero if needed\n",
    "        if first_col_has_zero:\n",
    "            for r in range(rows):\n",
    "                matrix[r][0] = 0\n",
    "        \n",
    "        return matrix\n",
    "                    \n",
    "matrix = [[0,1,2,0],[3,4,5,2],[1,3,1,5]]\n",
    "sl=Solution()\n",
    "print(sl.setZeroes(matrix))"
   ]
  }
 ],
 "metadata": {
  "kernelspec": {
   "display_name": "Python 3",
   "language": "python",
   "name": "python3"
  },
  "language_info": {
   "codemirror_mode": {
    "name": "ipython",
    "version": 3
   },
   "file_extension": ".py",
   "mimetype": "text/x-python",
   "name": "python",
   "nbconvert_exporter": "python",
   "pygments_lexer": "ipython3",
   "version": "3.13.2"
  }
 },
 "nbformat": 4,
 "nbformat_minor": 5
}
