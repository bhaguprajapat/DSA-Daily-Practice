{
 "cells": [
  {
   "cell_type": "markdown",
   "id": "5afed051",
   "metadata": {},
   "source": [
    "1. Container With Most Water\n",
    "You are given an integer array height of length n. There are n vertical lines drawn such that the two endpoints of the ith line are (i, 0) and (i, height[i]).\n",
    "\n",
    "Find two lines that together with the x-axis form a container, such that the container contains the most water.\n",
    "\n",
    "Return the maximum amount of water a container can store.\n",
    "\n",
    "Notice that you may not slant the container.\n",
    "\n",
    "Input: height = [1,8,6,2,5,4,8,3,7]\n",
    "Output: 49\n",
    "Explanation: The above vertical lines are represented by array [1,8,6,2,5,4,8,3,7]. In this case, the max area of water (blue section) the container can contain is 49.\n",
    "Example 2:\n",
    "\n",
    "Input: height = [1,1]\n",
    "Output: 1"
   ]
  },
  {
   "cell_type": "code",
   "execution_count": null,
   "id": "4f7c8fb4",
   "metadata": {},
   "outputs": [
    {
     "name": "stdout",
     "output_type": "stream",
     "text": [
      "49\n"
     ]
    }
   ],
   "source": [
    "# brusht force approach\n",
    "# time complexity O(n2)\n",
    "class Solution(object):\n",
    "    def maxArea(self, height):\n",
    "        max_water=0\n",
    "        for i in range(len(height)):\n",
    "            for j in range(i+1,len(height)):\n",
    "                width=j-i\n",
    "                height_=min(height[j],height[i])\n",
    "                area=width*height_\n",
    "                max_water=max(max_water,area)\n",
    "        return max_water\n",
    "height = [1,8,6,2,5,4,8,3,7]\n",
    "sl=Solution()\n",
    "print(sl.maxArea(height))"
   ]
  },
  {
   "cell_type": "code",
   "execution_count": 3,
   "id": "e0b2e05f",
   "metadata": {},
   "outputs": [
    {
     "name": "stdout",
     "output_type": "stream",
     "text": [
      "49\n"
     ]
    }
   ],
   "source": [
    "class Solution(object):\n",
    "    def maxArea(self, height):\n",
    "        left,right=0,len(height)-1\n",
    "        max_water=0\n",
    "        while left<=right:\n",
    "            width=right-left\n",
    "            height_=min(height[left],height[right])\n",
    "            area=width*height_\n",
    "            max_water=max(max_water,area)\n",
    "            if height[left]<height[right]:\n",
    "               left+=1\n",
    "            else:\n",
    "               right-=1\n",
    "        return max_water\n",
    "               \n",
    "height = [1,8,6,2,5,4,8,3,7]\n",
    "sl=Solution()\n",
    "print(sl.maxArea(height))"
   ]
  }
 ],
 "metadata": {
  "kernelspec": {
   "display_name": "Python 3",
   "language": "python",
   "name": "python3"
  },
  "language_info": {
   "codemirror_mode": {
    "name": "ipython",
    "version": 3
   },
   "file_extension": ".py",
   "mimetype": "text/x-python",
   "name": "python",
   "nbconvert_exporter": "python",
   "pygments_lexer": "ipython3",
   "version": "3.13.2"
  }
 },
 "nbformat": 4,
 "nbformat_minor": 5
}
