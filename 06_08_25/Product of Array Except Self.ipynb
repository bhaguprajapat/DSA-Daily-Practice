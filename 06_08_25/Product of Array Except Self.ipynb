{
 "cells": [
  {
   "cell_type": "markdown",
   "id": "80979d72",
   "metadata": {},
   "source": [
    "1. Product of Array Except Self\n",
    "Given an integer array nums, return an array answer such that answer[i] is equal to the product of all the elements of nums except nums[i].\n",
    "\n",
    "The product of any prefix or suffix of nums is guaranteed to fit in a 32-bit integer.\n",
    "\n",
    "You must write an algorithm that runs in O(n) time and without using the division operation.\n",
    "Example 1:\n",
    "\n",
    "Input: nums = [1,2,3,4]\n",
    "Output: [24,12,8,6]\n",
    "Example 2:\n",
    "\n",
    "Input: nums = [-1,1,0,-3,3]\n",
    "Output: [0,0,9,0,0]\n",
    " "
   ]
  },
  {
   "cell_type": "code",
   "execution_count": 7,
   "id": "0ee9a1d6",
   "metadata": {},
   "outputs": [
    {
     "name": "stdout",
     "output_type": "stream",
     "text": [
      "[24, 12, 8, 6]\n"
     ]
    }
   ],
   "source": [
    "class Solution(object):\n",
    "    def productExceptSelf(self, nums):\n",
    "        total_re=1\n",
    "        ans=[]\n",
    "        for n in nums:\n",
    "            total_re*=n\n",
    "        for i in range(len(nums)):\n",
    "            ans.append(total_re//nums[i])\n",
    "        return ans\n",
    "\n",
    "sl=Solution()\n",
    "nums =[1,2,3,4]\n",
    "print(sl.productExceptSelf(nums))"
   ]
  },
  {
   "cell_type": "code",
   "execution_count": 8,
   "id": "2c042de4",
   "metadata": {},
   "outputs": [
    {
     "name": "stdout",
     "output_type": "stream",
     "text": [
      "[4, 12, 24]\n"
     ]
    }
   ],
   "source": [
    "class Solution(object):\n",
    "    def productExceptSelf(self, nums):\n",
    "        ans=[]\n",
    "        n=len(nums)-1\n",
    "        multiplaction=1\n",
    "        while n>0:\n",
    "            multiplaction*=nums[n]\n",
    "            ans.append(multiplaction)\n",
    "            n-=1\n",
    "        return ans\n",
    "\n",
    "sl=Solution()\n",
    "nums =[1,2,3,4]\n",
    "print(sl.productExceptSelf(nums))"
   ]
  }
 ],
 "metadata": {
  "kernelspec": {
   "display_name": "Python 3",
   "language": "python",
   "name": "python3"
  },
  "language_info": {
   "codemirror_mode": {
    "name": "ipython",
    "version": 3
   },
   "file_extension": ".py",
   "mimetype": "text/x-python",
   "name": "python",
   "nbconvert_exporter": "python",
   "pygments_lexer": "ipython3",
   "version": "3.13.2"
  }
 },
 "nbformat": 4,
 "nbformat_minor": 5
}
