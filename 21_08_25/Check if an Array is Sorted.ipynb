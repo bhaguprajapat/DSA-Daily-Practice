{
 "cells": [
  {
   "cell_type": "markdown",
   "id": "1f381156",
   "metadata": {},
   "source": [
    "Check if an Array is Sorted\n",
    "Given an array arr[], check if it is sorted in ascending order or not. Equal values are allowed in an array and two consecutive equal values are considered sorted.\n",
    "\n",
    "Examples: \n",
    "\n",
    "Input: arr[] = [10, 20, 30, 40, 50]\n",
    "Output: true\n",
    "Explanation: The given array is sorted.\n",
    "\n",
    "Input: arr[] = [90, 80, 100, 70, 40, 30]\n",
    "Output: false\n",
    "Explanation: The given array is not sorted."
   ]
  },
  {
   "cell_type": "code",
   "execution_count": 3,
   "id": "fc9abf97",
   "metadata": {},
   "outputs": [
    {
     "name": "stdout",
     "output_type": "stream",
     "text": [
      "False\n"
     ]
    }
   ],
   "source": [
    "class Solution:\n",
    "    def isSorted(self, arr) -> bool:\n",
    "        # code here\n",
    "        for i in range(len(arr)-1):\n",
    "            if arr[i]>arr[i+1]:\n",
    "                return False\n",
    "        return True\n",
    "sl=Solution()\n",
    "arr= [90, 80, 100, 70, 40, 30]\n",
    "print(sl.isSorted(arr))"
   ]
  }
 ],
 "metadata": {
  "kernelspec": {
   "display_name": "Python 3",
   "language": "python",
   "name": "python3"
  },
  "language_info": {
   "codemirror_mode": {
    "name": "ipython",
    "version": 3
   },
   "file_extension": ".py",
   "mimetype": "text/x-python",
   "name": "python",
   "nbconvert_exporter": "python",
   "pygments_lexer": "ipython3",
   "version": "3.13.2"
  }
 },
 "nbformat": 4,
 "nbformat_minor": 5
}
