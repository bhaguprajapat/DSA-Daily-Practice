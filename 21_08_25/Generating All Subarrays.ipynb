{
 "cells": [
  {
   "cell_type": "markdown",
   "id": "fff501d2",
   "metadata": {},
   "source": [
    "Generating All Subarrays\n",
    "Given an array, arr[], generate all possible subarrays using recursion and return them as a vector of vectors.\n",
    "The subarrays must be returned in the following order:\n",
    "      1. Subarrays starting from the first element, followed by subarrays starting from the second element, and so on.\n",
    "      2. For each starting index, subarrays should be in increasing length.\n",
    "\n",
    "Examples: \n",
    "\n",
    "Input: arr[] = [1, 2, 3]\n",
    "Output: [[1], [1, 2], [1, 2, 3], [2], [2, 3], [3]]\n",
    "Explanation: Starting with the first element, we generate subarrays [1], [1, 2], and [1, 2, 3]. Then, starting from the second element, we get [2] and [2, 3].  Finally, starting from the third element, we only get [3].\n",
    "Input: arr[] = [1, 2]\n",
    "Output: [[1], [1, 2], [2]]\n",
    "Explanation: Starting with the first element, we generate subarrays [1] and [1, 2]. Then, starting from the second element, we get [2].\n",
    "Input: arr[] = [1, 1]\n",
    "Output: [[1], [1, 1], [1]]\n",
    "Explanation: Starting with the first element, we generate subarrays [1] and [1, 1] (including both elements). Starting from the second element, we only get the subarray [1]."
   ]
  },
  {
   "cell_type": "code",
   "execution_count": null,
   "id": "fb7225dc",
   "metadata": {},
   "outputs": [],
   "source": [
    "#User function Template for python3\n",
    "class Solution:\n",
    "    def getSubArrays(self, arr):\n",
    "        pass\n",
    "sl=Solution()\n",
    "arr=[1,2,3]\n",
    "        "
   ]
  }
 ],
 "metadata": {
  "kernelspec": {
   "display_name": "Python 3",
   "language": "python",
   "name": "python3"
  },
  "language_info": {
   "name": "python",
   "version": "3.13.2"
  }
 },
 "nbformat": 4,
 "nbformat_minor": 5
}
