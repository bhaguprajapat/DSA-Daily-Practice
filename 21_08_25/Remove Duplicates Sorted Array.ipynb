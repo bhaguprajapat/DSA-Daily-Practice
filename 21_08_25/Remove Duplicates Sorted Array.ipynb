{
 "cells": [
  {
   "cell_type": "markdown",
   "id": "724f3122",
   "metadata": {},
   "source": [
    "Remove Duplicates Sorted Array\n",
    "You are given a sorted array arr[] containing positive integers. Your task is to remove all duplicate elements from this array such that each element appears only once. Return an array containing these distinct elements in the same order as they appeared.\n",
    "Examples :\n",
    "\n",
    "Input: arr[] = [2, 2, 2, 2, 2]\n",
    "Output: [2]\n",
    "Explanation: After removing all the duplicates only one instance of 2 will remain i.e. [2] so modified array will contains 2 at first position and you should return array containing [2] after modifying the array.\n",
    "Input: arr[] = [1, 2, 4]\n",
    "Output: [1, 2, 4]\n",
    "Explation:  As the array does not contain any duplicates so you should return [1, 2, 4]."
   ]
  },
  {
   "cell_type": "code",
   "execution_count": 3,
   "id": "6fd46ab9",
   "metadata": {},
   "outputs": [
    {
     "name": "stdout",
     "output_type": "stream",
     "text": [
      "[2, 14]\n"
     ]
    }
   ],
   "source": [
    "class Solution:\n",
    "    def removeDuplicates(self, arr):\n",
    "        # using inbuild method\n",
    "        return list(set(arr))\n",
    "sl=Solution()\n",
    "arr=[2, 14, 2, 2, 2]\n",
    "print(sl.removeDuplicates(arr))"
   ]
  },
  {
   "cell_type": "code",
   "execution_count": 4,
   "id": "bd2f3703",
   "metadata": {},
   "outputs": [
    {
     "name": "stdout",
     "output_type": "stream",
     "text": [
      "[2, 14]\n"
     ]
    }
   ],
   "source": [
    "class Solution:\n",
    "    def removeDuplicates(self, arr):\n",
    "        res=[]\n",
    "        for num in arr:\n",
    "            if num not in res:\n",
    "                res.append(num)\n",
    "        return res\n",
    "sl=Solution()\n",
    "arr=[2, 14, 2, 2, 2]\n",
    "print(sl.removeDuplicates(arr))"
   ]
  },
  {
   "cell_type": "code",
   "execution_count": 5,
   "id": "8005f9ff",
   "metadata": {},
   "outputs": [
    {
     "name": "stdout",
     "output_type": "stream",
     "text": [
      "2\n"
     ]
    }
   ],
   "source": [
    "class Solution:\n",
    "    def removeDuplicates(self, arr):\n",
    "        # To track seen elements\n",
    "        seen = set()\n",
    "        \n",
    "        # To maintain the new size of the array\n",
    "        idx = 0\n",
    "\n",
    "        for i in range(len(arr)):\n",
    "            if arr[i] not in seen:\n",
    "                seen.add(arr[i])\n",
    "                arr[idx] = arr[i]\n",
    "                idx += 1\n",
    "\n",
    "        # Return the size of the array \n",
    "        # with unique elements\n",
    "        return idx\n",
    "sl=Solution()\n",
    "arr=[2, 14, 2, 2, 2]\n",
    "print(sl.removeDuplicates(arr))"
   ]
  },
  {
   "cell_type": "code",
   "execution_count": 6,
   "id": "a12eb890",
   "metadata": {},
   "outputs": [
    {
     "name": "stdout",
     "output_type": "stream",
     "text": [
      "[2, 14, 2]\n"
     ]
    }
   ],
   "source": [
    "class Solution:\n",
    "    def removeDuplicates(self, arr):\n",
    "        if not arr:\n",
    "            return []\n",
    "        res = [arr[0]]\n",
    "        for x in arr[1:]:\n",
    "            if x != res[-1]:\n",
    "                res.append(x)\n",
    "        return res\n",
    "sl=Solution()\n",
    "arr=[2, 14, 2, 2, 2]\n",
    "print(sl.removeDuplicates(arr))"
   ]
  }
 ],
 "metadata": {
  "kernelspec": {
   "display_name": "Python 3",
   "language": "python",
   "name": "python3"
  },
  "language_info": {
   "codemirror_mode": {
    "name": "ipython",
    "version": 3
   },
   "file_extension": ".py",
   "mimetype": "text/x-python",
   "name": "python",
   "nbconvert_exporter": "python",
   "pygments_lexer": "ipython3",
   "version": "3.13.2"
  }
 },
 "nbformat": 4,
 "nbformat_minor": 5
}
