{
 "cells": [
  {
   "cell_type": "markdown",
   "id": "7369ab6b",
   "metadata": {},
   "source": [
    "Array Leaders\n",
    "\n",
    "You are given an array arr of positive integers. Your task is to find all the leaders in the array. An element is considered a leader if it is greater than or equal to all elements to its right. The rightmost element is always a leader.\n",
    "\n",
    "Examples:\n",
    "\n",
    "Input: arr = [16, 17, 4, 3, 5, 2]\n",
    "Output: [17, 5, 2]\n",
    "Explanation: Note that there is nothing greater on the right side of 17, 5 and, 2.\n",
    "Input: arr = [10, 4, 2, 4, 1]\n",
    "Output: [10, 4, 4, 1]\n",
    "Explanation: Note that both of the 4s are in output, as to be a leader an equal element is also allowed on the right. side\n",
    "Input: arr = [5, 10, 20, 40]\n",
    "Output: [40]\n",
    "Explanation: When an array is sorted in increasing order, only the rightmost element is leader.\n",
    "Input: arr = [30, 10, 10, 5]\n",
    "Output: [30, 10, 10, 5]\n",
    "Explanation: When an array is sorted in non-increasing order, all elements are leaders.\n",
    "Constraints:\n",
    "1 <= arr.size() <= 106\n",
    "0 <= arr[i] <= 106"
   ]
  },
  {
   "cell_type": "code",
   "execution_count": 5,
   "id": "11c17376",
   "metadata": {},
   "outputs": [
    {
     "name": "stdout",
     "output_type": "stream",
     "text": [
      "[40]\n"
     ]
    }
   ],
   "source": [
    "class Solution:\n",
    "    def leaders(self, arr):\n",
    "        # code here\n",
    "        max_right=arr[-1]\n",
    "        result=[max_right]\n",
    "        for i in range(len(arr)-2,-1,-1):\n",
    "            if max_right<=arr[i]:\n",
    "                result.append(arr[i])\n",
    "                max_right=arr[i]\n",
    "        result.reverse()\n",
    "        return result\n",
    "sl=Solution()\n",
    "arr =[5, 10, 20, 40]\n",
    "print(sl.leaders(arr))"
   ]
  }
 ],
 "metadata": {
  "kernelspec": {
   "display_name": "Python 3",
   "language": "python",
   "name": "python3"
  },
  "language_info": {
   "codemirror_mode": {
    "name": "ipython",
    "version": 3
   },
   "file_extension": ".py",
   "mimetype": "text/x-python",
   "name": "python",
   "nbconvert_exporter": "python",
   "pygments_lexer": "ipython3",
   "version": "3.13.2"
  }
 },
 "nbformat": 4,
 "nbformat_minor": 5
}
