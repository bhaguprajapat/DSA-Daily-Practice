{
 "cells": [
  {
   "cell_type": "markdown",
   "id": "bdf8aa56",
   "metadata": {},
   "source": [
    "1. Palindrome Linked List\n",
    "Given the head of a singly linked list, return true if it is a palindrome or false otherwise.\n",
    "\n",
    " \n",
    "\n",
    "Example 1:\n",
    "\n",
    "\n",
    "Input: head = [1,2,2,1]\n",
    "Output: true\n",
    "Example 2:\n",
    "\n",
    "\n",
    "Input: head = [1,2]\n",
    "Output: false\n",
    " "
   ]
  },
  {
   "cell_type": "code",
   "execution_count": 1,
   "id": "3eeaa1ad",
   "metadata": {},
   "outputs": [],
   "source": [
    "# Definition for singly-linked list.\n",
    "# class ListNode(object):\n",
    "#     def __init__(self, val=0, next=None):\n",
    "#         self.val = val\n",
    "#         self.next = next\n",
    "class Solution(object):\n",
    "    def isPalindrome(self, head):\n",
    "        arr=[]\n",
    "        while head:\n",
    "            arr.append(head.val)\n",
    "            head=head.next\n",
    "        left,right=0,len(arr)-1\n",
    "        while left<=right:\n",
    "            if arr[left] !=arr[right]:\n",
    "                return False\n",
    "                left+=1\n",
    "                right-=1\n",
    "        return True\n",
    "        "
   ]
  }
 ],
 "metadata": {
  "kernelspec": {
   "display_name": "Python 3",
   "language": "python",
   "name": "python3"
  },
  "language_info": {
   "codemirror_mode": {
    "name": "ipython",
    "version": 3
   },
   "file_extension": ".py",
   "mimetype": "text/x-python",
   "name": "python",
   "nbconvert_exporter": "python",
   "pygments_lexer": "ipython3",
   "version": "3.13.2"
  }
 },
 "nbformat": 4,
 "nbformat_minor": 5
}
