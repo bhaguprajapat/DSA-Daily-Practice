{
 "cells": [
  {
   "cell_type": "markdown",
   "id": "07c7bb21",
   "metadata": {},
   "source": [
    "search in rotated sorted array\n",
    "time complexity must be O(log n)\n",
    "arr=[3,4,5,6,0,1,2],target=0\n",
    "output=4\n",
    "arr=[40,50,60,70,10,20,30] , target=50\n",
    "output=1"
   ]
  },
  {
   "cell_type": "code",
   "execution_count": 26,
   "id": "d2a6d076",
   "metadata": {},
   "outputs": [
    {
     "name": "stdout",
     "output_type": "stream",
     "text": [
      "0\n"
     ]
    }
   ],
   "source": [
    "def FindRotated(arr,target):\n",
    "    left,right=0,len(arr)-1 # inilitaze the left and right pointer\n",
    "    while left<=right:\n",
    "        mid=(left+right)//2\n",
    "        # check target\n",
    "        if arr[mid]==target:\n",
    "            return mid\n",
    "        elif arr[mid]>=arr[left]: #check left side is sorted\n",
    "            if arr[left]<=target<arr[mid]:\n",
    "                right=mid-1\n",
    "            else:\n",
    "                left=mid+1\n",
    "        else: #check right side is sorted\n",
    "            if arr[mid]<target<=arr[right]:\n",
    "                left=mid+1\n",
    "            else:\n",
    "                right=mid-1\n",
    "    return -1\n",
    "arr=[5,1,3]\n",
    "target=5\n",
    "print(FindRotated(arr,target))"
   ]
  }
 ],
 "metadata": {
  "kernelspec": {
   "display_name": "Python 3",
   "language": "python",
   "name": "python3"
  },
  "language_info": {
   "codemirror_mode": {
    "name": "ipython",
    "version": 3
   },
   "file_extension": ".py",
   "mimetype": "text/x-python",
   "name": "python",
   "nbconvert_exporter": "python",
   "pygments_lexer": "ipython3",
   "version": "3.13.2"
  }
 },
 "nbformat": 4,
 "nbformat_minor": 5
}
