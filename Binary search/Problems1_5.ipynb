{
 "cells": [
  {
   "cell_type": "markdown",
   "id": "c5cb81a5",
   "metadata": {},
   "source": [
    "1. Search a 2D Matrix\n",
    "You are given an m x n integer matrix matrix with the following two properties:\n",
    "\n",
    "Each row is sorted in non-decreasing order.\n",
    "The first integer of each row is greater than the last integer of the previous row.\n",
    "Given an integer target, return true if target is in matrix or false otherwise.\n",
    "\n",
    "You must write a solution in O(log(m * n)) time complexity.\n",
    "Input: matrix = [[1,3,5,7],[10,11,16,20],[23,30,34,60]], target = 3\n",
    "Output: true\n",
    "Input: matrix = [[1,3,5,7],[10,11,16,20],[23,30,34,60]], target = 13\n",
    "Output: false"
   ]
  },
  {
   "cell_type": "code",
   "execution_count": 13,
   "id": "fe68ab93",
   "metadata": {},
   "outputs": [
    {
     "name": "stdout",
     "output_type": "stream",
     "text": [
      "True\n"
     ]
    }
   ],
   "source": [
    "def searchMatrix(matrix,target):\n",
    "    m=len(matrix)\n",
    "    n=len(matrix[0])\n",
    "    left=0\n",
    "    right=m*n-1\n",
    "    while left<=right:\n",
    "        # calculte mid\n",
    "        mid=(left+right)//2\n",
    "        i=mid//n #calculate row\n",
    "        j=mid%n #calculate row\n",
    "        # check target is exit ya not\n",
    "        if matrix[i][j]==target:\n",
    "            return True\n",
    "        elif matrix[i][j]<target:\n",
    "            left=mid+1\n",
    "        else:\n",
    "            right=mid-1\n",
    "    return False\n",
    "target = 3\n",
    "atrix =[[1,3,5,7],[10,11,16,20],[23,30,34,60]]\n",
    "print(searchMatrix(matrix,target))"
   ]
  },
  {
   "cell_type": "markdown",
   "id": "075c5415",
   "metadata": {},
   "source": [
    "2. Search in Rotated Sorted Array II\n",
    "There is an integer array nums sorted in non-decreasing order (not necessarily with distinct values).\n",
    "\n",
    "Before being passed to your function, nums is rotated at an unknown pivot index k (0 <= k < nums.length) such that the resulting array is [nums[k], nums[k+1], ..., nums[n-1], nums[0], nums[1], ..., nums[k-1]] (0-indexed). For example, [0,1,2,4,4,4,5,6,6,7] might be rotated at pivot index 5 and become [4,5,6,6,7,0,1,2,4,4].\n",
    "\n",
    "Given the array nums after the rotation and an integer target, return true if target is in nums, or false if it is not in nums.\n",
    "\n",
    "You must decrease the overall operation steps as much as possible.\n",
    "\n",
    " \n",
    "\n",
    "Example 1:\n",
    "\n",
    "Input: nums = [2,5,6,0,0,1,2], target = 0\n",
    "Output: true\n",
    "Example 2:\n",
    "\n",
    "Input: nums = [2,5,6,0,0,1,2], target = 3\n",
    "Output: false"
   ]
  },
  {
   "cell_type": "code",
   "execution_count": 15,
   "id": "72abcb16",
   "metadata": {},
   "outputs": [
    {
     "name": "stdout",
     "output_type": "stream",
     "text": [
      "True\n"
     ]
    }
   ],
   "source": [
    "def search(nums,target):\n",
    "    left,right=0,len(nums)-1\n",
    "    while left<=right:\n",
    "        mid=(left+right)//2\n",
    "        if nums[mid]==target:\n",
    "            return True\n",
    "        elif nums[mid] >= nums[left]: # check left side is sorted ya not\n",
    "            if nums[left]<=target<nums[mid]:\n",
    "                right=mid-1\n",
    "            else:\n",
    "                left=mid+1\n",
    "        else:\n",
    "            if nums[mid]<target<=nums[right]:\n",
    "                left=mid+1\n",
    "            else:\n",
    "                right=mid-1\n",
    "    return False\n",
    "nums ,target= [2,5,6,0,0,1,2], 0\n",
    "print(search(nums,target))"
   ]
  },
  {
   "cell_type": "markdown",
   "id": "ef3ffa00",
   "metadata": {},
   "source": [
    "3. Sqrt(x)\n",
    "Given a non-negative integer x, return the square root of x rounded down to the nearest integer. The returned integer should be non-negative as well.\n",
    "\n",
    "You must not use any built-in exponent function or operator.\n",
    "\n",
    "For example, do not use pow(x, 0.5) in c++ or x ** 0.5 in python.\n",
    " \n",
    "\n",
    "Example 1:\n",
    "\n",
    "Input: x = 4\n",
    "Output: 2\n",
    "Explanation: The square root of 4 is 2, so we return 2.\n",
    "Example 2:\n",
    "\n",
    "Input: x = 8\n",
    "Output: 2\n",
    "Explanation: The square root of 8 is 2.82842..., and since we round it down to the nearest integer, 2 is returned."
   ]
  },
  {
   "cell_type": "code",
   "execution_count": null,
   "id": "255ee457",
   "metadata": {},
   "outputs": [],
   "source": [
    "def mySqrt(x):\n",
    "    left,right=0,x #initilaze the left and right pointer\n",
    "    while left<=right:\n",
    "        # calculate mid\n",
    "        mid=(left+right)//2\n",
    "        if mid*mid==x:\n",
    "            return mid\n",
    "        elif mid*mid>x:\n",
    "            right=mid-1\n",
    "        else:\n",
    "            left=mid+1\n",
    "    return left-1\n",
    "x = 16\n",
    "print(mySqrt(x))"
   ]
  },
  {
   "cell_type": "markdown",
   "id": "d6c9d42a",
   "metadata": {},
   "source": [
    "4. Find Minimum in Rotated Sorted Array\n",
    "Suppose an array of length n sorted in ascending order is rotated between 1 and n times. For example, the array nums = [0,1,2,4,5,6,7] might become:\n",
    "\n",
    "[4,5,6,7,0,1,2] if it was rotated 4 times.\n",
    "[0,1,2,4,5,6,7] if it was rotated 7 times.\n",
    "Notice that rotating an array [a[0], a[1], a[2], ..., a[n-1]] 1 time results in the array [a[n-1], a[0], a[1], a[2], ..., a[n-2]].\n",
    "\n",
    "Given the sorted rotated array nums of unique elements, return the minimum element of this array.\n",
    "\n",
    "You must write an algorithm that runs in O(log n) time.\n",
    "\n",
    " \n",
    "\n",
    "Example 1:\n",
    "\n",
    "Input: nums = [3,4,5,1,2]\n",
    "Output: 1\n",
    "Explanation: The original array was [1,2,3,4,5] rotated 3 times.\n",
    "Example 2:\n",
    "\n",
    "Input: nums = [4,5,6,7,0,1,2]\n",
    "Output: 0\n",
    "Explanation: The original array was [0,1,2,4,5,6,7] and it was rotated 4 times.\n",
    "Example 3:\n",
    "\n",
    "Input: nums = [11,13,15,17]\n",
    "Output: 11\n",
    "Explanation: The original array was [11,13,15,17] and it was rotated 4 times. "
   ]
  },
  {
   "cell_type": "code",
   "execution_count": 22,
   "id": "c4f8bedf",
   "metadata": {},
   "outputs": [
    {
     "name": "stdout",
     "output_type": "stream",
     "text": [
      "0\n"
     ]
    }
   ],
   "source": [
    "def findMin(nums):\n",
    "    # inilitaze the left and right pointer\n",
    "    left,right=0,len(nums)-1\n",
    "    while left<=right:\n",
    "        # /calculate mid\n",
    "        mid=(left+right)//2\n",
    "        if left==right:\n",
    "            return nums[left]\n",
    "        elif nums[mid]>=nums[left]>nums[right]:\n",
    "            left=mid+1\n",
    "        else:\n",
    "            right=mid\n",
    "    return -1\n",
    "            \n",
    "nums = [4,5,6,7,0,1,2]\n",
    "print(findMin(nums))"
   ]
  },
  {
   "cell_type": "markdown",
   "id": "d3a3196d",
   "metadata": {},
   "source": [
    "5. Find Minimum in Rotated Sorted Array II\n",
    "Suppose an array of length n sorted in ascending order is rotated between 1 and n times. For example, the array nums = [0,1,4,4,5,6,7] might become:\n",
    "\n",
    "[4,5,6,7,0,1,4] if it was rotated 4 times.\n",
    "[0,1,4,4,5,6,7] if it was rotated 7 times.\n",
    "Notice that rotating an array [a[0], a[1], a[2], ..., a[n-1]] 1 time results in the array [a[n-1], a[0], a[1], a[2], ..., a[n-2]].\n",
    "\n",
    "Given the sorted rotated array nums that may contain duplicates, return the minimum element of this array.\n",
    "\n",
    "You must decrease the overall operation steps as much as possible.\n",
    "\n",
    " \n",
    "\n",
    "Example 1:\n",
    "\n",
    "Input: nums = [1,3,5]\n",
    "Output: 1\n",
    "Example 2:\n",
    "\n",
    "Input: nums = [2,2,2,0,1]\n",
    "Output: 0"
   ]
  },
  {
   "cell_type": "code",
   "execution_count": 3,
   "id": "83b5ebc8",
   "metadata": {},
   "outputs": [
    {
     "name": "stdout",
     "output_type": "stream",
     "text": [
      "1\n"
     ]
    }
   ],
   "source": [
    "def findMin(nums):\n",
    "    # define left and right pointer\n",
    "    left,right=0,len(nums)-1\n",
    "    while left<right:\n",
    "        # calculate mid\n",
    "        mid=left+(right-left)//2\n",
    "        if nums[mid]>nums[right]:\n",
    "            left=mid+1\n",
    "        else:\n",
    "            right=mid if nums[right] != nums[mid] else right - 1\n",
    "    return nums[left]\n",
    "nums = [1,3,5]\n",
    "print(findMin(nums))"
   ]
  }
 ],
 "metadata": {
  "kernelspec": {
   "display_name": "Python 3",
   "language": "python",
   "name": "python3"
  },
  "language_info": {
   "codemirror_mode": {
    "name": "ipython",
    "version": 3
   },
   "file_extension": ".py",
   "mimetype": "text/x-python",
   "name": "python",
   "nbconvert_exporter": "python",
   "pygments_lexer": "ipython3",
   "version": "3.13.2"
  }
 },
 "nbformat": 4,
 "nbformat_minor": 5
}
