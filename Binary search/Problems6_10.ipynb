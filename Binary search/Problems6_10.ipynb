{
 "cells": [
  {
   "cell_type": "markdown",
   "id": "e5a599f6",
   "metadata": {},
   "source": [
    "1. Pow(x, n)\n",
    "Implement pow(x, n), which calculates x raised to the power n (i.e., xn).\n",
    "\n",
    " \n",
    "\n",
    "Example 1:\n",
    "\n",
    "Input: x = 2.00000, n = 10\n",
    "Output: 1024.00000\n",
    "Example 2:\n",
    "\n",
    "Input: x = 2.10000, n = 3\n",
    "Output: 9.26100\n",
    "Example 3:\n",
    "\n",
    "Input: x = 2.00000, n = -2\n",
    "Output: 0.25000\n",
    "Explanation: 2-2 = 1/22 = 1/4 = 0.25\n",
    " \n",
    "\n",
    "Constraints:\n",
    "\n",
    "-100.0 < x < 100.0\n",
    "-231 <= n <= 231-1\n",
    "n is an integer.\n",
    "Either x is not zero or n > 0.\n",
    "-104 <= xn <= 104"
   ]
  },
  {
   "cell_type": "code",
   "execution_count": 1,
   "id": "4b0eb3d1",
   "metadata": {},
   "outputs": [
    {
     "name": "stdout",
     "output_type": "stream",
     "text": [
      "0.25\n"
     ]
    }
   ],
   "source": [
    "class Solution(object):\n",
    "    def solve(self,x,n):\n",
    "        if n==0:\n",
    "            return 1 #pwer of 0 is 1\n",
    "        temp=self.myPow(x,n//2)\n",
    "        temp=temp*temp\n",
    "        if n%2==0: #if even, return just without doing anything\n",
    "            return temp\n",
    "        else:\n",
    "            return temp*x #if odd,return by multiplying once more with given number\n",
    "    def myPow(self, x, n):\n",
    "        ans=self.solve(x,abs(n))\n",
    "        if n<0:\n",
    "            return 1/ans\n",
    "        return ans\n",
    "sl=Solution()\n",
    "x = 2.00000\n",
    "n = -2\n",
    "print(sl.myPow(x,n))"
   ]
  },
  {
   "cell_type": "markdown",
   "id": "d91598c4",
   "metadata": {},
   "source": [
    "2. Best Time to Buy and Sell Stock\n",
    "You are given an array prices where prices[i] is the price of a given stock on the ith day.\n",
    "\n",
    "You want to maximize your profit by choosing a single day to buy one stock and choosing a different day in the future to sell that stock.\n",
    "\n",
    "Return the maximum profit you can achieve from this transaction. If you cannot achieve any profit, return 0.\n",
    "\n",
    " \n",
    "\n",
    "Example 1:\n",
    "\n",
    "Input: prices = [7,1,5,3,6,4]\n",
    "Output: 5\n",
    "Explanation: Buy on day 2 (price = 1) and sell on day 5 (price = 6), profit = 6-1 = 5.\n",
    "Note that buying on day 2 and selling on day 1 is not allowed because you must buy before you sell.\n",
    "Example 2:\n",
    "\n",
    "Input: prices = [7,6,4,3,1]\n",
    "Output: 0\n",
    "Explanation: In this case, no transactions are done and the max profit = 0."
   ]
  },
  {
   "cell_type": "code",
   "execution_count": null,
   "id": "98bd3c22",
   "metadata": {},
   "outputs": [
    {
     "name": "stdout",
     "output_type": "stream",
     "text": [
      "0\n"
     ]
    }
   ],
   "source": [
    "# warst case\n",
    "def maxProfit(prices):\n",
    "    # initilaze the max_profit\n",
    "    max_profit=0\n",
    "    for i in range(len(prices)):\n",
    "        for j in range(i+1,len(prices)):\n",
    "            if prices[i]<prices[j]:\n",
    "                max_profit=max(max_profit,prices[j]-prices[i])\n",
    "    return max_profit\n",
    "prices = [7,1,4,3,6]\n",
    "print(maxProfit(prices))"
   ]
  },
  {
   "cell_type": "code",
   "execution_count": 6,
   "id": "e61c25ee",
   "metadata": {},
   "outputs": [
    {
     "name": "stdout",
     "output_type": "stream",
     "text": [
      "3\n"
     ]
    }
   ],
   "source": [
    "def maxProfit(prices):\n",
    "    # inilitiaze the max price and best day of buy\n",
    "    max_profit,best_buy=0,prices[0]\n",
    "    for i in range(len(prices)):\n",
    "        # calculate max profile\n",
    "        if prices[i]>best_buy:\n",
    "            max_profit=max(max_profit,prices[i]-best_buy)\n",
    "        best_buy=min(best_buy,prices[i])\n",
    "    return max_profit\n",
    "prices = [7,1,4,3,1]\n",
    "print(maxProfit(prices))"
   ]
  },
  {
   "cell_type": "markdown",
   "id": "56687daa",
   "metadata": {},
   "source": [
    "3. Best Time to Buy and Sell Stock II\n",
    "You are given an integer array prices where prices[i] is the price of a given stock on the ith day.\n",
    "\n",
    "On each day, you may decide to buy and/or sell the stock. You can only hold at most one share of the stock at any time. However, you can buy it then immediately sell it on the same day.\n",
    "\n",
    "Find and return the maximum profit you can achieve.\n",
    "\n",
    " \n",
    "\n",
    "Example 1:\n",
    "\n",
    "Input: prices = [7,1,5,3,6,4]\n",
    "Output: 7\n",
    "Explanation: Buy on day 2 (price = 1) and sell on day 3 (price = 5), profit = 5-1 = 4.\n",
    "Then buy on day 4 (price = 3) and sell on day 5 (price = 6), profit = 6-3 = 3.\n",
    "Total profit is 4 + 3 = 7.\n",
    "Example 2:\n",
    "\n",
    "Input: prices = [1,2,3,4,5]\n",
    "Output: 4\n",
    "Explanation: Buy on day 1 (price = 1) and sell on day 5 (price = 5), profit = 5-1 = 4.\n",
    "Total profit is 4.\n",
    "Example 3:\n",
    "\n",
    "Input: prices = [7,6,4,3,1]\n",
    "Output: 0\n",
    "Explanation: There is no way to make a positive profit, so we never buy the stock to achieve the maximum profit of 0.\n",
    " \n",
    "\n",
    "Constraints:\n",
    "\n",
    "1 <= prices.length <= 3 * 104\n",
    "0 <= prices[i] <= 104"
   ]
  },
  {
   "cell_type": "code",
   "execution_count": 9,
   "id": "4eb4ef83",
   "metadata": {},
   "outputs": [
    {
     "name": "stdout",
     "output_type": "stream",
     "text": [
      "4\n"
     ]
    }
   ],
   "source": [
    "def maxProfit(prices):\n",
    "    # inilitaze the total profit of each day\n",
    "    total_profit=0\n",
    "    # run on each day\n",
    "    for i in range(len(prices)-1):\n",
    "        # check current day price if less then next day price\n",
    "        if prices[i]<prices[i+1]:\n",
    "            # calculate profit\n",
    "            profit=prices[i+1]-prices[i]\n",
    "            # calcualte total max profit\n",
    "            total_profit+=profit\n",
    "    return total_profit\n",
    "prices = [1,2,3,4,5]\n",
    "print(maxProfit(prices))"
   ]
  }
 ],
 "metadata": {
  "kernelspec": {
   "display_name": "Python 3",
   "language": "python",
   "name": "python3"
  },
  "language_info": {
   "codemirror_mode": {
    "name": "ipython",
    "version": 3
   },
   "file_extension": ".py",
   "mimetype": "text/x-python",
   "name": "python",
   "nbconvert_exporter": "python",
   "pygments_lexer": "ipython3",
   "version": "3.13.2"
  }
 },
 "nbformat": 4,
 "nbformat_minor": 5
}
