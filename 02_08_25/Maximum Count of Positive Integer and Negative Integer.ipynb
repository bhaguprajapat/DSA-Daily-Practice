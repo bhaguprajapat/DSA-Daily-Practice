{
 "cells": [
  {
   "cell_type": "markdown",
   "id": "4e66ca61",
   "metadata": {},
   "source": [
    "1. Maximum Count of Positive Integer and Negative Integer\n",
    "Given an array nums sorted in non-decreasing order, return the maximum between the number of positive integers and the number of negative integers.\n",
    "\n",
    "In other words, if the number of positive integers in nums is pos and the number of negative integers is neg, then return the maximum of pos and neg.\n",
    "Note that 0 is neither positive nor negative.\n",
    "\n",
    " \n",
    "\n",
    "Example 1:\n",
    "\n",
    "Input: nums = [-2,-1,-1,1,2,3]\n",
    "Output: 3\n",
    "Explanation: There are 3 positive integers and 3 negative integers. The maximum count among them is 3.\n",
    "Example 2:\n",
    "\n",
    "Input: nums = [-3,-2,-1,0,0,1,2]\n",
    "Output: 3\n",
    "Explanation: There are 2 positive integers and 3 negative integers. The maximum count among them is 3.\n",
    "Example 3:\n",
    "\n",
    "Input: nums = [5,20,66,1314]\n",
    "Output: 4\n",
    "Explanation: There are 4 positive integers and 0 negative integers. The maximum count among them is 4."
   ]
  },
  {
   "cell_type": "code",
   "execution_count": 3,
   "id": "4766bb97",
   "metadata": {},
   "outputs": [
    {
     "name": "stdout",
     "output_type": "stream",
     "text": [
      "4\n"
     ]
    }
   ],
   "source": [
    "class Solution:\n",
    "    def maximumCount(self, nums):\n",
    "        positive,nagative=0,0\n",
    "        for n in nums:\n",
    "            if n>0:\n",
    "                positive+=1\n",
    "            elif n<0:\n",
    "                nagative+=1\n",
    "        ans=max(positive,nagative)\n",
    "        return ans\n",
    "nums = [5,20,66,1314]\n",
    "sl= Solution()\n",
    "print(sl.maximumCount(nums))"
   ]
  }
 ],
 "metadata": {
  "kernelspec": {
   "display_name": "Python 3",
   "language": "python",
   "name": "python3"
  },
  "language_info": {
   "codemirror_mode": {
    "name": "ipython",
    "version": 3
   },
   "file_extension": ".py",
   "mimetype": "text/x-python",
   "name": "python",
   "nbconvert_exporter": "python",
   "pygments_lexer": "ipython3",
   "version": "3.13.2"
  }
 },
 "nbformat": 4,
 "nbformat_minor": 5
}
