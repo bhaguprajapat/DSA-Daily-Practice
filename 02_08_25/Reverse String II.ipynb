{
 "cells": [
  {
   "cell_type": "markdown",
   "id": "e05638cf",
   "metadata": {},
   "source": [
    "1. Reverse String II\n",
    "Given a string s and an integer k, reverse the first k characters for every 2k characters counting from the start of the string.\n",
    "\n",
    "If there are fewer than k characters left, reverse all of them. If there are less than 2k but greater than or equal to k characters, then reverse the first k characters and leave the other as original.\n",
    "\n",
    " \n",
    "\n",
    "Example 1:\n",
    "\n",
    "Input: s = \"abcdefg\", k = 2\n",
    "Output: \"bacdfeg\"\n",
    "Example 2:\n",
    "\n",
    "Input: s = \"abcd\", k = 2\n",
    "Output: \"bacd\"\n",
    " "
   ]
  },
  {
   "cell_type": "markdown",
   "id": "f4eb922b",
   "metadata": {},
   "source": [
    "Approach\n",
    "Convert the string to a list (strings are immutable).\n",
    "Loop through it in steps of 2k.\n",
    "Reverse the first k characters of each 2k window.\n",
    "Join the result back into a string.\n",
    "This solves the problem in-place with minimal logic.\n",
    "\n",
    "Complexity\n",
    "Time Complexity: ( O(n) ) — we visit each character once.\n",
    "Space Complexity: ( O(n) ) — due to list conversion."
   ]
  },
  {
   "cell_type": "code",
   "execution_count": 4,
   "id": "5068c6bb",
   "metadata": {},
   "outputs": [
    {
     "name": "stdout",
     "output_type": "stream",
     "text": [
      "bacd\n"
     ]
    }
   ],
   "source": [
    "class Solution:\n",
    "    def reverseStr(self, s: str, k: int) -> str:\n",
    "        n=len(s)\n",
    "        s=list(s)\n",
    "        for i in range(0,n,2*k):\n",
    "            s[i:i+k]=reversed(s[i:i+k])\n",
    "        return \"\".join(s)\n",
    "s = \"abcd\"\n",
    "k = 2\n",
    "sl=Solution()\n",
    "print(sl.reverseStr(s,k))"
   ]
  }
 ],
 "metadata": {
  "kernelspec": {
   "display_name": "Python 3",
   "language": "python",
   "name": "python3"
  },
  "language_info": {
   "codemirror_mode": {
    "name": "ipython",
    "version": 3
   },
   "file_extension": ".py",
   "mimetype": "text/x-python",
   "name": "python",
   "nbconvert_exporter": "python",
   "pygments_lexer": "ipython3",
   "version": "3.13.2"
  }
 },
 "nbformat": 4,
 "nbformat_minor": 5
}
