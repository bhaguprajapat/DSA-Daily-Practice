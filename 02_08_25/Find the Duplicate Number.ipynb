{
 "cells": [
  {
   "cell_type": "markdown",
   "id": "c2e20159",
   "metadata": {},
   "source": [
    "1. Find the Duplicate Number\n",
    "Given an array of integers nums containing n + 1 integers where each integer is in the range [1, n] inclusive.\n",
    "\n",
    "There is only one repeated number in nums, return this repeated number.\n",
    "\n",
    "You must solve the problem without modifying the array nums and using only constant extra space.\n",
    "Example 1:\n",
    "\n",
    "Input: nums = [1,3,4,2,2]\n",
    "Output: 2\n",
    "Example 2:\n",
    "\n",
    "Input: nums = [3,1,3,4,2]\n",
    "Output: 3\n",
    "Example 3:\n",
    "\n",
    "Input: nums = [3,3,3,3,3]\n",
    "Output: 3"
   ]
  },
  {
   "cell_type": "code",
   "execution_count": 3,
   "id": "589bf015",
   "metadata": {},
   "outputs": [
    {
     "name": "stdout",
     "output_type": "stream",
     "text": [
      "3\n"
     ]
    }
   ],
   "source": [
    "class Solution:\n",
    "    def findDuplicate(self, nums):\n",
    "        # solve this proble using O(n2)\n",
    "        for i in range(len(nums)):\n",
    "            for j in range(i+1,len(nums)):\n",
    "                if nums[i]==nums[j]:\n",
    "                    return nums[i]\n",
    "        return -1\n",
    "nums =[3,3,3,3,3]  \n",
    "sl=Solution()\n",
    "print(sl.findDuplicate(nums))    "
   ]
  },
  {
   "cell_type": "code",
   "execution_count": null,
   "id": "0552f19e",
   "metadata": {},
   "outputs": [
    {
     "name": "stdout",
     "output_type": "stream",
     "text": [
      "2\n"
     ]
    }
   ],
   "source": [
    "class Solution:\n",
    "    def findDuplicate(self, nums):\n",
    "        # solve this proble using O(n2)\n",
    "        lst=[]\n",
    "        for n in nums:\n",
    "            if n in lst:\n",
    "                return n\n",
    "            lst.append(n)\n",
    "        return -1\n",
    "nums =[1,3,4,2,2]\n",
    "sl=Solution()\n",
    "print(sl.findDuplicate(nums))    "
   ]
  },
  {
   "cell_type": "code",
   "execution_count": 7,
   "id": "9ca8955d",
   "metadata": {},
   "outputs": [
    {
     "name": "stdout",
     "output_type": "stream",
     "text": [
      "2\n"
     ]
    }
   ],
   "source": [
    "class Solution:\n",
    "    def findDuplicate(self, nums):\n",
    "        slow = nums[0]\n",
    "        fast = nums[0]\n",
    "        \n",
    "        while True:\n",
    "            slow = nums[slow]\n",
    "            fast = nums[nums[fast]]\n",
    "            if slow == fast:\n",
    "                break\n",
    "        \n",
    "        slow2 = nums[0]\n",
    "        while slow != slow2:\n",
    "            slow = nums[slow]\n",
    "            slow2 = nums[slow2]\n",
    "\n",
    "        return slow\n",
    "nums =[1,3,4,2,2]\n",
    "sl=Solution()\n",
    "print(sl.findDuplicate(nums))    "
   ]
  }
 ],
 "metadata": {
  "kernelspec": {
   "display_name": "Python 3",
   "language": "python",
   "name": "python3"
  },
  "language_info": {
   "codemirror_mode": {
    "name": "ipython",
    "version": 3
   },
   "file_extension": ".py",
   "mimetype": "text/x-python",
   "name": "python",
   "nbconvert_exporter": "python",
   "pygments_lexer": "ipython3",
   "version": "3.13.2"
  }
 },
 "nbformat": 4,
 "nbformat_minor": 5
}
