{
 "cells": [
  {
   "cell_type": "markdown",
   "id": "b9d5a632",
   "metadata": {},
   "source": [
    "1. Pow(x, n)\n",
    "Implement pow(x, n), which calculates x raised to the power n (i.e., xn).\n",
    "\n",
    " \n",
    "\n",
    "Example 1:\n",
    "\n",
    "Input: x = 2.00000, n = 10\n",
    "Output: 1024.00000\n",
    "Example 2:\n",
    "\n",
    "Input: x = 2.10000, n = 3\n",
    "Output: 9.26100\n",
    "Example 3:\n",
    "\n",
    "Input: x = 2.00000, n = -2\n",
    "Output: 0.25000\n",
    "Explanation: 2-2 = 1/22 = 1/4 = 0.25\n",
    " \n",
    "\n",
    "Constraints:\n",
    "\n",
    "-100.0 < x < 100.0\n",
    "-231 <= n <= 231-1\n",
    "n is an integer.\n",
    "Either x is not zero or n > 0.\n",
    "-104 <= xn <= 104"
   ]
  },
  {
   "cell_type": "code",
   "execution_count": 9,
   "id": "bcf53354",
   "metadata": {},
   "outputs": [
    {
     "name": "stdout",
     "output_type": "stream",
     "text": [
      "0.1079796998164345\n"
     ]
    }
   ],
   "source": [
    "class Solution:\n",
    "    def myPow(self, x, n):\n",
    "        binary_form,ans=n,1\n",
    "        if binary_form<0:\n",
    "            x=1/x\n",
    "            binary_form= -binary_form\n",
    "        while binary_form>0:\n",
    "            if binary_form%2==1:\n",
    "                ans*=x\n",
    "            x*=x\n",
    "            binary_form//=2\n",
    "        return ans\n",
    "sl=Solution()\n",
    "x,n = 2.10000 , -3\n",
    "print(sl.myPow(x,n))"
   ]
  }
 ],
 "metadata": {
  "kernelspec": {
   "display_name": "Python 3",
   "language": "python",
   "name": "python3"
  },
  "language_info": {
   "codemirror_mode": {
    "name": "ipython",
    "version": 3
   },
   "file_extension": ".py",
   "mimetype": "text/x-python",
   "name": "python",
   "nbconvert_exporter": "python",
   "pygments_lexer": "ipython3",
   "version": "3.13.2"
  }
 },
 "nbformat": 4,
 "nbformat_minor": 5
}
