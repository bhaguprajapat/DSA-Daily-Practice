{
 "cells": [
  {
   "cell_type": "markdown",
   "id": "315b52f2",
   "metadata": {},
   "source": [
    "Number of Zero-Filled Subarrays\n",
    "Given an integer array nums, return the number of subarrays filled with 0.\n",
    "\n",
    "A subarray is a contiguous non-empty sequence of elements within an array.\n",
    "\n",
    " \n",
    "\n",
    "Example 1:\n",
    "\n",
    "Input: nums = [1,3,0,0,2,0,0,4]\n",
    "Output: 6\n",
    "Explanation: \n",
    "There are 4 occurrences of [0] as a subarray.\n",
    "There are 2 occurrences of [0,0] as a subarray.\n",
    "There is no occurrence of a subarray with a size more than 2 filled with 0. Therefore, we return 6.\n",
    "Example 2:\n",
    "\n",
    "Input: nums = [0,0,0,2,0,0]\n",
    "Output: 9\n",
    "Explanation:\n",
    "There are 5 occurrences of [0] as a subarray.\n",
    "There are 3 occurrences of [0,0] as a subarray.\n",
    "There is 1 occurrence of [0,0,0] as a subarray.\n",
    "There is no occurrence of a subarray with a size more than 3 filled with 0. Therefore, we return 9.\n",
    "Example 3:\n",
    "\n",
    "Input: nums = [2,10,2019]\n",
    "Output: 0\n",
    "Explanation: There is no subarray filled with 0. Therefore, we return 0.\n",
    " \n",
    "\n",
    "Constraints:\n",
    "\n",
    "1 <= nums.length <= 105\n",
    "-109 <= nums[i] <= 109\n",
    " \n"
   ]
  },
  {
   "cell_type": "code",
   "execution_count": 3,
   "id": "c8196e88",
   "metadata": {},
   "outputs": [
    {
     "name": "stdout",
     "output_type": "stream",
     "text": [
      "9\n"
     ]
    }
   ],
   "source": [
    "class Solution:\n",
    "    def zeroFilledSubarray(self, nums):\n",
    "        cnt, streak = 0, 0\n",
    "        for num in nums:\n",
    "            if num == 0:\n",
    "                streak += 1\n",
    "                cnt += streak\n",
    "            else:\n",
    "                streak = 0\n",
    "        return cnt\n",
    "sl=Solution()\n",
    "nums = [0,0,0,2,0,0]\n",
    "print(sl.zeroFilledSubarray(nums))\n",
    "            "
   ]
  }
 ],
 "metadata": {
  "kernelspec": {
   "display_name": "Python 3",
   "language": "python",
   "name": "python3"
  },
  "language_info": {
   "codemirror_mode": {
    "name": "ipython",
    "version": 3
   },
   "file_extension": ".py",
   "mimetype": "text/x-python",
   "name": "python",
   "nbconvert_exporter": "python",
   "pygments_lexer": "ipython3",
   "version": "3.13.2"
  }
 },
 "nbformat": 4,
 "nbformat_minor": 5
}
