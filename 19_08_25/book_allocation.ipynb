{
 "cells": [
  {
   "cell_type": "markdown",
   "id": "465aa371",
   "metadata": {},
   "source": [
    "Given an array arr[] of integers, where each element arr[i] represents the number of pages in the i-th book. You also have an integer k representing the number of students. The task is to allocate books to each student such that:\n",
    "\n",
    "Each student receives atleast one book.\n",
    "Each student is assigned a contiguous sequence of books.\n",
    "No book is assigned to more than one student.\n",
    "The objective is to minimize the maximum number of pages assigned to any student. In other words, out of all possible allocations, find the arrangement where the student who receives the most pages still has the smallest possible maximum.\n",
    "\n",
    "Note: If it is not possible to allocate books to all students, return -1.\n",
    "\n",
    "Examples:\n",
    "\n",
    "Input: arr[] = [12, 34, 67, 90], k = 2\n",
    "Output: 113\n",
    "Explanation: Allocation can be done in following ways:\n",
    "=> [12] and [34, 67, 90] Maximum Pages = 191\n",
    "=> [12, 34] and [67, 90] Maximum Pages = 157\n",
    "=> [12, 34, 67] and [90] Maximum Pages = 113.\n",
    "The third combination has the minimum pages assigned to a student which is 113.\n",
    "Input: arr[] = [15, 17, 20], k = 5\n",
    "Output: -1\n",
    "Explanation: Since there are more students than total books, it's impossible to allocate a book to each student."
   ]
  },
  {
   "cell_type": "code",
   "execution_count": 12,
   "id": "bb43cae4",
   "metadata": {},
   "outputs": [
    {
     "name": "stdout",
     "output_type": "stream",
     "text": [
      "-1\n"
     ]
    }
   ],
   "source": [
    "class Solution:\n",
    "    def findPages(self, arr, k):\n",
    "        n = len(arr)\n",
    "        \n",
    "        # If students are more than books, not possible\n",
    "        if k > n:\n",
    "            return -1\n",
    "        left, right = max(arr), sum(arr)   # ✅ fix lower bound\n",
    "        ans = -1\n",
    "        while left <= right:\n",
    "            mid = left + (right - left) // 2\n",
    "            if self.isValid(mid, arr, k):\n",
    "                ans = mid\n",
    "                right = mid - 1\n",
    "            else:\n",
    "                left = mid + 1\n",
    "        return ans\n",
    "    \n",
    "    def isValid(self, mid, arr, k):\n",
    "        student, pages = 1, 0\n",
    "        n = len(arr)\n",
    "        for i in range(n):\n",
    "            if arr[i] > mid:   # a book bigger than mid cannot be assigned\n",
    "                return False\n",
    "            elif pages + arr[i] <= mid:\n",
    "                pages += arr[i]\n",
    "            else:\n",
    "                student += 1\n",
    "                pages = arr[i]\n",
    "        return student <= k\n",
    "\n",
    "\n",
    "arr = [15, 17, 20]\n",
    "k = 5\n",
    "sl = Solution()\n",
    "print(sl.findPages(arr, k))  # ✅ Output: 20\n"
   ]
  }
 ],
 "metadata": {
  "kernelspec": {
   "display_name": "Python 3",
   "language": "python",
   "name": "python3"
  },
  "language_info": {
   "codemirror_mode": {
    "name": "ipython",
    "version": 3
   },
   "file_extension": ".py",
   "mimetype": "text/x-python",
   "name": "python",
   "nbconvert_exporter": "python",
   "pygments_lexer": "ipython3",
   "version": "3.13.2"
  }
 },
 "nbformat": 4,
 "nbformat_minor": 5
}
