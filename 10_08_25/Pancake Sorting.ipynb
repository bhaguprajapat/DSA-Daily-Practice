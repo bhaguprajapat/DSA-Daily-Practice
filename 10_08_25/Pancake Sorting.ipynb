{
 "cells": [
  {
   "cell_type": "markdown",
   "id": "a2a27804",
   "metadata": {},
   "source": [
    "1. Pancake Sorting\n",
    "Given an array of integers arr, sort the array by performing a series of pancake flips.\n",
    "\n",
    "In one pancake flip we do the following steps:\n",
    "\n",
    "Choose an integer k where 1 <= k <= arr.length.\n",
    "Reverse the sub-array arr[0...k-1] (0-indexed).\n",
    "For example, if arr = [3,2,1,4] and we performed a pancake flip choosing k = 3, we reverse the sub-array [3,2,1], so arr = [1,2,3,4] after the pancake flip at k = 3.\n",
    "\n",
    "Return an array of the k-values corresponding to a sequence of pancake flips that sort arr. Any valid answer that sorts the array within 10 * arr.length flips will be judged as correct.\n",
    "\n",
    " \n",
    "\n",
    "Example 1:\n",
    "\n",
    "Input: arr = [3,2,4,1]\n",
    "Output: [4,2,4,3]\n",
    "Explanation: \n",
    "We perform 4 pancake flips, with k values 4, 2, 4, and 3.\n",
    "Starting state: arr = [3, 2, 4, 1]\n",
    "After 1st flip (k = 4): arr = [1, 4, 2, 3]\n",
    "After 2nd flip (k = 2): arr = [4, 1, 2, 3]\n",
    "After 3rd flip (k = 4): arr = [3, 2, 1, 4]\n",
    "After 4th flip (k = 3): arr = [1, 2, 3, 4], which is sorted.\n",
    "Example 2:\n",
    "\n",
    "Input: arr = [1,2,3]\n",
    "Output: []\n",
    "Explanation: The input is already sorted, so there is no need to flip anything.\n",
    "Note that other answers, such as [3, 3], would also be accepted.\n",
    " \n",
    "\n",
    "Constraints:\n",
    "\n",
    "1 <= arr.length <= 100\n",
    "1 <= arr[i] <= arr.length\n",
    "All integers in arr are unique (i.e. arr is a permutation of the integers from 1 to arr.length).\n",
    "\n",
    "Seen this question in a real interview before?\n",
    "1/5\n",
    "Yes\n",
    "No\n",
    "Accepted\n",
    "107,382/150.6K\n",
    "Acceptance Rate\n",
    "71.3%\n",
    "Topics\n",
    "icon\n",
    "Companies\n",
    "Discussion (35)\n",
    "\n",
    "Choose a type\n",
    "Copyright © 2025 LeetCode. All rights reserved.\n",
    "\n",
    "1.6K\n",
    "\n",
    "\n",
    "35\n",
    "\n",
    "\n",
    "11 Online\n",
    "Python\n",
    "Auto\n",
    "\n",
    "\n",
    "\n",
    "\n",
    "4"
   ]
  },
  {
   "cell_type": "code",
   "execution_count": 2,
   "id": "50a66dd9",
   "metadata": {},
   "outputs": [
    {
     "name": "stdout",
     "output_type": "stream",
     "text": [
      "[3, 4, 2, 3, 1, 2]\n"
     ]
    }
   ],
   "source": [
    "class Solution(object):\n",
    "    def pancakeSort(self, arr):\n",
    "        \"\"\"\n",
    "        :type arr: List[int]\n",
    "        :rtype: List[int]\n",
    "        \"\"\"\n",
    "        res=[]\n",
    "        for x in range(len(arr),1,-1):\n",
    "            i=arr.index(x)\n",
    "            res.extend([i+1,x])\n",
    "            arr=arr[:i:-1]+arr[:i]\n",
    "        return res\n",
    "sl=Solution()\n",
    "arr = [3,2,4,1]\n",
    "print(sl.pancakeSort(arr))\n",
    "        "
   ]
  }
 ],
 "metadata": {
  "kernelspec": {
   "display_name": "Python 3",
   "language": "python",
   "name": "python3"
  },
  "language_info": {
   "codemirror_mode": {
    "name": "ipython",
    "version": 3
   },
   "file_extension": ".py",
   "mimetype": "text/x-python",
   "name": "python",
   "nbconvert_exporter": "python",
   "pygments_lexer": "ipython3",
   "version": "3.13.2"
  }
 },
 "nbformat": 4,
 "nbformat_minor": 5
}
