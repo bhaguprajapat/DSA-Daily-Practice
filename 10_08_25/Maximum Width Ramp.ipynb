{
 "cells": [
  {
   "cell_type": "markdown",
   "id": "ed71f7d1",
   "metadata": {},
   "source": [
    "1. Maximum Width Ramp\n",
    "A ramp in an integer array nums is a pair (i, j) for which i < j and nums[i] <= nums[j]. The width of such a ramp is j - i.\n",
    "\n",
    "Given an integer array nums, return the maximum width of a ramp in nums. If there is no ramp in nums, return 0.\n",
    "\n",
    " \n",
    "\n",
    "Example 1:\n",
    "\n",
    "Input: nums = [6,0,8,2,1,5]\n",
    "Output: 4\n",
    "Explanation: The maximum width ramp is achieved at (i, j) = (1, 5): nums[1] = 0 and nums[5] = 5.\n",
    "Example 2:\n",
    "\n",
    "Input: nums = [9,8,1,0,1,9,4,0,4,1]\n",
    "Output: 7\n",
    "Explanation: The maximum width ramp is achieved at (i, j) = (2, 9): nums[2] = 1 and nums[9] = 1.\n",
    " \n",
    "\n",
    "Constraints:\n",
    "\n",
    "2 <= nums.length <= 5 * 104\n",
    "0 <= nums[i] <= 5 *"
   ]
  },
  {
   "cell_type": "code",
   "execution_count": 7,
   "id": "13e6b7ec",
   "metadata": {},
   "outputs": [
    {
     "name": "stdout",
     "output_type": "stream",
     "text": [
      "4\n"
     ]
    }
   ],
   "source": [
    "class Solution(object):\n",
    "    def maxWidthRamp(self, nums):\n",
    "        ans = 0\n",
    "        n = len(nums)\n",
    "\n",
    "        # Create a list of tuples (element, index)\n",
    "        vp = [(nums[i], i) for i in range(n)]\n",
    "\n",
    "        # Sort the list based on the element values\n",
    "        vp.sort()\n",
    "\n",
    "        # Keep track of the minimum index seen so far\n",
    "        min_index = vp[0][1]\n",
    "\n",
    "        # Traverse the sorted list to calculate the maximum width ramp\n",
    "        for i in range(1, n):\n",
    "            current_index = vp[i][1]\n",
    "            ans = max(ans, current_index - min_index)\n",
    "            min_index = min(min_index, current_index)\n",
    "\n",
    "        return ans\n",
    "        \n",
    "sl=Solution()\n",
    "nums=[6,0,8,2,1,5]\n",
    "print(sl.maxWidthRamp(nums))"
   ]
  }
 ],
 "metadata": {
  "kernelspec": {
   "display_name": "Python 3",
   "language": "python",
   "name": "python3"
  },
  "language_info": {
   "codemirror_mode": {
    "name": "ipython",
    "version": 3
   },
   "file_extension": ".py",
   "mimetype": "text/x-python",
   "name": "python",
   "nbconvert_exporter": "python",
   "pygments_lexer": "ipython3",
   "version": "3.13.2"
  }
 },
 "nbformat": 4,
 "nbformat_minor": 5
}
