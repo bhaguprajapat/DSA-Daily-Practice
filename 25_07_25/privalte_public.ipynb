{
 "cells": [
  {
   "cell_type": "code",
   "execution_count": 1,
   "id": "ec36c5f3",
   "metadata": {},
   "outputs": [],
   "source": [
    "# whenver we want to save some pravite details as a privete in python then we need to use __ (double underscor on the frist) it will save a \n",
    "# a private\n",
    "class Student:\n",
    "    __name=\"Bhagwati\" # this name is private name can't get it on outside\n",
    "    name=\"usha\" # this is public\n",
    "    def __hello():\n",
    "        return \"my password\" # this is private method\n",
    "    def hello():\n",
    "        return \"my emial\" # this is public"
   ]
  }
 ],
 "metadata": {
  "kernelspec": {
   "display_name": "Python 3",
   "language": "python",
   "name": "python3"
  },
  "language_info": {
   "codemirror_mode": {
    "name": "ipython",
    "version": 3
   },
   "file_extension": ".py",
   "mimetype": "text/x-python",
   "name": "python",
   "nbconvert_exporter": "python",
   "pygments_lexer": "ipython3",
   "version": "3.13.2"
  }
 },
 "nbformat": 4,
 "nbformat_minor": 5
}
