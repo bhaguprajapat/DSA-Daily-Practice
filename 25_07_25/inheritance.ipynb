{
 "cells": [
  {
   "cell_type": "code",
   "execution_count": 5,
   "id": "8e8606dc",
   "metadata": {},
   "outputs": [
    {
     "name": "stdout",
     "output_type": "stream",
     "text": [
      "Car started ...\n",
      "Car stopped ...\n"
     ]
    }
   ],
   "source": [
    "class Car:\n",
    "    @staticmethod\n",
    "    def start():\n",
    "        print(\"Car started ...\")\n",
    "    @staticmethod\n",
    "    def stop():\n",
    "        print(\"Car stopped ...\")\n",
    "class Toyotoo(Car): # this inheritance the car class\n",
    "    def __init__(self,name):\n",
    "        self.name=name\n",
    "class BMW(Toyotoo): # multilevel inheritance\n",
    "    def __init__(self, color):\n",
    "        self.color=color\n",
    "car1=Toyotoo(\"Oddi\")\n",
    "car2=Toyotoo(\"BMW\")\n",
    "car1.start()\n",
    "car3=BMW(\"red\")\n",
    "car3.stop()"
   ]
  }
 ],
 "metadata": {
  "kernelspec": {
   "display_name": "Python 3",
   "language": "python",
   "name": "python3"
  },
  "language_info": {
   "codemirror_mode": {
    "name": "ipython",
    "version": 3
   },
   "file_extension": ".py",
   "mimetype": "text/x-python",
   "name": "python",
   "nbconvert_exporter": "python",
   "pygments_lexer": "ipython3",
   "version": "3.13.2"
  }
 },
 "nbformat": 4,
 "nbformat_minor": 5
}
