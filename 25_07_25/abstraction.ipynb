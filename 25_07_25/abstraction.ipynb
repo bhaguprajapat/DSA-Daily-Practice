{
 "cells": [
  {
   "cell_type": "code",
   "execution_count": 7,
   "id": "816e6e1e",
   "metadata": {},
   "outputs": [
    {
     "name": "stdout",
     "output_type": "stream",
     "text": [
      "Car has started..\n"
     ]
    }
   ],
   "source": [
    "class Car:\n",
    "    def __init__(self):\n",
    "        self.clach=False\n",
    "        self.brk=False\n",
    "        self.start=False\n",
    "    def strat_car(self):\n",
    "        self.clach=True\n",
    "        self.start=True\n",
    "        print(\"Car has started..\")\n",
    "cr=Car()\n",
    "cr.strat_car()"
   ]
  },
  {
   "cell_type": "code",
   "execution_count": null,
   "id": "d63f9322",
   "metadata": {},
   "outputs": [
    {
     "name": "stdout",
     "output_type": "stream",
     "text": [
      "RS.  200  was debited\n",
      "total balance 800\n",
      "RS.  500  was credit\n",
      "total balance 1300\n"
     ]
    },
    {
     "ename": "NameError",
     "evalue": "name 'acc2' is not defined",
     "output_type": "error",
     "traceback": [
      "\u001b[1;31m---------------------------------------------------------------------------\u001b[0m",
      "\u001b[1;31mNameError\u001b[0m                                 Traceback (most recent call last)",
      "Cell \u001b[1;32mIn[25], line 23\u001b[0m\n\u001b[0;32m     21\u001b[0m \u001b[38;5;66;03m# acc1.print_blance()\u001b[39;00m\n\u001b[0;32m     22\u001b[0m \u001b[38;5;28;01mdel\u001b[39;00m acc2\n\u001b[1;32m---> 23\u001b[0m \u001b[43macc2\u001b[49m\u001b[38;5;241m.\u001b[39mdebit(\u001b[38;5;241m100\u001b[39m)\n",
      "\u001b[1;31mNameError\u001b[0m: name 'acc2' is not defined"
     ]
    }
   ],
   "source": [
    "class Account:\n",
    "    def __init__(self,blance,account_no):\n",
    "        self.blance=blance\n",
    "        self.account_no=account_no\n",
    "    def debit(self,blance):\n",
    "        if blance>self.blance:\n",
    "            return \"You don't have enough Blance XXXXXXXX\"\n",
    "        self.blance-=blance\n",
    "        print(\"RS. \", blance ,\" was debited\")\n",
    "        print(\"total balance\",self.print_blance())\n",
    "    def credit(self,blance):\n",
    "        self.blance+=blance\n",
    "        print(\"RS. \", blance ,\" was credit\")\n",
    "        print(\"total balance\",self.print_blance())\n",
    "    def print_blance(self):\n",
    "        return self.blance\n",
    "acc1=Account(1000,'500')\n",
    "acc2=Account(100,'400')\n",
    "acc1.debit(200)\n",
    "acc1.credit(500)\n",
    "# acc1.print_blance()\n",
    "del acc2 # delete the class using del keyword\n",
    "# acc2.debit(100)"
   ]
  }
 ],
 "metadata": {
  "kernelspec": {
   "display_name": "Python 3",
   "language": "python",
   "name": "python3"
  },
  "language_info": {
   "codemirror_mode": {
    "name": "ipython",
    "version": 3
   },
   "file_extension": ".py",
   "mimetype": "text/x-python",
   "name": "python",
   "nbconvert_exporter": "python",
   "pygments_lexer": "ipython3",
   "version": "3.13.2"
  }
 },
 "nbformat": 4,
 "nbformat_minor": 5
}
