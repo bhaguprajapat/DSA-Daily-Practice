{
 "cells": [
  {
   "cell_type": "markdown",
   "id": "880b03c0",
   "metadata": {},
   "source": [
    "1. Longest Palindromic Substring\n",
    "Given a string s, return the longest palindromic substring in s.\n",
    "\n",
    " \n",
    "\n",
    "Example 1:\n",
    "\n",
    "Input: s = \"babad\"\n",
    "Output: \"bab\"\n",
    "Explanation: \"aba\" is also a valid answer.\n",
    "Example 2:\n",
    "\n",
    "Input: s = \"cbbd\"\n",
    "Output: \"bb\"\n",
    " "
   ]
  },
  {
   "cell_type": "code",
   "execution_count": null,
   "id": "82d18ca4",
   "metadata": {},
   "outputs": [],
   "source": [
    "class Solution(object):\n",
    "    def longestPalindrome(self, s):\n",
    "        \"\"\"\n",
    "        :type s: str\n",
    "        :rtype: str\n",
    "        \"\"\"\n",
    "        if not s:\n",
    "            return \"\"\n",
    "        def expand_arround_center(s,left,right):\n",
    "            while left>=0 and right<len(s) and s[left]==s[right]:\n",
    "                left-=1\n",
    "                right+=1\n",
    "            return right-left-1\n",
    "        left,right=0,0\n",
    "        for i in range(len(s)):\n",
    "            odd=expand_arround_center(s,i,i)\n",
    "            even=expand_arround_center(s,i,i+1)\n",
    "            max_len=max(odd,even)\n",
    "            if max_len>right-left:\n",
    "                left=i-(max_len-1)//2\n",
    "                right=i+max_len//2\n",
    "        return s[left:right+1]\n",
    "        "
   ]
  }
 ],
 "metadata": {
  "kernelspec": {
   "display_name": "Python 3",
   "language": "python",
   "name": "python3"
  },
  "language_info": {
   "name": "python",
   "version": "3.13.2"
  }
 },
 "nbformat": 4,
 "nbformat_minor": 5
}
