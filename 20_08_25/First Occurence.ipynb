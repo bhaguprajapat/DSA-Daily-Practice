{
 "cells": [
  {
   "cell_type": "markdown",
   "id": "376df810",
   "metadata": {},
   "source": [
    "First Occurence\n",
    "Given two strings txt and pat, return the 0-based index of the first occurrence of the substring pat in txt. If pat is not found, return -1.\n",
    "Note: You are not allowed to use the inbuilt function.\n",
    "\n",
    "Examples :\n",
    "\n",
    "Input: txt = \"GeeksForGeeks\", pat = \"Fr\"\n",
    "Output: -1\n",
    "Explanation: \"Fr\" is not present in the string \"GeeksForGeeks\" as substring.\n",
    "Input: txt = \"GeeksForGeeks\", pat = \"For\"\n",
    "Output: 5\n",
    "Explanation: \"For\" is present as substring in \"GeeksForGeeks\" from index 5 (0 based indexing).\n",
    "Input: txt = \"GeeksForGeeks\", pat = \"gr\"\n",
    "Output: -1\n",
    "Explanation: \"gr\" is not present in the string \"GeeksForGeeks\" as substring."
   ]
  },
  {
   "cell_type": "code",
   "execution_count": 3,
   "id": "0a4fe5c0",
   "metadata": {},
   "outputs": [
    {
     "name": "stdout",
     "output_type": "stream",
     "text": [
      "5\n"
     ]
    }
   ],
   "source": [
    "class Solution:\n",
    "    def firstOccurence(self,txt,pat):\n",
    "        n=len(txt)\n",
    "        m=len(pat)\n",
    "        for i in range(n):\n",
    "            if i+m<=n:\n",
    "                if txt[i:i+m]==pat:\n",
    "                    return i\n",
    "        return -1\n",
    "sl=Solution()\n",
    "txt = \"GeeksForGeeks\" \n",
    "pat = \"For\"\n",
    "print(sl.firstOccurence(txt,pat))\n",
    "\n",
    "        "
   ]
  },
  {
   "cell_type": "markdown",
   "id": "6b03c17f",
   "metadata": {},
   "source": [
    "Insert a character in String at a Given Position\n",
    "Last Updated : 06 Nov, 2024\n",
    "Given a string s, a character c and an integer position pos, the task is to insert the character c into the string s at the specified position pos.\n",
    "\n",
    "Examples:\n",
    "\n",
    "Input: s = \"Geeks\", c = 'A', pos = 3\n",
    "Output: GeeAks\n",
    "\n",
    "Input: s = \"HelloWorld\", c = '!', pos = 5\n",
    "Output: Hello!World"
   ]
  },
  {
   "cell_type": "code",
   "execution_count": 5,
   "id": "666ed15d",
   "metadata": {},
   "outputs": [
    {
     "name": "stdout",
     "output_type": "stream",
     "text": [
      "GeeAks\n"
     ]
    }
   ],
   "source": [
    "# Python program to insert a character at specific\n",
    "# position using Built in functions\n",
    "\n",
    "def insertChar(s, c, pos):\n",
    "  \n",
    "    # Insert character at specified position\n",
    "    return s[:pos] + c + s[pos:]\n",
    "\n",
    "s = \"Geeks\"\n",
    "print(insertChar(s, 'A', 3))"
   ]
  },
  {
   "cell_type": "code",
   "execution_count": 6,
   "id": "e128f296",
   "metadata": {},
   "outputs": [
    {
     "name": "stdout",
     "output_type": "stream",
     "text": [
      "GeeAs\n"
     ]
    }
   ],
   "source": [
    "# Python program to insert a character at specific\n",
    "# position using Built in functions\n",
    "\n",
    "def insertChar(s, c, pos):\n",
    "    s=list(s)\n",
    "    s[pos]=c\n",
    "    return \"\".join(s)\n",
    "\n",
    "s = \"Geeks\"\n",
    "print(insertChar(s, 'A', 3))"
   ]
  },
  {
   "cell_type": "markdown",
   "id": "53f05643",
   "metadata": {},
   "source": [
    "Given a string S, check whether it can be converted into the string \"hello\" by deleting some characters from it.\n",
    "Note : S can have both uppercase and lowercase letters.\n",
    "\n",
    "Example 1:\n",
    "\n",
    "Input:\n",
    "S = \"bbbbbxxhhelllllooudd\"\n",
    "Output: 1\n",
    "Explanation: The string hello is marked\n",
    "in bold: bbbbbxxhhelllllooudd\n",
    "\n",
    "â€‹Example 2:\n",
    "\n",
    "Input: \n",
    "S = \"hlelo\"\n",
    "Output: 0\n",
    "Explanation: It's impossible to convert\n",
    "the given string into \"hello\".\n",
    "\n",
    "Your Task:\n",
    "You don't need to read input or print anything. Your task is to complete the function decode() which takes the string S as input and returns the true if the string can be converted to \"hello\", else return false.\n",
    "\n",
    "\n",
    "Expected Time Complexity: O(|S|).\n",
    "Expected Auxiliary Space: O(1).\n",
    "\n",
    "\n",
    "Constraints:\n",
    "1<=|S|<=105"
   ]
  },
  {
   "cell_type": "code",
   "execution_count": null,
   "id": "e0046644",
   "metadata": {},
   "outputs": [
    {
     "name": "stdout",
     "output_type": "stream",
     "text": [
      "0\n"
     ]
    }
   ],
   "source": [
    "\n",
    "class Solution:\n",
    "    def decode(self, S):\n",
    "        # code here\n",
    "        target = \"hello\"\n",
    "        j = 0  # pointer for target\n",
    "        \n",
    "        for ch in S.lower():   # convert to lowercase to handle uppercase input\n",
    "            if j < len(target) and ch == target[j]:\n",
    "                j += 1\n",
    "            if j == len(target):  # all matched\n",
    "                return 1\n",
    "        return 0\n",
    "sl=Solution()\n",
    "S = \"hlelo\"\n",
    "print(sl.decode(S))\n"
   ]
  }
 ],
 "metadata": {
  "kernelspec": {
   "display_name": "Python 3",
   "language": "python",
   "name": "python3"
  },
  "language_info": {
   "codemirror_mode": {
    "name": "ipython",
    "version": 3
   },
   "file_extension": ".py",
   "mimetype": "text/x-python",
   "name": "python",
   "nbconvert_exporter": "python",
   "pygments_lexer": "ipython3",
   "version": "3.13.2"
  }
 },
 "nbformat": 4,
 "nbformat_minor": 5
}
