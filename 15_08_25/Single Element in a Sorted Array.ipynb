{
 "cells": [
  {
   "cell_type": "markdown",
   "id": "53d3e1dc",
   "metadata": {},
   "source": [
    "1. Single Element in a Sorted Array\n",
    "You are given a sorted array consisting of only integers where every element appears exactly twice, except for one element which appears exactly once.\n",
    "\n",
    "Return the single element that appears only once.\n",
    "\n",
    "Your solution must run in O(log n) time and O(1) space.\n",
    "\n",
    " \n",
    "\n",
    "Example 1:\n",
    "\n",
    "Input: nums = [1,1,2,3,3,4,4,8,8]\n",
    "Output: 2\n",
    "Example 2:\n",
    "\n",
    "Input: nums = [3,3,7,7,10,11,11]\n",
    "Output: 10\n",
    " \n",
    "\n",
    "Constraints:\n",
    "\n",
    "1 <= nums.length <= 105\n",
    "0 <= nums[i] <= 105"
   ]
  },
  {
   "cell_type": "code",
   "execution_count": 11,
   "id": "76e959af",
   "metadata": {},
   "outputs": [
    {
     "name": "stdout",
     "output_type": "stream",
     "text": [
      "3\n"
     ]
    }
   ],
   "source": [
    "class Solution(object):\n",
    "    def singleNonDuplicate(self, nums):\n",
    "        \"\"\"\n",
    "        :type nums: List[int]\n",
    "        :rtype: int\n",
    "        \"\"\"\n",
    "        if len(nums)==1:\n",
    "            return nums[0]\n",
    "        n=len(nums)-1\n",
    "        left,right=0,len(nums)-1\n",
    "        while left<=right:\n",
    "            mid=left+(right-left)//2\n",
    "            if mid==0 and nums[0] != nums[1]:\n",
    "                return nums[0]\n",
    "            elif mid==n and nums[n]!=nums[n-1]:\n",
    "                return nums[mid]\n",
    "            elif nums[mid-1] !=nums[mid]!=nums[mid+1]:\n",
    "                return nums[mid]\n",
    "            elif mid%2==0:\n",
    "                if nums[mid-1]==nums[mid]:\n",
    "                    right=mid-1\n",
    "                else:\n",
    "                    left=mid+1\n",
    "            else:\n",
    "                if nums[mid-1]==nums[mid]:\n",
    "                    left=mid+1\n",
    "                else:\n",
    "                    right=mid-1\n",
    "        return -1\n",
    "sl=Solution()\n",
    "nums =  [3]\n",
    "print(sl.singleNonDuplicate(nums))\n",
    "        "
   ]
  }
 ],
 "metadata": {
  "kernelspec": {
   "display_name": "Python 3",
   "language": "python",
   "name": "python3"
  },
  "language_info": {
   "codemirror_mode": {
    "name": "ipython",
    "version": 3
   },
   "file_extension": ".py",
   "mimetype": "text/x-python",
   "name": "python",
   "nbconvert_exporter": "python",
   "pygments_lexer": "ipython3",
   "version": "3.13.2"
  }
 },
 "nbformat": 4,
 "nbformat_minor": 5
}
