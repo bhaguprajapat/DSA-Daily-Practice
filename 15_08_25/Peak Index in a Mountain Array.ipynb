{
 "cells": [
  {
   "cell_type": "markdown",
   "id": "a090c220",
   "metadata": {},
   "source": [
    "1. Peak Index in a Mountain Array\n",
    "You are given an integer mountain array arr of length n where the values increase to a peak element and then decrease.\n",
    "\n",
    "Return the index of the peak element.\n",
    "\n",
    "Your task is to solve it in O(log(n)) time complexity.\n",
    "\n",
    " \n",
    "\n",
    "Example 1:\n",
    "\n",
    "Input: arr = [0,1,0]\n",
    "\n",
    "Output: 1\n",
    "\n",
    "Example 2:\n",
    "\n",
    "Input: arr = [0,2,1,0]\n",
    "\n",
    "Output: 1\n",
    "\n",
    "Example 3:\n",
    "\n",
    "Input: arr = [0,10,5,2]\n",
    "\n",
    "Output: 1"
   ]
  },
  {
   "cell_type": "code",
   "execution_count": 5,
   "id": "cff6e7be",
   "metadata": {},
   "outputs": [
    {
     "name": "stdout",
     "output_type": "stream",
     "text": [
      "1\n"
     ]
    }
   ],
   "source": [
    "class Solution(object):\n",
    "    def peakIndexInMountainArray(self, arr):\n",
    "        \"\"\"\n",
    "        :type arr: List[int]\n",
    "        :rtype: int\n",
    "        \"\"\"\n",
    "        left,right=1,len(arr)-2\n",
    "        while left<=right:\n",
    "            mid=left+(right-left)//2\n",
    "            if arr[mid-1]<arr[mid]>arr[mid+1]:\n",
    "                return mid\n",
    "            elif arr[mid-1]<arr[mid]:\n",
    "                left=mid+1\n",
    "            else:\n",
    "                right=mid-1\n",
    "        return -1\n",
    "sl=Solution()\n",
    "arr = [3,9,8,6,4]\n",
    "print(sl.peakIndexInMountainArray(arr))\n",
    "        "
   ]
  }
 ],
 "metadata": {
  "kernelspec": {
   "display_name": "Python 3",
   "language": "python",
   "name": "python3"
  },
  "language_info": {
   "codemirror_mode": {
    "name": "ipython",
    "version": 3
   },
   "file_extension": ".py",
   "mimetype": "text/x-python",
   "name": "python",
   "nbconvert_exporter": "python",
   "pygments_lexer": "ipython3",
   "version": "3.13.2"
  }
 },
 "nbformat": 4,
 "nbformat_minor": 5
}
