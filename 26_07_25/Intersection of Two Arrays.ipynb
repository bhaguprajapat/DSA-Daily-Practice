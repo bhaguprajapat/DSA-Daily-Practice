{
 "cells": [
  {
   "cell_type": "markdown",
   "id": "35259035",
   "metadata": {},
   "source": [
    "1. Intersection of Two Arrays\n",
    "Given two integer arrays nums1 and nums2, return an array of their intersection. Each element in the result must be unique and you may return the result in any order.\n",
    "\n",
    " \n",
    "\n",
    "Example 1:\n",
    "\n",
    "Input: nums1 = [1,2,2,1], nums2 = [2,2]\n",
    "Output: [2]\n",
    "Example 2:\n",
    "\n",
    "Input: nums1 = [4,9,5], nums2 = [9,4,9,8,4]\n",
    "Output: [9,4]\n",
    "Explanation: [4,9] is also accepted."
   ]
  },
  {
   "cell_type": "code",
   "execution_count": 2,
   "id": "ff767358",
   "metadata": {},
   "outputs": [
    {
     "name": "stdout",
     "output_type": "stream",
     "text": [
      "[9, 4]\n"
     ]
    }
   ],
   "source": [
    "class Solution(object):\n",
    "    def intersection(self, nums1, nums2):\n",
    "        \"\"\"\n",
    "        :type nums1: List[int]\n",
    "        :type nums2: List[int]\n",
    "        :rtype: List[int]\n",
    "        \"\"\"\n",
    "        res=set()\n",
    "        for num in nums2:\n",
    "            if num in nums1:\n",
    "                res.add(num)\n",
    "        return list(res)\n",
    "sl=Solution()\n",
    "nums1 = [4,9,5]\n",
    "nums2 = [9,4,9,8,4]\n",
    "print(sl.intersection(nums1, nums2))       "
   ]
  },
  {
   "cell_type": "markdown",
   "id": "34afe70c",
   "metadata": {},
   "source": [
    "2.  Intersection of Two Arrays II\n",
    "Given two integer arrays nums1 and nums2, return an array of their intersection. Each element in the result must appear as many times as it shows in both arrays and you may return the result in any order.\n",
    "\n",
    " \n",
    "\n",
    "Example 1:\n",
    "\n",
    "Input: nums1 = [1,2,2,1], nums2 = [2,2]\n",
    "Output: [2,2]\n",
    "Example 2:\n",
    "\n",
    "Input: nums1 = [4,9,5], nums2 = [9,4,9,8,4]\n",
    "Output: [4,9]\n",
    "Explanation: [9,4] is also accepted."
   ]
  },
  {
   "cell_type": "code",
   "execution_count": 8,
   "id": "615dda64",
   "metadata": {},
   "outputs": [
    {
     "name": "stdout",
     "output_type": "stream",
     "text": [
      "[2, 2]\n"
     ]
    }
   ],
   "source": [
    "class Solution(object):\n",
    "    def intersect(self, nums1, nums2):\n",
    "        # inilitaze the list of result\n",
    "        res=[]\n",
    "        len1,len2=len(nums1),len(nums2)\n",
    "        # check greater length and run the biggest list loop\n",
    "        if len1>len2:\n",
    "            for num in nums1:\n",
    "                # check is num element is parsent in nums2 then append it on res\n",
    "                if num in nums2:\n",
    "                    res.append(num)\n",
    "                    nums2.remove(num)\n",
    "        else:\n",
    "            for num in nums2:\n",
    "                if num in nums1:\n",
    "                    res.append(num)\n",
    "                    nums1.remove(num)\n",
    "        return res\n",
    "sl=Solution()\n",
    "nums1 = [1,2,2,1]\n",
    "nums2 = [2,2]\n",
    "print(sl.intersect(nums1, nums2))   "
   ]
  }
 ],
 "metadata": {
  "kernelspec": {
   "display_name": "Python 3",
   "language": "python",
   "name": "python3"
  },
  "language_info": {
   "codemirror_mode": {
    "name": "ipython",
    "version": 3
   },
   "file_extension": ".py",
   "mimetype": "text/x-python",
   "name": "python",
   "nbconvert_exporter": "python",
   "pygments_lexer": "ipython3",
   "version": "3.13.2"
  }
 },
 "nbformat": 4,
 "nbformat_minor": 5
}
