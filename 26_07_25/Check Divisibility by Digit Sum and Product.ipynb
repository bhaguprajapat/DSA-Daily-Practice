{
 "cells": [
  {
   "cell_type": "markdown",
   "id": "4e323702",
   "metadata": {},
   "source": [
    "1. Check Divisibility by Digit Sum and Product\n",
    "You are given a positive integer n. Determine whether n is divisible by the sum of the following two values:\n",
    "\n",
    "The digit sum of n (the sum of its digits).\n",
    "\n",
    "The digit product of n (the product of its digits).\n",
    "\n",
    "Return true if n is divisible by this sum; otherwise, return false.\n",
    "\n",
    " \n",
    "\n",
    "Example 1:\n",
    "\n",
    "Input: n = 99\n",
    "\n",
    "Output: true\n",
    "\n",
    "Explanation:\n",
    "\n",
    "Since 99 is divisible by the sum (9 + 9 = 18) plus product (9 * 9 = 81) of its digits (total 99), the output is true.\n",
    "\n",
    "Example 2:\n",
    "\n",
    "Input: n = 23\n",
    "\n",
    "Output: false\n",
    "\n",
    "Explanation:\n",
    "\n",
    "Since 23 is not divisible by the sum (2 + 3 = 5) plus product (2 * 3 = 6) of its digits (total 11), the output is false.\n",
    "\n",
    " \n",
    "\n",
    "Note: Please do not copy the description during the contest to maintain the integrity of your submissions."
   ]
  },
  {
   "cell_type": "code",
   "execution_count": 3,
   "id": "ca434911",
   "metadata": {},
   "outputs": [
    {
     "name": "stdout",
     "output_type": "stream",
     "text": [
      "False\n"
     ]
    }
   ],
   "source": [
    "class Solution(object):\n",
    "    def checkDivisibility(self, n):\n",
    "        # int convert to the string\n",
    "        n=str(n)\n",
    "        addition=int(n[0])+int(n[1])\n",
    "        multiplaction=int(n[0])*int(n[1])\n",
    "        total=addition+multiplaction\n",
    "        if total==int(n):\n",
    "            return True\n",
    "        else:\n",
    "            return False\n",
    "sl=Solution()\n",
    "n = 95\n",
    "print(sl.checkDivisibility(n))\n"
   ]
  }
 ],
 "metadata": {
  "kernelspec": {
   "display_name": "Python 3",
   "language": "python",
   "name": "python3"
  },
  "language_info": {
   "codemirror_mode": {
    "name": "ipython",
    "version": 3
   },
   "file_extension": ".py",
   "mimetype": "text/x-python",
   "name": "python",
   "nbconvert_exporter": "python",
   "pygments_lexer": "ipython3",
   "version": "3.13.2"
  }
 },
 "nbformat": 4,
 "nbformat_minor": 5
}
