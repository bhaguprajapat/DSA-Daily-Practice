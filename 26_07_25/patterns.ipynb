{
 "cells": [
  {
   "cell_type": "code",
   "execution_count": 68,
   "id": "03eae50e",
   "metadata": {},
   "outputs": [
    {
     "name": "stdout",
     "output_type": "stream",
     "text": [
      "   1\n",
      "\n",
      "  121\n",
      "\n",
      " 12321\n",
      "\n",
      "1234321\n",
      "\n"
     ]
    }
   ],
   "source": [
    "def trangle(n):\n",
    "    # run outer loop\n",
    "    \n",
    "    for i in range(1,n+1):\n",
    "        r=1\n",
    "        print(\" \"*(n-i),end=\"\")\n",
    "        for j in range(i):\n",
    "            print(j+1,end=\"\")\n",
    "        for j in range(i,1,-1):\n",
    "            print(j-1, end=\"\")\n",
    "        print(\"\\n\")\n",
    "trangle(4)\n"
   ]
  },
  {
   "cell_type": "code",
   "execution_count": 104,
   "id": "c6c14b3e",
   "metadata": {},
   "outputs": [
    {
     "name": "stdout",
     "output_type": "stream",
     "text": [
      "    *\n",
      "\n",
      "   *   *\n",
      "\n",
      "  *     *\n",
      "\n",
      " *       *\n",
      "\n"
     ]
    }
   ],
   "source": [
    "# #             *\n",
    "# #         *       *\n",
    "# #     *               *\n",
    "# # *                       *\n",
    "# #     *               *\n",
    "# #         *       *\n",
    "# #             *\n",
    "def hellow_dimond(n):\n",
    "    for i in range(n):\n",
    "        if i==0:\n",
    "            print(\" \"*(n-i-1),\"*\",end=\"\")\n",
    "        else:\n",
    "            print(\" \"*(n-i-1),\"*\",\" \"*((i*2)-1),\"*\",end=\"\")\n",
    "        print(\"\\n\")\n",
    "    # for i in range(n,-1,-1):\n",
    "    #     if i==0:\n",
    "    #         print(\" \"*(n-i-1),\"*\",end=\"\")\n",
    "    #     else:\n",
    "    #         print(\" \"*(n-i-1),\"*\",\" \"*((i*2)-1),\"*\",end=\"\")\n",
    "    #     print(\"\\n\")\n",
    "hellow_dimond(4)"
   ]
  }
 ],
 "metadata": {
  "kernelspec": {
   "display_name": "Python 3",
   "language": "python",
   "name": "python3"
  },
  "language_info": {
   "codemirror_mode": {
    "name": "ipython",
    "version": 3
   },
   "file_extension": ".py",
   "mimetype": "text/x-python",
   "name": "python",
   "nbconvert_exporter": "python",
   "pygments_lexer": "ipython3",
   "version": "3.13.2"
  }
 },
 "nbformat": 4,
 "nbformat_minor": 5
}
