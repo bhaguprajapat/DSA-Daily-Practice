{
 "cells": [
  {
   "cell_type": "code",
   "execution_count": 6,
   "id": "ec20eeda",
   "metadata": {},
   "outputs": [
    {
     "name": "stdout",
     "output_type": "stream",
     "text": [
      "-1\n"
     ]
    }
   ],
   "source": [
    "def findSmallvalue(arr):\n",
    "    small_value=arr[0]\n",
    "    for el in arr:\n",
    "        if small_value>el:\n",
    "            small_value=el\n",
    "    return small_value\n",
    "arr=[12,45,35,10,-1,25,85,5]\n",
    "print(findSmallvalue(arr))"
   ]
  },
  {
   "cell_type": "code",
   "execution_count": 7,
   "id": "2f808906",
   "metadata": {},
   "outputs": [
    {
     "name": "stdout",
     "output_type": "stream",
     "text": [
      "6\n"
     ]
    }
   ],
   "source": [
    "def findSmallvalue(arr):\n",
    "    small_value=0\n",
    "    for el in range(len(arr)):\n",
    "        if arr[small_value]>arr[el]:\n",
    "            small_value=el\n",
    "    return small_value\n",
    "arr=[12,45,35,10,-1,25,-85,5]\n",
    "print(findSmallvalue(arr))"
   ]
  },
  {
   "cell_type": "code",
   "execution_count": 8,
   "id": "ce635a8e",
   "metadata": {},
   "outputs": [
    {
     "name": "stdout",
     "output_type": "stream",
     "text": [
      "85\n"
     ]
    }
   ],
   "source": [
    "def findBiggestValue(arr):\n",
    "    biggest_value=arr[0]\n",
    "    for el in arr:\n",
    "        if biggest_value<el:\n",
    "            biggest_value=el\n",
    "    return biggest_value\n",
    "arr=[12,45,35,10,1,25,85,5]\n",
    "print(findBiggestValue(arr))"
   ]
  },
  {
   "cell_type": "code",
   "execution_count": 10,
   "id": "250bad28",
   "metadata": {},
   "outputs": [
    {
     "name": "stdout",
     "output_type": "stream",
     "text": [
      "[5, 85, 25, 1, 10, 35, 45, 12]\n"
     ]
    }
   ],
   "source": [
    "def reverseArr(arr):\n",
    "    return arr[::-1]\n",
    "arr=[12,45,35,10,1,25,85,5]\n",
    "print(reverseArr(arr))"
   ]
  },
  {
   "cell_type": "code",
   "execution_count": 12,
   "id": "01e73d83",
   "metadata": {},
   "outputs": [
    {
     "name": "stdout",
     "output_type": "stream",
     "text": [
      "[5, 85, 25, 1, 10, 35, 45, 12]\n"
     ]
    }
   ],
   "source": [
    "def reverseArr(arr):\n",
    "    left,right=0,len(arr)-1\n",
    "    while left<right:\n",
    "        arr[left],arr[right]=arr[right],arr[left]\n",
    "        left+=1\n",
    "        right-=1\n",
    "    return arr        \n",
    "arr=[12,45,35,10,1,25,85,5]\n",
    "print(reverseArr(arr))"
   ]
  }
 ],
 "metadata": {
  "kernelspec": {
   "display_name": "Python 3",
   "language": "python",
   "name": "python3"
  },
  "language_info": {
   "codemirror_mode": {
    "name": "ipython",
    "version": 3
   },
   "file_extension": ".py",
   "mimetype": "text/x-python",
   "name": "python",
   "nbconvert_exporter": "python",
   "pygments_lexer": "ipython3",
   "version": "3.13.2"
  }
 },
 "nbformat": 4,
 "nbformat_minor": 5
}
