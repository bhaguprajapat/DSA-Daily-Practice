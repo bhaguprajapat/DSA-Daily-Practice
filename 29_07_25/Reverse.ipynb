{
 "cells": [
  {
   "cell_type": "markdown",
   "id": "decf6189",
   "metadata": {},
   "source": [
    "1. Reverse Linked List\n",
    "Given the head of a singly linked list, reverse the list, and return the reversed list.\n",
    "Input: head = [1,2,3,4,5]\n",
    "Output: [5,4,3,2,1]\n",
    "Input: head = [1,2]\n",
    "Output: [2,1]"
   ]
  },
  {
   "cell_type": "code",
   "execution_count": 8,
   "id": "cd27d497",
   "metadata": {},
   "outputs": [
    {
     "name": "stdout",
     "output_type": "stream",
     "text": [
      "[5, 4, 3, 2, 1]\n"
     ]
    }
   ],
   "source": [
    "# Definition for singly-linked list.\n",
    "class ListNode(object):\n",
    "    def __init__(self, val=0, next=None):\n",
    "        self.val = val\n",
    "        self.next = next\n",
    "class Solution(ListNode):\n",
    "    def __init__(self, val=0, next=None):\n",
    "        super().__init__(val, next)\n",
    "    def reverseList(self, head):\n",
    "        node=None\n",
    "        while head:\n",
    "            temp=head.next\n",
    "            head.next=node\n",
    "            node=head\n",
    "            head=temp\n",
    "        return node\n",
    "# Helper function to create a linked list from a list\n",
    "def create_linked_list(arr):\n",
    "    if not arr:\n",
    "        return None\n",
    "    head = ListNode(arr[0])\n",
    "    curr = head\n",
    "    for val in arr[1:]:\n",
    "        curr.next = ListNode(val)\n",
    "        curr = curr.next\n",
    "    return head\n",
    "\n",
    "# Helper function to print linked list\n",
    "def print_linked_list(head):\n",
    "    res = []\n",
    "    while head:\n",
    "        res.append(head.val)\n",
    "        head = head.next\n",
    "    print(res)\n",
    "\n",
    "# Example usage\n",
    "arr = [1, 2, 3, 4, 5]\n",
    "head = create_linked_list(arr)\n",
    "sl = Solution()\n",
    "reversed_head = sl.reverseList(head)\n",
    "print_linked_list(reversed_head) "
   ]
  },
  {
   "cell_type": "markdown",
   "id": "ce5e2fc6",
   "metadata": {},
   "source": [
    "2. Reverse Only Letters\n",
    "Given a string s, reverse the string according to the following rules:\n",
    "\n",
    "All the characters that are not English letters remain in the same position.\n",
    "All the English letters (lowercase or uppercase) should be reversed.\n",
    "Return s after reversing it.\n",
    "\n",
    " \n",
    "\n",
    "Example 1:\n",
    "\n",
    "Input: s = \"ab-cd\"\n",
    "Output: \"dc-ba\"\n",
    "Example 2:\n",
    "\n",
    "Input: s = \"a-bC-dEf-ghIj\"\n",
    "Output: \"j-Ih-gfE-dCba\"\n",
    "Example 3:\n",
    "\n",
    "Input: s = \"Test1ng-Leet=code-Q!\"\n",
    "Output: \"Qedo1ct-eeLg=ntse-T!\"\n",
    " "
   ]
  },
  {
   "cell_type": "code",
   "execution_count": 10,
   "id": "19ca852e",
   "metadata": {},
   "outputs": [
    {
     "name": "stdout",
     "output_type": "stream",
     "text": [
      "j-Ih-gfE-dCba\n"
     ]
    }
   ],
   "source": [
    "class Solution(object):\n",
    "    def reverseOnlyLetters(self, s):\n",
    "        s=list(s)\n",
    "        left,right=0,len(s)-1\n",
    "        while left<right:\n",
    "            if not s[right].isalpha():\n",
    "               right-=1\n",
    "               \n",
    "            elif not s[left].isalpha():\n",
    "               left+=1\n",
    "            else:\n",
    "                s[left],s[right]=s[right],s[left]\n",
    "                left+=1\n",
    "                right-=1\n",
    "        return ''.join(s)\n",
    "sl=Solution()\n",
    "s = \"a-bC-dEf-ghIj\"\n",
    "print(sl.reverseOnlyLetters(s))"
   ]
  }
 ],
 "metadata": {
  "kernelspec": {
   "display_name": "Python 3",
   "language": "python",
   "name": "python3"
  },
  "language_info": {
   "codemirror_mode": {
    "name": "ipython",
    "version": 3
   },
   "file_extension": ".py",
   "mimetype": "text/x-python",
   "name": "python",
   "nbconvert_exporter": "python",
   "pygments_lexer": "ipython3",
   "version": "3.13.2"
  }
 },
 "nbformat": 4,
 "nbformat_minor": 5
}
