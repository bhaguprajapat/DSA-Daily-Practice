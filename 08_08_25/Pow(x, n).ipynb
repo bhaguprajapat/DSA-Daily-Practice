{
 "cells": [
  {
   "cell_type": "markdown",
   "id": "017465fd",
   "metadata": {},
   "source": [
    "1. Pow(x, n)\n",
    "Implement pow(x, n), which calculates x raised to the power n (i.e., xn).\n",
    "\n",
    " \n",
    "\n",
    "Example 1:\n",
    "\n",
    "Input: x = 2.00000, n = 10\n",
    "Output: 1024.00000\n",
    "Example 2:\n",
    "\n",
    "Input: x = 2.10000, n = 3\n",
    "Output: 9.26100\n",
    "Example 3:\n",
    "\n",
    "Input: x = 2.00000, n = -2\n",
    "Output: 0.25000\n",
    "Explanation: 2-2 = 1/22 = 1/4 = 0.25"
   ]
  }
 ],
 "metadata": {
  "language_info": {
   "name": "python"
  }
 },
 "nbformat": 4,
 "nbformat_minor": 5
}
