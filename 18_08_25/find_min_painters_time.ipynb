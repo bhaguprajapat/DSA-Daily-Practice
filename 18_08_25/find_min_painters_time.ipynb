{
 "cells": [
  {
   "cell_type": "markdown",
   "id": "e1ffcf6d",
   "metadata": {},
   "source": [
    "There is fence which consists of \n",
    " wooden blocks with each block having a number written on it represented by an array \n",
    ". The painter is also given two numbers \n",
    " and \n",
    " . He is given the task to paint the fence using at most \n",
    " colors. But there are certain conditions which the painter must follow while painting:\n",
    "\n",
    "He has to paint the fence in sequential manner from left to right i.e, first paint the first block then second block and so on without leaving any block not being painted. \n",
    "He will also use colors in sequential manner i.e, first paint with 1st color,then with 2nd color and so on. Note that he can paint any number of blocks sequentially with a single color and a color once used cannot be reused.\n",
    "The sum of numbers written on blocks painted with same color must lie between \n",
    " and \n",
    " ( both inclusive ).\n",
    "    The painter wants to know in how many ways can he paint the fence.Since the answer can be large, find the answer modulo \n",
    ".\n",
    "\n",
    "Input Format\n",
    "\n",
    "First line contains 3 space separated denoting the values of \n",
    ", \n",
    " and \n",
    " \n",
    ",\n",
    "\n",
    "Next line contains \n",
    " space separated integers denoting the values of array \n",
    " \n",
    ".\n",
    "\n",
    "Output Format\n",
    "\n",
    "Print the answer in a single line.\n",
    "\n",
    "Sample Input\n",
    "5 3 12\n",
    "3 5 1 2 6\n",
    "Sample Output\n",
    "8\n",
    "Time Limit: 10\n",
    "Memory Limit: 256\n",
    "Source Limit:\n",
    "Explanation\n",
    "The ways of painting are:\n",
    "\n",
    "{(3),(5),(1,2),(6)} -> Painting 1st block with 1st color,2nd with 2nd, 3rd and 4th with 3rd and 4th block with 4th color.\n",
    "\n",
    "{(3,5),(1,2),(6)}, {(3),(5),(1,2,6)}, {(3,5),(1,2,6)}, {(3),(5,1),(2,6)}, {(3,5,1),(2),(6)}, {(3,5,1),(2,6)}, {(3,5,1,2),(6)}"
   ]
  }
 ],
 "metadata": {
  "language_info": {
   "name": "python"
  }
 },
 "nbformat": 4,
 "nbformat_minor": 5
}
