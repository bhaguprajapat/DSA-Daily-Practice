{
 "cells": [
  {
   "cell_type": "markdown",
   "id": "aa70a3eb",
   "metadata": {},
   "source": [
    "1. Length of Last Word\n",
    "Given a string s consisting of words and spaces, return the length of the last word in the string.\n",
    "\n",
    "A word is a maximal substring consisting of non-space characters only.\n",
    "\n",
    " \n",
    "\n",
    "Example 1:\n",
    "\n",
    "Input: s = \"Hello World\"\n",
    "Output: 5\n",
    "Explanation: The last word is \"World\" with length 5.\n",
    "Example 2:\n",
    "\n",
    "Input: s = \"   fly me   to   the moon  \"\n",
    "Output: 4\n",
    "Explanation: The last word is \"moon\" with length 4.\n",
    "Example 3:\n",
    "\n",
    "Input: s = \"luffy is still joyboy\"\n",
    "Output: 6\n",
    "Explanation: The last word is \"joyboy\" with length 6."
   ]
  },
  {
   "cell_type": "code",
   "execution_count": 2,
   "id": "738ea9e5",
   "metadata": {},
   "outputs": [
    {
     "name": "stdout",
     "output_type": "stream",
     "text": [
      "   fly me   to   the moon  \n",
      "None\n"
     ]
    }
   ],
   "source": [
    "def lengthOfLastWord(s):\n",
    "    print(s)\n",
    "s = \"   fly me   to   the moon  \"\n",
    "print(lengthOfLastWord(s))"
   ]
  },
  {
   "cell_type": "markdown",
   "id": "6b43c395",
   "metadata": {},
   "source": [
    "2. Valid Parentheses\n",
    "Given a string s containing just the characters '(', ')', '{', '}', '[' and ']', determine if the input string is valid.\n",
    "\n",
    "An input string is valid if:\n",
    "\n",
    "Open brackets must be closed by the same type of brackets.\n",
    "Open brackets must be closed in the correct order.\n",
    "Every close bracket has a corresponding open bracket of the same type.\n",
    " \n",
    "\n",
    "Example 1:\n",
    "\n",
    "Input: s = \"()\"\n",
    "\n",
    "Output: true\n",
    "\n",
    "Example 2:\n",
    "\n",
    "Input: s = \"()[]{}\"\n",
    "\n",
    "Output: true\n",
    "\n",
    "Example 3:\n",
    "\n",
    "Input: s = \"(]\"\n",
    "\n",
    "Output: false\n",
    "\n",
    "Example 4:\n",
    "\n",
    "Input: s = \"([])\"\n",
    "\n",
    "Output: true\n",
    "\n",
    " \n",
    "\n",
    "Constraints:\n",
    "\n",
    "1 <= s.length <= 104\n",
    "s consists of parentheses only '()[]{}'."
   ]
  },
  {
   "cell_type": "code",
   "execution_count": 11,
   "id": "7d1863df",
   "metadata": {},
   "outputs": [
    {
     "name": "stdout",
     "output_type": "stream",
     "text": [
      "( )\n",
      "False\n"
     ]
    }
   ],
   "source": [
    "def isValid(s):\n",
    "    # inilitaze the left and right value\n",
    "    left,right=0,len(s)-1\n",
    "    while s[left] <=s[right]:\n",
    "        print(s[left],s[right])\n",
    "        if left!=right:\n",
    "            return False\n",
    "        left+=1\n",
    "        right-=1\n",
    "    return True\n",
    "s = \"([])\"\n",
    "print(isValid(s))"
   ]
  },
  {
   "cell_type": "markdown",
   "id": "1674fe92",
   "metadata": {},
   "source": [
    "Input: nums = [3, 4, 5, 2]  \n",
    "Output: 12  \n",
    "Explanation: (5 - 1) * (4 - 1) = 4 * 3 = 12"
   ]
  },
  {
   "cell_type": "code",
   "execution_count": 21,
   "id": "03e272d6",
   "metadata": {},
   "outputs": [
    {
     "name": "stdout",
     "output_type": "stream",
     "text": [
      "12\n"
     ]
    }
   ],
   "source": [
    "def MaxProduct(nums):\n",
    "    # find two max point then both subtract with 1 and multiply\n",
    "    max1=nums[0]\n",
    "    max2=nums[0]\n",
    "    for i in range(len(nums)):\n",
    "        if max1<nums[i]:\n",
    "            max1=nums[i]\n",
    "    for j in range(len(nums)):\n",
    "        if max2<nums[j]<max1:\n",
    "            max2=nums[j]\n",
    "    return (max1-1)*(max2-1)\n",
    "nums = [3, 4, 5, 2] \n",
    "print(MaxProduct(nums))\n"
   ]
  },
  {
   "cell_type": "code",
   "execution_count": 22,
   "id": "9a13f609",
   "metadata": {},
   "outputs": [
    {
     "name": "stdout",
     "output_type": "stream",
     "text": [
      "12\n"
     ]
    }
   ],
   "source": [
    "def MaxProduct(nums):\n",
    "    max1 = max2 = float('-inf')  # Start with very small values\n",
    "    for num in nums:\n",
    "        if num > max1:\n",
    "            max2 = max1\n",
    "            max1 = num\n",
    "        elif num > max2:\n",
    "            max2 = num\n",
    "    return (max1 - 1) * (max2 - 1)\n",
    "\n",
    "# Test case\n",
    "nums = [3, 4, 5, 2]\n",
    "print(MaxProduct(nums))  # Output: 12"
   ]
  }
 ],
 "metadata": {
  "kernelspec": {
   "display_name": "Python 3",
   "language": "python",
   "name": "python3"
  },
  "language_info": {
   "codemirror_mode": {
    "name": "ipython",
    "version": 3
   },
   "file_extension": ".py",
   "mimetype": "text/x-python",
   "name": "python",
   "nbconvert_exporter": "python",
   "pygments_lexer": "ipython3",
   "version": "3.13.2"
  }
 },
 "nbformat": 4,
 "nbformat_minor": 5
}
