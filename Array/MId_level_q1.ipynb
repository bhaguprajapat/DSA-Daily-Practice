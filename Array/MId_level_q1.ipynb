{
 "cells": [
  {
   "cell_type": "markdown",
   "id": "bd5fb69e",
   "metadata": {},
   "source": [
    "#### 5 Mid leavel Problems\n"
   ]
  },
  {
   "cell_type": "markdown",
   "id": "60fc836d",
   "metadata": {},
   "source": [
    "1. Kadane’s Algorithm (Maximum Subarray Sum)\n",
    "Input: [-2,1,-3,4,-1,2,1,-5,4] → Output: 6"
   ]
  },
  {
   "cell_type": "code",
   "execution_count": null,
   "id": "352ea757",
   "metadata": {},
   "outputs": [
    {
     "name": "stdout",
     "output_type": "stream",
     "text": [
      "6\n"
     ]
    }
   ],
   "source": [
    "def maxSubArray(nums):\n",
    "    ans=nums[0]\n",
    "    for i in range(len(nums)):\n",
    "        cur_sum = 0\n",
    "        for j in range(i, len(nums)):\n",
    "            cur_sum += nums[j]\n",
    "            ans = max(ans, cur_sum)\n",
    "    return ans\n",
    "nums = [-2,1,-3,4,-1,2,1,-5,4]\n",
    "print(maxSubArray(nums))"
   ]
  },
  {
   "cell_type": "markdown",
   "id": "19766171",
   "metadata": {},
   "source": [
    "2. Two Sum Problem\n",
    "Input: nums = [2, 7, 11, 15], target = 9 → Output: [0, 1]"
   ]
  },
  {
   "cell_type": "code",
   "execution_count": 12,
   "id": "2061960f",
   "metadata": {},
   "outputs": [
    {
     "name": "stdout",
     "output_type": "stream",
     "text": [
      "[0, 1]\n"
     ]
    }
   ],
   "source": [
    "def twoSum(nums,target):\n",
    "    result=[]\n",
    "    for i in range(len(nums)):\n",
    "        for j in range(i+1,len(nums)):\n",
    "            if nums[i]+nums[j]==target:\n",
    "                return [i,j]\n",
    "    return -1\n",
    "nums = [3,3]\n",
    "target = 6\n",
    "print(twoSum(nums,target))"
   ]
  },
  {
   "cell_type": "markdown",
   "id": "543199f7",
   "metadata": {},
   "source": [
    "3. Move Zeros to End\n",
    "Input: [0, 1, 0, 3, 12] → Output: [1, 3, 12, 0, 0]"
   ]
  },
  {
   "cell_type": "code",
   "execution_count": 20,
   "id": "88e465aa",
   "metadata": {},
   "outputs": [
    {
     "name": "stdout",
     "output_type": "stream",
     "text": [
      "[0, 1, 0]\n"
     ]
    }
   ],
   "source": [
    "def moveZeroes(nums):\n",
    "    for i in range(len(nums)):\n",
    "        for j in range(i,len(nums)-1):\n",
    "           if nums[j]==0:\n",
    "               nums[j],nums[j+1]=nums[j+1],nums[j]\n",
    "    return nums\n",
    "nums = [0,0,1]\n",
    "print(moveZeroes(nums))"
   ]
  },
  {
   "cell_type": "code",
   "execution_count": null,
   "id": "b3148902",
   "metadata": {},
   "outputs": [
    {
     "name": "stdout",
     "output_type": "stream",
     "text": [
      "[1, 0, 0]\n"
     ]
    }
   ],
   "source": [
    "def moveZeroes(nums):\n",
    "    non_zero = 0  # Pointer for non-zero elements\n",
    "    # Move all non-zero elements to the front\n",
    "    for i in range(len(nums)):\n",
    "        if nums[i] != 0:\n",
    "            nums[i], nums[non_zero] = nums[non_zero], nums[i]\n",
    "            non_zero += 1\n",
    "    return nums\n",
    "nums = [0,0,1]\n",
    "print(moveZeroes(nums))"
   ]
  },
  {
   "cell_type": "markdown",
   "id": "f288a60e",
   "metadata": {},
   "source": [
    "4. Find the Majority Element (> n/2 times)\n",
    "Input: [2, 2, 1, 1, 2, 2, 2] → Output: 2"
   ]
  },
  {
   "cell_type": "code",
   "execution_count": 23,
   "id": "786fd032",
   "metadata": {},
   "outputs": [
    {
     "name": "stdout",
     "output_type": "stream",
     "text": [
      "2\n"
     ]
    }
   ],
   "source": [
    "def majorityElement(nums):\n",
    "    # initialize the count and candidate var\n",
    "    count=0\n",
    "    candidate=None\n",
    "    for num in nums:\n",
    "        # check count is  empty\n",
    "        if count== 0:\n",
    "            candidate=num\n",
    "            # add the each count in count var when cadidate is match other wise -1\n",
    "            count+=(1 if num==candidate else -1)\n",
    "    return candidate\n",
    "nums = [2,2,1,1,1,2,2]\n",
    "print(majorityElement(nums))"
   ]
  },
  {
   "cell_type": "markdown",
   "id": "0c2d8b9a",
   "metadata": {},
   "source": [
    "5. Sort 0s, 1s, and 2s (Dutch National Flag Algorithm)\n",
    "Input: [0, 2, 1, 2, 0] → Output: [0, 0, 1, 2, 2]"
   ]
  },
  {
   "cell_type": "code",
   "execution_count": 24,
   "id": "5a29670f",
   "metadata": {},
   "outputs": [
    {
     "name": "stdout",
     "output_type": "stream",
     "text": [
      "[0, 0, 1, 1, 2, 2]\n"
     ]
    }
   ],
   "source": [
    "def sortColors(nums):\n",
    "    nums.sort()\n",
    "    return nums\n",
    "nums = [2,0,2,1,1,0]\n",
    "print(sortColors(nums))\n"
   ]
  },
  {
   "cell_type": "code",
   "execution_count": 25,
   "id": "bfd10aed",
   "metadata": {},
   "outputs": [
    {
     "name": "stdout",
     "output_type": "stream",
     "text": [
      "[0, 0, 1, 1, 2, 2]\n"
     ]
    }
   ],
   "source": [
    "def sortColors(nums):\n",
    "    for i in range(len(nums)):\n",
    "        for j in range(i,len(nums)):\n",
    "            if nums[i]>nums[j]:\n",
    "                nums[i],nums[j]=nums[j],nums[i]\n",
    "    return nums\n",
    "nums = [2,0,2,1,1,0]\n",
    "print(sortColors(nums))"
   ]
  },
  {
   "cell_type": "markdown",
   "id": "fad0f266",
   "metadata": {},
   "source": [
    "2. Best Time to Buy and Sell Stock\n",
    "You are given an array prices where prices[i] is the price of a given stock on the ith day.\n",
    "\n",
    "You want to maximize your profit by choosing a single day to buy one stock and choosing a different day in the future to sell that stock.\n",
    "\n",
    "Return the maximum profit you can achieve from this transaction. If you cannot achieve any profit, return 0.\n",
    "\n",
    " \n",
    "\n",
    "Example 1:\n",
    "\n",
    "Input: prices = [7,1,5,3,6,4]\n",
    "Output: 5\n",
    "Explanation: Buy on day 2 (price = 1) and sell on day 5 (price = 6), profit = 6-1 = 5.\n",
    "Note that buying on day 2 and selling on day 1 is not allowed because you must buy before you sell.\n",
    "Example 2:\n",
    "\n",
    "Input: prices = [7,6,4,3,1]\n",
    "Output: 0\n",
    "Explanation: In this case, no transactions are done and the max profit = 0."
   ]
  },
  {
   "cell_type": "code",
   "execution_count": 1,
   "id": "085e286d",
   "metadata": {},
   "outputs": [
    {
     "name": "stdout",
     "output_type": "stream",
     "text": [
      "3\n"
     ]
    }
   ],
   "source": [
    "def maxProfit(prices):\n",
    "    # inilitiaze the max price and best day of buy\n",
    "    max_profit,best_buy=0,prices[0]\n",
    "    for i in range(len(prices)):\n",
    "        # calculate max profile\n",
    "        if prices[i]>best_buy:\n",
    "            max_profit=max(max_profit,prices[i]-best_buy)\n",
    "        best_buy=min(best_buy,prices[i])\n",
    "    return max_profit\n",
    "prices = [7,1,4,3,1]\n",
    "print(maxProfit(prices))"
   ]
  },
  {
   "cell_type": "markdown",
   "id": "2f46eb22",
   "metadata": {},
   "source": [
    "3. Best Time to Buy and Sell Stock II\n",
    "You are given an integer array prices where prices[i] is the price of a given stock on the ith day.\n",
    "\n",
    "On each day, you may decide to buy and/or sell the stock. You can only hold at most one share of the stock at any time. However, you can buy it then immediately sell it on the same day.\n",
    "\n",
    "Find and return the maximum profit you can achieve.\n",
    "\n",
    " \n",
    "\n",
    "Example 1:\n",
    "\n",
    "Input: prices = [7,1,5,3,6,4]\n",
    "Output: 7\n",
    "Explanation: Buy on day 2 (price = 1) and sell on day 3 (price = 5), profit = 5-1 = 4.\n",
    "Then buy on day 4 (price = 3) and sell on day 5 (price = 6), profit = 6-3 = 3.\n",
    "Total profit is 4 + 3 = 7.\n",
    "Example 2:\n",
    "\n",
    "Input: prices = [1,2,3,4,5]\n",
    "Output: 4\n",
    "Explanation: Buy on day 1 (price = 1) and sell on day 5 (price = 5), profit = 5-1 = 4.\n",
    "Total profit is 4.\n",
    "Example 3:\n",
    "\n",
    "Input: prices = [7,6,4,3,1]\n",
    "Output: 0\n",
    "Explanation: There is no way to make a positive profit, so we never buy the stock to achieve the maximum profit of 0.\n",
    " \n",
    "\n",
    "Constraints:\n",
    "\n",
    "1 <= prices.length <= 3 * 104\n",
    "0 <= prices[i] <= 104"
   ]
  },
  {
   "cell_type": "code",
   "execution_count": 2,
   "id": "44a4356c",
   "metadata": {},
   "outputs": [
    {
     "name": "stdout",
     "output_type": "stream",
     "text": [
      "4\n"
     ]
    }
   ],
   "source": [
    "def maxProfit(prices):\n",
    "    # inilitaze the total profit of each day\n",
    "    total_profit=0\n",
    "    # run on each day\n",
    "    for i in range(len(prices)-1):\n",
    "        # check current day price if less then next day price\n",
    "        if prices[i]<prices[i+1]:\n",
    "            # calculate profit\n",
    "            profit=prices[i+1]-prices[i]\n",
    "            # calcualte total max profit\n",
    "            total_profit+=profit\n",
    "    return total_profit\n",
    "prices = [1,2,3,4,5]\n",
    "print(maxProfit(prices))"
   ]
  },
  {
   "cell_type": "markdown",
   "id": "2d40b3f3",
   "metadata": {},
   "source": [
    "4. Best Time to Buy and Sell Stock III\n",
    "You are given an array prices where prices[i] is the price of a given stock on the ith day.\n",
    "\n",
    "Find the maximum profit you can achieve. You may complete at most two transactions.\n",
    "\n",
    "Note: You may not engage in multiple transactions simultaneously (i.e., you must sell the stock before you buy again).\n",
    "\n",
    " \n",
    "\n",
    "Example 1:\n",
    "\n",
    "Input: prices = [3,3,5,0,0,3,1,4]\n",
    "Output: 6\n",
    "Explanation: Buy on day 4 (price = 0) and sell on day 6 (price = 3), profit = 3-0 = 3.\n",
    "Then buy on day 7 (price = 1) and sell on day 8 (price = 4), profit = 4-1 = 3.\n",
    "Example 2:\n",
    "\n",
    "Input: prices = [1,2,3,4,5]\n",
    "Output: 4\n",
    "Explanation: Buy on day 1 (price = 1) and sell on day 5 (price = 5), profit = 5-1 = 4.\n",
    "Note that you cannot buy on day 1, buy on day 2 and sell them later, as you are engaging multiple transactions at the same time. You must sell before buying again.\n",
    "Example 3:\n",
    "\n",
    "Input: prices = [7,6,4,3,1]\n",
    "Output: 0\n",
    "Explanation: In this case, no transaction is done, i.e. max profit = 0.\n",
    " \n",
    "\n",
    "Constraints:\n",
    "\n",
    "1 <= prices.length <= 105\n",
    "0 <= prices[i] <= 105"
   ]
  },
  {
   "cell_type": "code",
   "execution_count": null,
   "id": "b38639b7",
   "metadata": {},
   "outputs": [],
   "source": [
    "def maxProfit(prices):\n",
    "    \n",
    "prices = [1,2,3,4,5]\n",
    "print(maxProfit(prices))"
   ]
  }
 ],
 "metadata": {
  "kernelspec": {
   "display_name": "Python 3",
   "language": "python",
   "name": "python3"
  },
  "language_info": {
   "codemirror_mode": {
    "name": "ipython",
    "version": 3
   },
   "file_extension": ".py",
   "mimetype": "text/x-python",
   "name": "python",
   "nbconvert_exporter": "python",
   "pygments_lexer": "ipython3",
   "version": "3.13.2"
  }
 },
 "nbformat": 4,
 "nbformat_minor": 5
}
