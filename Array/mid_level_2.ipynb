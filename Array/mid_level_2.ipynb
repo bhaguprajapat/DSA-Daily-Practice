{
 "cells": [
  {
   "cell_type": "markdown",
   "id": "42e9111b",
   "metadata": {},
   "source": [
    "1. Container With Most Water\n",
    "Medium\n",
    "Topics\n",
    "premium lock icon\n",
    "Companies\n",
    "Hint\n",
    "You are given an integer array height of length n. There are n vertical lines drawn such that the two endpoints of the ith line are (i, 0) and (i, height[i]).\n",
    "\n",
    "Find two lines that together with the x-axis form a container, such that the container contains the most water.\n",
    "\n",
    "Return the maximum amount of water a container can store.\n",
    "\n",
    "Notice that you may not slant the container.\n",
    "\n",
    " \n",
    "\n",
    "Example 1:\n",
    "\n",
    "\n",
    "Input: height = [1,8,6,2,5,4,8,3,7]\n",
    "Output: 49\n",
    "Explanation: The above vertical lines are represented by array [1,8,6,2,5,4,8,3,7]. In this case, the max area of water (blue section) the container can contain is 49.\n",
    "Example 2:\n",
    "\n",
    "Input: height = [1,1]\n",
    "Output: 1\n",
    " "
   ]
  },
  {
   "cell_type": "code",
   "execution_count": 1,
   "id": "f3fc3e68",
   "metadata": {},
   "outputs": [
    {
     "name": "stdout",
     "output_type": "stream",
     "text": [
      "49\n"
     ]
    }
   ],
   "source": [
    "def maxArea(height):\n",
    "    # left and right pointers starting from leftmost and right most\n",
    "    left,right=0,len(height)-1\n",
    "    maxWater=0 #initilaze the max water\n",
    "    while left<right:\n",
    "        # calculate width of the container\n",
    "        width=right-left\n",
    "        # calucate height of the container (the minumam height between two lines)\n",
    "        hgt=min(height[left],height[right])\n",
    "        # calculate the area of max\n",
    "        water=width*hgt\n",
    "        # update the maximum water capacity if the current container hold the mode water\n",
    "        maxWater=max(maxWater,water)\n",
    "        # move the pointer to the eachother\n",
    "        if height[left]<height[right]:\n",
    "            left+=1\n",
    "        else:\n",
    "            right-=1\n",
    "    return maxWater\n",
    "\n",
    "height = [1,8,6,2,5,4,8,3,7]\n",
    "print(maxArea(height))\n"
   ]
  },
  {
   "cell_type": "markdown",
   "id": "517a1a06",
   "metadata": {},
   "source": [
    "2. xxLongest Common Prefix\n",
    "Easy\n",
    "Topics\n",
    "premium lock icon\n",
    "Companies\n",
    "Write a function to find the longest common prefix string amongst an array of strings.\n",
    "\n",
    "If there is no common prefix, return an empty string \"\".\n",
    "\n",
    " \n",
    "\n",
    "Example 1:\n",
    "\n",
    "Input: strs = [\"flower\",\"flow\",\"flight\"]\n",
    "Output: \"fl\"\n",
    "Example 2:\n",
    "\n",
    "Input: strs = [\"dog\",\"racecar\",\"car\"]\n",
    "Output: \"\"\n",
    "Explanation: There is no common prefix among the input strings."
   ]
  },
  {
   "cell_type": "code",
   "execution_count": 3,
   "id": "037a358b",
   "metadata": {},
   "outputs": [
    {
     "name": "stdout",
     "output_type": "stream",
     "text": [
      "fl\n"
     ]
    }
   ],
   "source": [
    "def longestCommonPrefix(strs):\n",
    "    # if tring is empty then return \"\"\n",
    "    if not strs:\n",
    "        return \"\"\n",
    "    prefix=strs[0] #inilitaze the prefix\n",
    "    for s in strs[1:]:\n",
    "        while not s.startswith(prefix) and prefix:\n",
    "            prefix=prefix[:-1]\n",
    "        if not prefix:\n",
    "            return \"\"\n",
    "    return prefix\n",
    "strs = [\"flower\",\"flow\",\"flight\"]\n",
    "print(longestCommonPrefix(strs))\n"
   ]
  },
  {
   "cell_type": "markdown",
   "id": "d22768bd",
   "metadata": {},
   "source": [
    "3. 3Sum\n",
    "Medium\n",
    "Topics\n",
    "premium lock icon\n",
    "Companies\n",
    "Hint\n",
    "Given an integer array nums, return all the triplets [nums[i], nums[j], nums[k]] such that i != j, i != k, and j != k, and nums[i] + nums[j] + nums[k] == 0.\n",
    "\n",
    "Notice that the solution set must not contain duplicate triplets.\n",
    "\n",
    " \n",
    "\n",
    "Example 1:\n",
    "\n",
    "Input: nums = [-1,0,1,2,-1,-4]\n",
    "Output: [[-1,-1,2],[-1,0,1]]\n",
    "Explanation: \n",
    "nums[0] + nums[1] + nums[2] = (-1) + 0 + 1 = 0.\n",
    "nums[1] + nums[2] + nums[4] = 0 + 1 + (-1) = 0.\n",
    "nums[0] + nums[3] + nums[4] = (-1) + 2 + (-1) = 0.\n",
    "The distinct triplets are [-1,0,1] and [-1,-1,2].\n",
    "Notice that the order of the output and the order of the triplets does not matter.\n",
    "Example 2:\n",
    "\n",
    "Input: nums = [0,1,1]\n",
    "Output: []\n",
    "Explanation: The only possible triplet does not sum up to 0.\n",
    "Example 3:\n",
    "\n",
    "Input: nums = [0,0,0]\n",
    "Output: [[0,0,0]]\n",
    "Explanation: The only possible triplet sums up to 0. "
   ]
  },
  {
   "cell_type": "code",
   "execution_count": 6,
   "id": "822edce0",
   "metadata": {},
   "outputs": [
    {
     "name": "stdout",
     "output_type": "stream",
     "text": [
      "[]\n"
     ]
    }
   ],
   "source": [
    "def threeSum(nums):\n",
    "    target=0 # initilaze the target\n",
    "    nums.sort() #sort the list\n",
    "    s=set() #inilitiaze the set\n",
    "    output=[] # inilatize the output\n",
    "    for i in range(len(nums)):\n",
    "        j=i+1\n",
    "        k=len(nums)-1\n",
    "        while j<k:\n",
    "            # calculate sum of three element\n",
    "            sum=nums[i]+nums[j]+nums[k]\n",
    "            if sum==target:\n",
    "                s.add((nums[i],nums[j],nums[k]))\n",
    "                j+=1\n",
    "                k-=1\n",
    "            elif sum<target:\n",
    "                j+=1\n",
    "            else:\n",
    "                k-=1\n",
    "    output=list(s)\n",
    "    return output\n",
    "nums = [0,1,1]\n",
    "print(threeSum(nums))"
   ]
  }
 ],
 "metadata": {
  "kernelspec": {
   "display_name": "Python 3",
   "language": "python",
   "name": "python3"
  },
  "language_info": {
   "codemirror_mode": {
    "name": "ipython",
    "version": 3
   },
   "file_extension": ".py",
   "mimetype": "text/x-python",
   "name": "python",
   "nbconvert_exporter": "python",
   "pygments_lexer": "ipython3",
   "version": "3.13.2"
  }
 },
 "nbformat": 4,
 "nbformat_minor": 5
}
