{
 "cells": [
  {
   "cell_type": "markdown",
   "id": "19912631",
   "metadata": {},
   "source": []
  },
  {
   "cell_type": "markdown",
   "id": "fc005427",
   "metadata": {},
   "source": [
    "1. Maximum Product Subarray\n",
    "Input: [2,3,-2,4] → Output: 6"
   ]
  },
  {
   "cell_type": "code",
   "execution_count": null,
   "id": "ac3d460b",
   "metadata": {
    "vscode": {
     "languageId": "plaintext"
    }
   },
   "outputs": [],
   "source": []
  },
  {
   "cell_type": "markdown",
   "id": "905c2ae8",
   "metadata": {},
   "source": [
    "2.  Trapping Rain Water\n",
    "Input: [0,1,0,2,1,0,1,3,2,1,2,1] → Output: 6"
   ]
  },
  {
   "cell_type": "code",
   "execution_count": null,
   "id": "fa39828b",
   "metadata": {
    "vscode": {
     "languageId": "plaintext"
    }
   },
   "outputs": [],
   "source": []
  },
  {
   "cell_type": "markdown",
   "id": "fc84ebc8",
   "metadata": {},
   "source": [
    "3. Subarray with Given XOR (or Target Sum)\n",
    "Input: arr = [4, 2, 2, 6, 4], k = 6 → Output: 4 subarrays"
   ]
  },
  {
   "cell_type": "code",
   "execution_count": null,
   "id": "5b243d74",
   "metadata": {
    "vscode": {
     "languageId": "plaintext"
    }
   },
   "outputs": [],
   "source": []
  },
  {
   "cell_type": "markdown",
   "id": "665e514b",
   "metadata": {},
   "source": [
    "4. Count Inversions in an Array (Merge Sort based)\n",
    "Input: [2, 4, 1, 3, 5] → Output: 3"
   ]
  },
  {
   "cell_type": "code",
   "execution_count": null,
   "id": "0ee48edf",
   "metadata": {
    "vscode": {
     "languageId": "plaintext"
    }
   },
   "outputs": [],
   "source": []
  },
  {
   "cell_type": "markdown",
   "id": "4ec152ea",
   "metadata": {},
   "source": [
    "5. Median of Two Sorted Arrays (Optimal in log(min(n, m)))\n",
    "Input: nums1 = [1, 3], nums2 = [2] → Output: 2.0"
   ]
  }
 ],
 "metadata": {
  "language_info": {
   "name": "python"
  }
 },
 "nbformat": 4,
 "nbformat_minor": 5
}
