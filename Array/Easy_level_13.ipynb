{
 "cells": [
  {
   "cell_type": "markdown",
   "id": "2ab97e95",
   "metadata": {},
   "source": [
    "1. Reverse String\n",
    "Write a function that reverses a string. The input string is given as an array of characters s.\n",
    "\n",
    "You must do this by modifying the input array in-place with O(1) extra memory.\n",
    "\n",
    " \n",
    "\n",
    "Example 1:\n",
    "\n",
    "Input: s = [\"h\",\"e\",\"l\",\"l\",\"o\"]\n",
    "Output: [\"o\",\"l\",\"l\",\"e\",\"h\"]\n",
    "Example 2:\n",
    "\n",
    "Input: s = [\"H\",\"a\",\"n\",\"n\",\"a\",\"h\"]\n",
    "Output: [\"h\",\"a\",\"n\",\"n\",\"a\",\"H\"]"
   ]
  },
  {
   "cell_type": "code",
   "execution_count": 2,
   "id": "1f7383a3",
   "metadata": {},
   "outputs": [
    {
     "name": "stdout",
     "output_type": "stream",
     "text": [
      "['h', 'a', 'n', 'n', 'a', 'H']\n"
     ]
    }
   ],
   "source": [
    "def reverseString(s):\n",
    "    # get left and right len\n",
    "    left,right=0,len(s)-1\n",
    "    while left<right:\n",
    "        s[left],s[right]=s[right],s[left]\n",
    "        left+=1\n",
    "        right-=1\n",
    "    return s\n",
    "s = [\"H\",\"a\",\"n\",\"n\",\"a\",\"h\"]\n",
    "print(reverseString(s))"
   ]
  },
  {
   "cell_type": "markdown",
   "id": "346f5b9f",
   "metadata": {},
   "source": [
    "2. Check if Array Is Sorted and Rotated\n",
    "Given an array nums, return true if the array was originally sorted in non-decreasing order, then rotated some number of positions (including zero). Otherwise, return false.\n",
    "\n",
    "There may be duplicates in the original array.\n",
    "\n",
    "Note: An array A rotated by x positions results in an array B of the same length such that B[i] == A[(i+x) % A.length] for every valid index i.\n",
    "\n",
    " \n",
    "\n",
    "Example 1:\n",
    "\n",
    "Input: nums = [3,4,5,1,2]\n",
    "Output: true\n",
    "Explanation: [1,2,3,4,5] is the original sorted array.\n",
    "You can rotate the array by x = 3 positions to begin on the element of value 3: [3,4,5,1,2].\n",
    "Example 2:\n",
    "\n",
    "Input: nums = [2,1,3,4]\n",
    "Output: false\n",
    "Explanation: There is no sorted array once rotated that can make nums.\n",
    "Example 3:\n",
    "\n",
    "Input: nums = [1,2,3]\n",
    "Output: true\n",
    "Explanation: [1,2,3] is the original sorted array.\n",
    "You can rotate the array by x = 0 positions (i.e. no rotation) to make nums."
   ]
  },
  {
   "cell_type": "code",
   "execution_count": null,
   "id": "9b4abbd5",
   "metadata": {},
   "outputs": [
    {
     "name": "stdout",
     "output_type": "stream",
     "text": [
      "1\n",
      "2\n",
      "0\n",
      "True\n"
     ]
    }
   ],
   "source": [
    "def check(nums):\n",
    "    count=0\n",
    "    for i in range(len(nums)):\n",
    "        # print((i+1)% len(nums))\n",
    "        if nums[i]>nums[(i+1)% len(nums)]:\n",
    "            count+=1\n",
    "            if count>1:\n",
    "                return False\n",
    "    return True\n",
    "nums = [1,2,3]\n",
    "print(check(nums))"
   ]
  },
  {
   "cell_type": "markdown",
   "id": "bb50fa15",
   "metadata": {},
   "source": [
    "3.  Find Target Indices After Sorting Array\n",
    "Easy\n",
    "Topics\n",
    "premium lock icon\n",
    "Companies\n",
    "Hint\n",
    "You are given a 0-indexed integer array nums and a target element target.\n",
    "\n",
    "A target index is an index i such that nums[i] == target.\n",
    "\n",
    "Return a list of the target indices of nums after sorting nums in non-decreasing order. If there are no target indices, return an empty list. The returned list must be sorted in increasing order.\n",
    "\n",
    " \n",
    "\n",
    "Example 1:\n",
    "\n",
    "Input: nums = [1,2,5,2,3], target = 2\n",
    "Output: [1,2]\n",
    "Explanation: After sorting, nums is [1,2,2,3,5].\n",
    "The indices where nums[i] == 2 are 1 and 2.\n",
    "Example 2:\n",
    "\n",
    "Input: nums = [1,2,5,2,3], target = 3\n",
    "Output: [3]\n",
    "Explanation: After sorting, nums is [1,2,2,3,5].\n",
    "The index where nums[i] == 3 is 3.\n",
    "Example 3:\n",
    "\n",
    "Input: nums = [1,2,5,2,3], target = 5\n",
    "Output: [4]\n",
    "Explanation: After sorting, nums is [1,2,2,3,5].\n",
    "The index where nums[i] == 5 is 4."
   ]
  },
  {
   "cell_type": "code",
   "execution_count": 7,
   "id": "137987da",
   "metadata": {},
   "outputs": [
    {
     "name": "stdout",
     "output_type": "stream",
     "text": [
      "[1, 2]\n"
     ]
    }
   ],
   "source": [
    "def targetIndices(nums, target):\n",
    "    # first sort the array\n",
    "    result=[]\n",
    "    nums.sort()\n",
    "    for i in range(len(nums)):\n",
    "        if nums[i]==target:\n",
    "            result.append(i)\n",
    "    return result\n",
    "nums = [1,2,5,2,3]\n",
    "target = 2\n",
    "print(targetIndices(nums, target))\n"
   ]
  },
  {
   "cell_type": "code",
   "execution_count": 5,
   "id": "641ecbc0",
   "metadata": {},
   "outputs": [
    {
     "name": "stdout",
     "output_type": "stream",
     "text": [
      "{0: 2, 3: 7}\n"
     ]
    }
   ],
   "source": [
    "def getSum(nums,target):\n",
    "    left,right=0,len(nums)-1\n",
    "    while left<right:\n",
    "        sum=nums[left]+nums[right]\n",
    "        if  sum==target:\n",
    "            return {left: nums[left],right:nums[right]}\n",
    "        elif sum<target:\n",
    "            left+=1\n",
    "        else:\n",
    "            right-=1\n",
    "    return -1\n",
    "nums=[2,5,6,7,8,12,15]\n",
    "target=9\n",
    "print(getSum(nums,target))"
   ]
  },
  {
   "cell_type": "markdown",
   "id": "e18fe48a",
   "metadata": {},
   "source": [
    "5. Majority Element\n",
    "Attempted\n",
    "Easy\n",
    "Topics\n",
    "premium lock icon\n",
    "Companies\n",
    "Given an array nums of size n, return the majority element.\n",
    "\n",
    "The majority element is the element that appears more than ⌊n / 2⌋ times. You may assume that the majority element always exists in the array.\n",
    "\n",
    " \n",
    "\n",
    "Example 1:\n",
    "\n",
    "Input: nums = [3,2,3]\n",
    "Output: 3\n",
    "Example 2:\n",
    "\n",
    "Input: nums = [2,2,1,1,1,2,2]\n",
    "Output: 2"
   ]
  },
  {
   "cell_type": "code",
   "execution_count": 20,
   "id": "de252fde",
   "metadata": {},
   "outputs": [
    {
     "name": "stdout",
     "output_type": "stream",
     "text": [
      "-1\n"
     ]
    }
   ],
   "source": [
    "# brust force approch\n",
    "def megority_element(nums):\n",
    "    \n",
    "    for i in range(len(nums)):\n",
    "        count=0\n",
    "        for j in range(i+1,len(nums)):\n",
    "            if nums[i]==nums[j]:\n",
    "                count+=1\n",
    "            if count>len(nums)//2:\n",
    "                return nums[i]\n",
    "    return -1\n",
    "nums=[3,2,3]\n",
    "print(megority_element(nums))\n",
    "\n"
   ]
  },
  {
   "cell_type": "code",
   "execution_count": 22,
   "id": "6d639520",
   "metadata": {},
   "outputs": [
    {
     "name": "stdout",
     "output_type": "stream",
     "text": [
      "2\n"
     ]
    }
   ],
   "source": [
    "# better force approch\n",
    "def megority_element(nums):\n",
    "    nums.sort()\n",
    "    ans=nums[0]\n",
    "    freq=0\n",
    "    for i in range(len(nums)):\n",
    "        if ans==nums[i]:\n",
    "            freq+=1\n",
    "        if freq>len(nums)//2:\n",
    "            return nums[i]\n",
    "        ans=nums[i]\n",
    "    return ans\n",
    "nums=[2,2,3]\n",
    "print(megority_element(nums))\n",
    "\n"
   ]
  },
  {
   "cell_type": "code",
   "execution_count": 1,
   "id": "2467d68a",
   "metadata": {},
   "outputs": [
    {
     "name": "stdout",
     "output_type": "stream",
     "text": [
      "2\n"
     ]
    }
   ],
   "source": [
    "# better force approch\n",
    "def megority_element(nums):\n",
    "    freq=0\n",
    "    ans=0\n",
    "    for i in range(len(nums)):\n",
    "        if freq==0:\n",
    "            ans=nums[i]\n",
    "        if ans==nums[i]:\n",
    "            freq+=1\n",
    "        else:\n",
    "            freq-=1\n",
    "    return ans\n",
    "nums=[2,2,3]\n",
    "print(megority_element(nums))\n",
    "\n"
   ]
  },
  {
   "cell_type": "markdown",
   "id": "7568a5b5",
   "metadata": {},
   "source": [
    "Contains Duplicate II\n",
    "Given an integer array nums and an integer k, return true if there are two distinct indices i and j in the array such that nums[i] == nums[j] and abs(i - j) <= k.\n",
    "\n",
    " \n",
    "\n",
    "Example 1:\n",
    "\n",
    "Input: nums = [1,2,3,1], k = 3\n",
    "Output: true\n",
    "Example 2:\n",
    "\n",
    "Input: nums = [1,0,1,1], k = 1\n",
    "Output: true\n",
    "Example 3:\n",
    "\n",
    "Input: nums = [1,2,3,1,2,3], k = 2\n",
    "Output: false\n",
    " \n",
    "\n",
    "Constraints:\n",
    "\n",
    "1 <= nums.length <= 105\n",
    "-109 <= nums[i] <= 109\n",
    "0 <= k <= 105"
   ]
  },
  {
   "cell_type": "code",
   "execution_count": 4,
   "id": "164499ac",
   "metadata": {},
   "outputs": [
    {
     "name": "stdout",
     "output_type": "stream",
     "text": [
      "0\n",
      "None\n"
     ]
    }
   ],
   "source": [
    "def containsNearbyDuplicate( nums, k):\n",
    "    discs=dict()\n",
    "    for i in range(len(nums)):\n",
    "        if nums[i] not in discs:\n",
    "            print(i)\n",
    "        discs[i]=nums[i]\n",
    "nums = [1,0,1,1]\n",
    "k = 1 \n",
    "print(containsNearbyDuplicate( nums, k))"
   ]
  }
 ],
 "metadata": {
  "kernelspec": {
   "display_name": "Python 3",
   "language": "python",
   "name": "python3"
  },
  "language_info": {
   "codemirror_mode": {
    "name": "ipython",
    "version": 3
   },
   "file_extension": ".py",
   "mimetype": "text/x-python",
   "name": "python",
   "nbconvert_exporter": "python",
   "pygments_lexer": "ipython3",
   "version": "3.13.2"
  }
 },
 "nbformat": 4,
 "nbformat_minor": 5
}
