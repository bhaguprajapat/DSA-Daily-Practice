{
 "cells": [
  {
   "cell_type": "markdown",
   "id": "524e6ae6",
   "metadata": {},
   "source": [
    "1. 4Sum\n",
    "Given an array nums of n integers, return an array of all the unique quadruplets [nums[a], nums[b], nums[c], nums[d]] such that:\n",
    "\n",
    "0 <= a, b, c, d < n\n",
    "a, b, c, and d are distinct.\n",
    "nums[a] + nums[b] + nums[c] + nums[d] == target\n",
    "You may return the answer in any order.\n",
    "\n",
    " \n",
    "\n",
    "Example 1:\n",
    "\n",
    "Input: nums = [1,0,-1,0,-2,2], target = 0\n",
    "Output: [[-2,-1,1,2],[-2,0,0,2],[-1,0,0,1]]\n",
    "Example 2:\n",
    "\n",
    "Input: nums = [2,2,2,2,2], target = 8\n",
    "Output: [[2,2,2,2]]"
   ]
  },
  {
   "cell_type": "code",
   "execution_count": 9,
   "id": "a1a69f91",
   "metadata": {},
   "outputs": [
    {
     "name": "stdout",
     "output_type": "stream",
     "text": [
      "[[1, 2, 0, -2], [1, 2, -1, 0], [0, -2, -1, 0]]\n"
     ]
    }
   ],
   "source": [
    "def fourSum(nums,target):\n",
    "    # define a and b value\n",
    "    a,b=0,len(nums)-1\n",
    "    ans=[] #inilitaze the ans\n",
    "    while a<b:\n",
    "        c,d=a+1,b-1\n",
    "        while c<d:\n",
    "            ans.append([nums[a],nums[b],nums[c],nums[d]])\n",
    "            if nums[a]+nums[b]+nums[c]+nums[d]==target:\n",
    "                ans.append([nums[a],nums[b],nums[c],nums[d]])\n",
    "            c+=1\n",
    "            d-=1\n",
    "        a+=1\n",
    "        b-=1\n",
    "    return ans\n",
    "nums = [1,0,-1,0,-2,2]\n",
    "target = 0\n",
    "print(fourSum(nums,target))"
   ]
  },
  {
   "cell_type": "markdown",
   "id": "971c5556",
   "metadata": {},
   "source": [
    "2. Search in Rotated Sorted Array \n",
    "There is an integer array nums sorted in ascending order (with distinct values).\n",
    "\n",
    "Prior to being passed to your function, nums is possibly rotated at an unknown pivot index k (1 <= k < nums.length) such that the resulting array is [nums[k], nums[k+1], ..., nums[n-1], nums[0], nums[1], ..., nums[k-1]] (0-indexed). For example, [0,1,2,4,5,6,7] might be rotated at pivot index 3 and become [4,5,6,7,0,1,2].\n",
    "\n",
    "Given the array nums after the possible rotation and an integer target, return the index of target if it is in nums, or -1 if it is not in nums.\n",
    "\n",
    "You must write an algorithm with O(log n) runtime complexity.\n",
    "\n",
    " \n",
    "\n",
    "Example 1:\n",
    "\n",
    "Input: nums = [4,5,6,7,0,1,2], target = 0\n",
    "Output: 4\n",
    "Example 2:\n",
    "\n",
    "Input: nums = [4,5,6,7,0,1,2], target = 3\n",
    "Output: -1\n",
    "Example 3:\n",
    "\n",
    "Input: nums = [1], target = 0\n",
    "Output: -1"
   ]
  },
  {
   "cell_type": "code",
   "execution_count": 13,
   "id": "e2630395",
   "metadata": {},
   "outputs": [
    {
     "name": "stdout",
     "output_type": "stream",
     "text": [
      "0\n"
     ]
    }
   ],
   "source": [
    "def search(nums,target):\n",
    "    left,right=0,len(nums)-1 # inilitaze the left and right pointer\n",
    "    while left<=right:\n",
    "        mid=(left+right)//2\n",
    "        # check target\n",
    "        if nums[mid]==target:\n",
    "            return mid\n",
    "        elif nums[mid]>=nums[left]: #check left side is sorted\n",
    "            if nums[left]<=target<nums[mid]:\n",
    "                right=mid-1\n",
    "            else:\n",
    "                left=mid+1\n",
    "        else: #check right side is sorted\n",
    "            if nums[mid]<target<=nums[right]:\n",
    "                left=mid+1\n",
    "            else:\n",
    "                right=mid-1\n",
    "    return -1\n",
    "nums ,target= [1], 1\n",
    "print(search(nums,target))"
   ]
  },
  {
   "cell_type": "markdown",
   "id": "d9d28f9d",
   "metadata": {},
   "source": [
    "3.  Next Permutation\n",
    "A permutation of an array of integers is an arrangement of its members into a sequence or linear order.\n",
    "\n",
    "For example, for arr = [1,2,3], the following are all the permutations of arr: [1,2,3], [1,3,2], [2, 1, 3], [2, 3, 1], [3,1,2], [3,2,1].\n",
    "The next permutation of an array of integers is the next lexicographically greater permutation of its integer. More formally, if all the permutations of the array are sorted in one container according to their lexicographical order, then the next permutation of that array is the permutation that follows it in the sorted container. If such arrangement is not possible, the array must be rearranged as the lowest possible order (i.e., sorted in ascending order).\n",
    "\n",
    "For example, the next permutation of arr = [1,2,3] is [1,3,2].\n",
    "Similarly, the next permutation of arr = [2,3,1] is [3,1,2].\n",
    "While the next permutation of arr = [3,2,1] is [1,2,3] because [3,2,1] does not have a lexicographical larger rearrangement.\n",
    "Given an array of integers nums, find the next permutation of nums.\n",
    "\n",
    "The replacement must be in place and use only constant extra memory.\n",
    "\n",
    " \n",
    "\n",
    "Example 1:\n",
    "\n",
    "Input: nums = [1,2,3]\n",
    "Output: [1,3,2]\n",
    "Example 2:\n",
    "\n",
    "Input: nums = [3,2,1]\n",
    "Output: [1,2,3]\n",
    "Example 3:\n",
    "\n",
    "Input: nums = [1,1,5]\n",
    "Output: [1,5,1]"
   ]
  },
  {
   "cell_type": "code",
   "execution_count": 15,
   "id": "3e66c57c",
   "metadata": {},
   "outputs": [
    {
     "name": "stdout",
     "output_type": "stream",
     "text": [
      "[1, 2, 3]\n"
     ]
    }
   ],
   "source": [
    "def nextPermutation(nums):\n",
    "    # define n and i with lenth of nums and jump with 2\n",
    "    n=len(nums)\n",
    "    i=n-2\n",
    "    while i>=0 and nums[i]>=nums[i+1]:\n",
    "        i-=1\n",
    "    if i<0:\n",
    "        nums.sort()\n",
    "        return nums\n",
    "    j=n-1\n",
    "    while j>=0 and nums[i]>=nums[j]:\n",
    "        j-=1\n",
    "    nums[i],nums[j]=nums[j],nums[i]\n",
    "    i+=1\n",
    "    j=n-1\n",
    "    while i<j:\n",
    "        nums[i],nums[j]=nums[j],nums[i]\n",
    "        i+=1\n",
    "        j-=1\n",
    "    return nums\n",
    "nums = [3,2,1]\n",
    "print(nextPermutation(nums))"
   ]
  },
  {
   "cell_type": "markdown",
   "id": "f7c37e79",
   "metadata": {},
   "source": [
    "4. Find First and Last Position of Element in Sorted Array\n",
    "Given an array of integers nums sorted in non-decreasing order, find the starting and ending position of a given target value.\n",
    "\n",
    "If target is not found in the array, return [-1, -1].\n",
    "\n",
    "You must write an algorithm with O(log n) runtime complexity.\n",
    "\n",
    " \n",
    "\n",
    "Example 1:\n",
    "\n",
    "Input: nums = [5,7,7,8,8,10], target = 8\n",
    "Output: [3,4]\n",
    "Example 2:\n",
    "\n",
    "Input: nums = [5,7,7,8,8,10], target = 6\n",
    "Output: [-1,-1]\n",
    "Example 3:\n",
    "\n",
    "Input: nums = [], target = 0\n",
    "Output: [-1,-1]"
   ]
  },
  {
   "cell_type": "code",
   "execution_count": 24,
   "id": "edbff8e6",
   "metadata": {},
   "outputs": [
    {
     "name": "stdout",
     "output_type": "stream",
     "text": [
      "[0]\n"
     ]
    }
   ],
   "source": [
    "def searchRange(nums,target):\n",
    "    # inilitaze left and right pointer\n",
    "    left,right=0,len(nums)-1\n",
    "    ans=[] # inilitaze the \n",
    "    while left<=right:\n",
    "        # find mid\n",
    "        mid=(left+right)//2\n",
    "        if nums[mid]==target:\n",
    "            ans.append(mid)\n",
    "            right=mid-1\n",
    "        elif nums[mid]<target:\n",
    "            left=mid+1\n",
    "        else:\n",
    "            right=mid-1\n",
    "    # check get any output ya not\n",
    "    if len(ans)>0:\n",
    "        ans.sort()\n",
    "        return ans\n",
    "    else:\n",
    "        return [-1,-1]\n",
    "nums,target=[2,2], 2\n",
    "print(searchRange(nums,target))"
   ]
  },
  {
   "cell_type": "code",
   "execution_count": 25,
   "id": "ede13980",
   "metadata": {},
   "outputs": [
    {
     "name": "stdout",
     "output_type": "stream",
     "text": [
      "[0, 1]\n"
     ]
    }
   ],
   "source": [
    "class Solution(object):\n",
    "    def first_position(self,nums,target,n):\n",
    "            left=0\n",
    "            right=n\n",
    "            result=-1\n",
    "            while left<=right:\n",
    "                mid=left+(right-left)//2\n",
    "                if nums[mid]==target:\n",
    "                    result=mid\n",
    "                    right=mid-1\n",
    "                elif nums[mid]<target:\n",
    "                    left=mid+1\n",
    "                else:\n",
    "                    right=mid-1\n",
    "            return result\n",
    "    def last_position(self,nums,target,n):\n",
    "        result=-1\n",
    "        left,right=0,n\n",
    "        while left<=right:\n",
    "            mid=left+(right-left)//2\n",
    "            if nums[mid]==target:\n",
    "                result=mid\n",
    "                left=mid+1\n",
    "            elif nums[mid]>target:\n",
    "                right=mid-1\n",
    "            else:\n",
    "                left=mid+1\n",
    "        return result\n",
    "    def searchRange(self, nums, target):\n",
    "        n=len(nums)-1\n",
    "        first_posit=self.first_position(nums,target,n)\n",
    "        last_posit=self.last_position(nums,target,n)\n",
    "        return [first_posit,last_posit]\n",
    "\n",
    "sl= Solution()\n",
    "nums,target=[2,2], 2\n",
    "print(sl.searchRange(nums,target))"
   ]
  },
  {
   "cell_type": "markdown",
   "id": "bded9230",
   "metadata": {},
   "source": [
    "5. Sqrt(x)\n",
    "Given a non-negative integer x, return the square root of x rounded down to the nearest integer. The returned integer should be non-negative as well.\n",
    "\n",
    "You must not use any built-in exponent function or operator.\n",
    "\n",
    "For example, do not use pow(x, 0.5) in c++ or x ** 0.5 in python.\n",
    " \n",
    "\n",
    "Example 1:\n",
    "\n",
    "Input: x = 4\n",
    "Output: 2\n",
    "Explanation: The square root of 4 is 2, so we return 2.\n",
    "Example 2:\n",
    "\n",
    "Input: x = 8\n",
    "Output: 2\n",
    "Explanation: The square root of 8 is 2.82842..., and since we round it down to the nearest integer, 2 is returned.\n",
    " "
   ]
  },
  {
   "cell_type": "code",
   "execution_count": 8,
   "id": "6ada2b3a",
   "metadata": {},
   "outputs": [
    {
     "name": "stdout",
     "output_type": "stream",
     "text": [
      "4\n"
     ]
    }
   ],
   "source": [
    "def mySqrt(x):\n",
    "    left,right=0,x #initilaze the left and right pointer\n",
    "    while left<=right:\n",
    "        # calculate mid\n",
    "        mid=(left+right)//2\n",
    "        if mid*mid==x:\n",
    "            return mid\n",
    "        elif mid*mid>x:\n",
    "            right=mid-1\n",
    "        else:\n",
    "            left=mid+1\n",
    "    return left-1\n",
    "x = 16\n",
    "print(mySqrt(x))"
   ]
  }
 ],
 "metadata": {
  "kernelspec": {
   "display_name": "Python 3",
   "language": "python",
   "name": "python3"
  },
  "language_info": {
   "codemirror_mode": {
    "name": "ipython",
    "version": 3
   },
   "file_extension": ".py",
   "mimetype": "text/x-python",
   "name": "python",
   "nbconvert_exporter": "python",
   "pygments_lexer": "ipython3",
   "version": "3.13.2"
  }
 },
 "nbformat": 4,
 "nbformat_minor": 5
}
