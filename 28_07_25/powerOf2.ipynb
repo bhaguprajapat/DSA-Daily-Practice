{
 "cells": [
  {
   "cell_type": "code",
   "execution_count": null,
   "id": "64e00e50",
   "metadata": {},
   "outputs": [
    {
     "name": "stdout",
     "output_type": "stream",
     "text": [
      "6\n",
      "3\n",
      "False\n"
     ]
    }
   ],
   "source": [
    "def powerOf(n):\n",
    "    for i in range(n):\n",
    "        n=n//2\n",
    "        if n==1:\n",
    "            return True\n",
    "        if n%2!=0:\n",
    "            return False\n",
    "print(powerOf(12))"
   ]
  },
  {
   "cell_type": "code",
   "execution_count": 27,
   "id": "871fe19f",
   "metadata": {},
   "outputs": [
    {
     "name": "stdout",
     "output_type": "stream",
     "text": [
      "521\n"
     ]
    }
   ],
   "source": [
    "def reverseInt(n):\n",
    "    n=str(n)\n",
    "    res=\"\"\n",
    "    for i in range(len(n)):\n",
    "        mo=int(n)%10\n",
    "        n=int(n)//10\n",
    "        res+=str(mo)\n",
    "    return res\n",
    "print(reverseInt(125))"
   ]
  }
 ],
 "metadata": {
  "kernelspec": {
   "display_name": "Python 3",
   "language": "python",
   "name": "python3"
  },
  "language_info": {
   "codemirror_mode": {
    "name": "ipython",
    "version": 3
   },
   "file_extension": ".py",
   "mimetype": "text/x-python",
   "name": "python",
   "nbconvert_exporter": "python",
   "pygments_lexer": "ipython3",
   "version": "3.13.2"
  }
 },
 "nbformat": 4,
 "nbformat_minor": 5
}
