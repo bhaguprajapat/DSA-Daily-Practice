{
 "cells": [
  {
   "cell_type": "markdown",
   "id": "193d2ced",
   "metadata": {},
   "source": [
    "1. Valid Perfect Square\n",
    "Given a positive integer num, return true if num is a perfect square or false otherwise.\n",
    "\n",
    "A perfect square is an integer that is the square of an integer. In other words, it is the product of some integer with itself.\n",
    "\n",
    "You must not use any built-in library function, such as sqrt.\n",
    "\n",
    " \n",
    "\n",
    "Example 1:\n",
    "\n",
    "Input: num = 16\n",
    "Output: true\n",
    "Explanation: We return true because 4 * 4 = 16 and 4 is an integer.\n",
    "Example 2:\n",
    "\n",
    "Input: num = 14\n",
    "Output: false\n",
    "Explanation: We return false because 3.7"
   ]
  },
  {
   "cell_type": "code",
   "execution_count": 6,
   "id": "9c5e28c8",
   "metadata": {},
   "outputs": [
    {
     "name": "stdout",
     "output_type": "stream",
     "text": [
      "True\n"
     ]
    }
   ],
   "source": [
    "import math\n",
    "class Solution:\n",
    "    def isPerfectSquare(self, num):\n",
    "        num1 = num\n",
    "        num2 = num1 ** 0.5\n",
    "        if num1 ** 0.5 == int(num2):\n",
    "            return True\n",
    "\n",
    "        else:\n",
    "            return False\n",
    "num = 16\n",
    "sl=Solution()\n",
    "print(sl.isPerfectSquare(num))\n",
    "        "
   ]
  }
 ],
 "metadata": {
  "kernelspec": {
   "display_name": "Python 3",
   "language": "python",
   "name": "python3"
  },
  "language_info": {
   "codemirror_mode": {
    "name": "ipython",
    "version": 3
   },
   "file_extension": ".py",
   "mimetype": "text/x-python",
   "name": "python",
   "nbconvert_exporter": "python",
   "pygments_lexer": "ipython3",
   "version": "3.13.2"
  }
 },
 "nbformat": 4,
 "nbformat_minor": 5
}
