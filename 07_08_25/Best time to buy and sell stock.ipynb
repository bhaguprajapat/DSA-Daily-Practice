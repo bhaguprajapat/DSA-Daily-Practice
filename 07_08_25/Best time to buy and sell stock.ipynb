{
 "cells": [
  {
   "cell_type": "markdown",
   "id": "9df8806c",
   "metadata": {},
   "source": [
    "1. Best time to buy and sell stock\n",
    "Given an array arr of n integers, where arr[i] represents price of the stock on the ith day. Determine the maximum profit achievable by buying and selling the stock at most once. \n",
    "\n",
    "\n",
    "\n",
    "The stock should be purchased before selling it, and both actions cannot occur on the same day.\n",
    "\n",
    "\n",
    "Examples:\n",
    "Input: arr = [10, 7, 5, 8, 11, 9]\n",
    "\n",
    "Output: 6\n",
    "\n",
    "Explanation: Buy on day 3 (price = 5) and sell on day 5 (price = 11), profit = 11 - 5 = 6.\n",
    "\n",
    "Input: arr = [5, 4, 3, 2, 1]\n",
    "\n",
    "Output: 0\n",
    "\n",
    "Explanation: In this case, no transactions are made. Therefore, the maximum profit remains 0."
   ]
  },
  {
   "cell_type": "code",
   "execution_count": 4,
   "id": "78ad8fca",
   "metadata": {},
   "outputs": [
    {
     "name": "stdout",
     "output_type": "stream",
     "text": [
      "0\n"
     ]
    }
   ],
   "source": [
    "class Solution:\n",
    "    def stockBuySell(self, arr):\n",
    "        max_profit,best_buy=0,arr[0]\n",
    "        for price in arr:\n",
    "            best_buy=min(price,best_buy)\n",
    "            max_profit=max(max_profit,price-best_buy)\n",
    "        return max_profit\n",
    "sl=Solution()\n",
    "arr = [5, 4, 3, 2, 1]\n",
    "print(sl.stockBuySell(arr))"
   ]
  }
 ],
 "metadata": {
  "kernelspec": {
   "display_name": "Python 3",
   "language": "python",
   "name": "python3"
  },
  "language_info": {
   "codemirror_mode": {
    "name": "ipython",
    "version": 3
   },
   "file_extension": ".py",
   "mimetype": "text/x-python",
   "name": "python",
   "nbconvert_exporter": "python",
   "pygments_lexer": "ipython3",
   "version": "3.13.2"
  }
 },
 "nbformat": 4,
 "nbformat_minor": 5
}
