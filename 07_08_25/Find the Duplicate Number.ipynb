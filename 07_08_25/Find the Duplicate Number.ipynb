{
 "cells": [
  {
   "cell_type": "markdown",
   "id": "9bf4ab4b",
   "metadata": {},
   "source": [
    "1. Find the Duplicate Number\n",
    "Given an array of integers nums containing n + 1 integers where each integer is in the range [1, n] inclusive.\n",
    "\n",
    "There is only one repeated number in nums, return this repeated number.\n",
    "\n",
    "You must solve the problem without modifying the array nums and using only constant extra space.\n",
    "\n",
    " \n",
    "\n",
    "Example 1:\n",
    "\n",
    "Input: nums = [1,3,4,2,2]\n",
    "Output: 2\n",
    "Example 2:\n",
    "\n",
    "Input: nums = [3,1,3,4,2] [1,2,3,3,4]\n",
    "Output: 3\n",
    "Example 3:\n",
    "\n",
    "Input: nums = [3,3,3,3,3]\n",
    "Output: 3"
   ]
  },
  {
   "cell_type": "code",
   "execution_count": 2,
   "id": "44edbd2c",
   "metadata": {},
   "outputs": [
    {
     "name": "stdout",
     "output_type": "stream",
     "text": [
      "3\n"
     ]
    }
   ],
   "source": [
    "class Solution:\n",
    "    def findDuplicate(self, nums):\n",
    "        nums.sort()\n",
    "        for ind in range(len(nums)-1):\n",
    "            if nums[ind]==nums[ind+1]:\n",
    "                return nums[ind]\n",
    "        return -1\n",
    "sl=Solution()\n",
    "nums = [3,1,3,4,2]\n",
    "print(sl.findDuplicate(nums))"
   ]
  }
 ],
 "metadata": {
  "kernelspec": {
   "display_name": "Python 3",
   "language": "python",
   "name": "python3"
  },
  "language_info": {
   "codemirror_mode": {
    "name": "ipython",
    "version": 3
   },
   "file_extension": ".py",
   "mimetype": "text/x-python",
   "name": "python",
   "nbconvert_exporter": "python",
   "pygments_lexer": "ipython3",
   "version": "3.13.2"
  }
 },
 "nbformat": 4,
 "nbformat_minor": 5
}
