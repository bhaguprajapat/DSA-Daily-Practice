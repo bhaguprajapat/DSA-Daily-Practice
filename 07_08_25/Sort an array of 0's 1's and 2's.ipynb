{
 "cells": [
  {
   "cell_type": "markdown",
   "id": "c3d27892",
   "metadata": {},
   "source": [
    "1. Sort an array of 0's 1's and 2's\n",
    "Given an array nums consisting of only 0, 1, or 2. Sort the array in non-decreasing order. The sorting must be done in-place, without making a copy of the original array.\n",
    "\n",
    "\n",
    "Examples:\n",
    "Input: nums = [1, 0, 2, 1, 0]\n",
    "\n",
    "Output: [0, 0, 1, 1, 2]\n",
    "\n",
    "Explanation: The nums array in sorted order has 2 zeroes, 2 ones and 1 two\n",
    "\n",
    "Input: nums = [0, 0, 1, 1, 1]\n",
    "\n",
    "Output: [0, 0, 1, 1, 1]\n",
    "\n",
    "Explanation: The nums array in sorted order has 2 zeroes, 3 ones and zero twos"
   ]
  },
  {
   "cell_type": "code",
   "execution_count": 4,
   "id": "caf50fb6",
   "metadata": {},
   "outputs": [
    {
     "name": "stdout",
     "output_type": "stream",
     "text": [
      "[0, 0, 1, 1, 2]\n"
     ]
    }
   ],
   "source": [
    "class Solution:\n",
    "    def sortZeroOneTwo(self, nums):\n",
    "        nums.sort()\n",
    "        return nums\n",
    "sl=Solution()\n",
    "nuums=[1, 0, 2, 1, 0]\n",
    "print(sl.sortZeroOneTwo(nuums))"
   ]
  },
  {
   "cell_type": "code",
   "execution_count": null,
   "id": "ee5f138e",
   "metadata": {},
   "outputs": [],
   "source": [
    "class Solution:\n",
    "    def sortZeroOneTwo(self, nums):\n",
    "        nums.sort()\n",
    "        return nums\n",
    "sl=Solution()\n",
    "nuums=[1, 0, 2, 1, 0]\n",
    "print(sl.sortZeroOneTwo(nuums))"
   ]
  }
 ],
 "metadata": {
  "kernelspec": {
   "display_name": "Python 3",
   "language": "python",
   "name": "python3"
  },
  "language_info": {
   "codemirror_mode": {
    "name": "ipython",
    "version": 3
   },
   "file_extension": ".py",
   "mimetype": "text/x-python",
   "name": "python",
   "nbconvert_exporter": "python",
   "pygments_lexer": "ipython3",
   "version": "3.13.2"
  }
 },
 "nbformat": 4,
 "nbformat_minor": 5
}
