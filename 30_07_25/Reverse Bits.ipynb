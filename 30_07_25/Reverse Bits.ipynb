{
 "cells": [
  {
   "cell_type": "markdown",
   "id": "8b8758b6",
   "metadata": {},
   "source": [
    "1. Reverse Bits\n",
    "Reverse bits of a given 32 bits unsigned integer.\n",
    "\n",
    "Note:\n",
    "\n",
    "Note that in some languages, such as Java, there is no unsigned integer type. In this case, both input and output will be given as a signed integer type. They should not affect your implementation, as the integer's internal binary representation is the same, whether it is signed or unsigned.\n",
    "In Java, the compiler represents the signed integers using 2's complement notation. Therefore, in Example 2 below, the input represents the signed integer -3 and the output represents the signed integer -1073741825.\n",
    " \n",
    "\n",
    "Example 1:\n",
    "\n",
    "Input: n = 43261596\n",
    "\n",
    "Output: 964176192\n",
    "\n",
    "Explanation:\n",
    "\n",
    "Integer\tBinary\n",
    "43261596\t00000010100101000001111010011100\n",
    "964176192\t00111001011110000010100101000000\n",
    "Example 2:\n",
    "\n",
    "Input: n = 2147483644\n",
    "\n",
    "Output: 1073741822\n",
    "\n",
    "Explanation:\n",
    "\n",
    "Integer\tBinary\n",
    "2147483644\t01111111111111111111111111111100\n",
    "1073741822\t00111111111111111111111111111110\n"
   ]
  },
  {
   "cell_type": "code",
   "execution_count": 13,
   "id": "79df0b6c",
   "metadata": {},
   "outputs": [
    {
     "name": "stdout",
     "output_type": "stream",
     "text": [
      "1073741822\n"
     ]
    }
   ],
   "source": [
    "class Solution(object):\n",
    "    def reverseBits(self, n):\n",
    "        result=0\n",
    "        for i in range(32):\n",
    "            result=(result<<1)|(n & 1)\n",
    "            n>>=1\n",
    "        return result\n",
    "sl=Solution()\n",
    "n=2147483644\n",
    "print(sl.reverseBits(n))\n",
    "        \n",
    "        "
   ]
  },
  {
   "cell_type": "markdown",
   "id": "cf9817cb",
   "metadata": {},
   "source": [
    "2. Reverse Prefix of Word\n",
    "Given a 0-indexed string word and a character ch, reverse the segment of word that starts at index 0 and ends at the index of the first occurrence of ch (inclusive). If the character ch does not exist in word, do nothing.\n",
    "\n",
    "For example, if word = \"abcdefd\" and ch = \"d\", then you should reverse the segment that starts at 0 and ends at 3 (inclusive). The resulting string will be \"dcbaefd\".\n",
    "Return the resulting string.\n",
    "\n",
    " \n",
    "\n",
    "Example 1:\n",
    "\n",
    "Input: word = \"abcdefd\", ch = \"d\"\n",
    "Output: \"dcbaefd\"\n",
    "Explanation: The first occurrence of \"d\" is at index 3. \n",
    "Reverse the part of word from 0 to 3 (inclusive), the resulting string is \"dcbaefd\".\n",
    "Example 2:\n",
    "\n",
    "Input: word = \"xyxzxe\", ch = \"z\"\n",
    "Output: \"zxyxxe\"\n",
    "Explanation: The first and only occurrence of \"z\" is at index 3.\n",
    "Reverse the part of word from 0 to 3 (inclusive), the resulting string is \"zxyxxe\".\n",
    "Example 3:\n",
    "\n",
    "Input: word = \"abcd\", ch = \"z\"\n",
    "Output: \"abcd\"\n",
    "Explanation: \"z\" does not exist in word.\n",
    "You should not do any reverse operation, the resulting string is \"abcd\"."
   ]
  },
  {
   "cell_type": "code",
   "execution_count": null,
   "id": "d1bb472e",
   "metadata": {},
   "outputs": [
    {
     "name": "stdout",
     "output_type": "stream",
     "text": [
      "dcbaefd\n"
     ]
    }
   ],
   "source": [
    "class Solution(object):\n",
    "    def reversePrefix(self, word, ch):\n",
    "        #  first of all convert string to list\n",
    "        # then check in this list ch is exit ya not if not then return same\n",
    "        #else get lenth till ch and then inilitazw two pointer left and right \n",
    "        # right pointer's length that we get till ch\n",
    "        # \n",
    "        # run the while loop left<right\n",
    "        # swap element with each other\n",
    "        # return output with string\n",
    "        left=0\n",
    "        right=0\n",
    "        word=list(word)\n",
    "        if ch not in word:\n",
    "            return ''.join(word)\n",
    "        for i in word:\n",
    "            if i==ch:\n",
    "                break\n",
    "            right+=1\n",
    "        while left<right:\n",
    "            word[left],word[right]=word[right],word[left]\n",
    "            left+=1\n",
    "            right-=1\n",
    "        return ''.join(word)\n",
    "sl=Solution()\n",
    "word = \"abcdefd\"\n",
    "ch = \"d\"\n",
    "print(sl.reversePrefix(word,ch))"
   ]
  }
 ],
 "metadata": {
  "kernelspec": {
   "display_name": "Python 3",
   "language": "python",
   "name": "python3"
  },
  "language_info": {
   "codemirror_mode": {
    "name": "ipython",
    "version": 3
   },
   "file_extension": ".py",
   "mimetype": "text/x-python",
   "name": "python",
   "nbconvert_exporter": "python",
   "pygments_lexer": "ipython3",
   "version": "3.13.2"
  }
 },
 "nbformat": 4,
 "nbformat_minor": 5
}
