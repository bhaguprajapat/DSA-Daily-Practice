{
 "cells": [
  {
   "cell_type": "markdown",
   "id": "d9376182",
   "metadata": {},
   "source": [
    "1. Best Time to Buy and Sell Stock III\n",
    "You are given an array prices where prices[i] is the price of a given stock on the ith day.\n",
    "\n",
    "Find the maximum profit you can achieve. You may complete at most two transactions.\n",
    "\n",
    "Note: You may not engage in multiple transactions simultaneously (i.e., you must sell the stock before you buy again).\n",
    "\n",
    " \n",
    "\n",
    "Example 1:\n",
    "\n",
    "Input: prices = [3,3,5,0,0,3,1,4]\n",
    "Output: 6\n",
    "Explanation: Buy on day 4 (price = 0) and sell on day 6 (price = 3), profit = 3-0 = 3.\n",
    "Then buy on day 7 (price = 1) and sell on day 8 (price = 4), profit = 4-1 = 3.\n",
    "Example 2:\n",
    "\n",
    "Input: prices = [1,2,3,4,5]\n",
    "Output: 4\n",
    "Explanation: Buy on day 1 (price = 1) and sell on day 5 (price = 5), profit = 5-1 = 4.\n",
    "Note that you cannot buy on day 1, buy on day 2 and sell them later, as you are engaging multiple transactions at the same time. You must sell before buying again.\n",
    "Example 3:\n",
    "\n",
    "Input: prices = [7,6,4,3,1]\n",
    "Output: 0\n",
    "Explanation: In this case, no transaction is done, i.e. max profit = 0.\n",
    " "
   ]
  },
  {
   "cell_type": "code",
   "execution_count": 1,
   "id": "b278c742",
   "metadata": {},
   "outputs": [
    {
     "name": "stdout",
     "output_type": "stream",
     "text": [
      "4\n"
     ]
    }
   ],
   "source": [
    "class Solution(object):\n",
    "    def maxProfit(self, prices):\n",
    "        buy1 = -prices[0]\n",
    "        sell1 = 0\n",
    "        buy2 = -prices[0]\n",
    "        sell2 = 0\n",
    "\n",
    "        for i in range(1, len(prices)):\n",
    "            price = prices[i]\n",
    "\n",
    "            buy1 = max(buy1, -price)\n",
    "            sell1 = max(sell1, buy1 + price)\n",
    "            buy2 = max(buy2, sell1 - price)\n",
    "            sell2 = max(sell2, buy2 + price)\n",
    "        \n",
    "        return sell2\n",
    "sl=Solution()\n",
    "prices = [1,2,3,4,5]\n",
    "print(sl.maxProfit(prices))    "
   ]
  }
 ],
 "metadata": {
  "kernelspec": {
   "display_name": "Python 3",
   "language": "python",
   "name": "python3"
  },
  "language_info": {
   "codemirror_mode": {
    "name": "ipython",
    "version": 3
   },
   "file_extension": ".py",
   "mimetype": "text/x-python",
   "name": "python",
   "nbconvert_exporter": "python",
   "pygments_lexer": "ipython3",
   "version": "3.13.2"
  }
 },
 "nbformat": 4,
 "nbformat_minor": 5
}
