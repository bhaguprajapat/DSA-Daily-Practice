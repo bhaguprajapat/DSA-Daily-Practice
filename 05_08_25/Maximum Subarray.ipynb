{
 "cells": [
  {
   "cell_type": "markdown",
   "id": "3da4c56f",
   "metadata": {},
   "source": [
    "1. Maximum Subarray\n",
    "Given an integer array nums, find the subarray with the largest sum, and return its sum.\n",
    "\n",
    " \n",
    "\n",
    "Example 1:\n",
    "\n",
    "Input: nums = [-2,1,-3,4,-1,2,1,-5,4]\n",
    "Output: 6\n",
    "Explanation: The subarray [4,-1,2,1] has the largest sum 6.\n",
    "Example 2:\n",
    "\n",
    "Input: nums = [1]\n",
    "Output: 1\n",
    "Explanation: The subarray [1] has the largest sum 1.\n",
    "Example 3:\n",
    "\n",
    "Input: nums = [5,4,-1,7,8]\n",
    "Output: 23\n",
    "Explanation: The subarray [5,4,-1,7,8] has the largest sum 23.  "
   ]
  },
  {
   "cell_type": "code",
   "execution_count": 8,
   "id": "d91c4be0",
   "metadata": {},
   "outputs": [
    {
     "name": "stdout",
     "output_type": "stream",
     "text": [
      "6\n"
     ]
    }
   ],
   "source": [
    "class Solution:\n",
    "    def maxSubArray(self, nums):\n",
    "        maxsum = nums[0]\n",
    "        curr_sum = nums[0]\n",
    "        for n in nums[1:]:\n",
    "            curr_sum = max(n, curr_sum + n)\n",
    "            maxsum = max(maxsum, curr_sum)\n",
    "        return maxsum\n",
    "sl=Solution()\n",
    "nums = [-2,1,-3,4,-1,2,1,-5,4]\n",
    "print(sl.maxSubArray(nums))\n",
    "        "
   ]
  }
 ],
 "metadata": {
  "kernelspec": {
   "display_name": "Python 3",
   "language": "python",
   "name": "python3"
  },
  "language_info": {
   "codemirror_mode": {
    "name": "ipython",
    "version": 3
   },
   "file_extension": ".py",
   "mimetype": "text/x-python",
   "name": "python",
   "nbconvert_exporter": "python",
   "pygments_lexer": "ipython3",
   "version": "3.13.2"
  }
 },
 "nbformat": 4,
 "nbformat_minor": 5
}
