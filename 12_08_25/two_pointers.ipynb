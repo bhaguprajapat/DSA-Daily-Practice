{
 "cells": [
  {
   "cell_type": "markdown",
   "id": "da3b9312",
   "metadata": {},
   "source": [
    " 3Sum\n",
    " Given an integer array nums, return all the triplets [nums[i], nums[j], nums[k]] such that i != j, i != k, and j != k, and nums[i] + nums[j] + nums[k] == 0.\n",
    "\n",
    "Notice that the solution set must not contain duplicate triplets.\n",
    "\n",
    " \n",
    "\n",
    "Example 1:\n",
    "\n",
    "Input: nums = [-1,0,1,2,-1,-4]\n",
    "Output: [[-1,-1,2],[-1,0,1]]\n",
    "Explanation: \n",
    "nums[0] + nums[1] + nums[2] = (-1) + 0 + 1 = 0.\n",
    "nums[1] + nums[2] + nums[4] = 0 + 1 + (-1) = 0.\n",
    "nums[0] + nums[3] + nums[4] = (-1) + 2 + (-1) = 0.\n",
    "The distinct triplets are [-1,0,1] and [-1,-1,2].\n",
    "Notice that the order of the output and the order of the triplets does not matter.\n",
    "Example 2:\n",
    "\n",
    "Input: nums = [0,1,1]\n",
    "Output: []\n",
    "Explanation: The only possible triplet does not sum up to 0.\n",
    "Example 3:\n",
    "\n",
    "Input: nums = [0,0,0]\n",
    "Output: [[0,0,0]]\n",
    "Explanation: The only possible triplet sums up to 0.\n",
    " "
   ]
  },
  {
   "cell_type": "code",
   "execution_count": null,
   "id": "cb58b77f",
   "metadata": {},
   "outputs": [],
   "source": [
    "class Solution(object):\n",
    "    def threeSum(self, nums):\n",
    "        target=0 #initilaze the target\n",
    "        nums.sort() # sort the array nums\n",
    "        s=set() # initilaze the set\n",
    "        output=[] # initilaze  the output\n",
    "        for i in range(len(nums)):\n",
    "            j=i+1\n",
    "            k=len(nums)-1\n",
    "            while j<k:\n",
    "                # calculate the sum of three elements\n",
    "                sum=nums[i]+nums[j]+nums[k]\n",
    "                # if sum if equel to target then add all elements in set\n",
    "                if sum==target:\n",
    "                    s.add((nums[i],nums[j],nums[k]))\n",
    "                    j+=1\n",
    "                    k-=1\n",
    "                elif sum<target:\n",
    "                    j+=1\n",
    "                else:\n",
    "                    k-=1\n",
    "        output=list(s)\n",
    "        return output\n",
    "        "
   ]
  }
 ],
 "metadata": {
  "kernelspec": {
   "display_name": "Python 3",
   "language": "python",
   "name": "python3"
  },
  "language_info": {
   "name": "python",
   "version": "3.13.2"
  }
 },
 "nbformat": 4,
 "nbformat_minor": 5
}
