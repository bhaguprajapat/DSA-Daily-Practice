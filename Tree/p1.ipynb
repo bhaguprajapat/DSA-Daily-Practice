{
 "cells": [
  {
   "cell_type": "code",
   "execution_count": 4,
   "id": "ba592e3f",
   "metadata": {},
   "outputs": [
    {
     "name": "stdout",
     "output_type": "stream",
     "text": [
      "10\n",
      "5\n",
      "15\n"
     ]
    }
   ],
   "source": [
    "class Node:\n",
    "    def __init__(self,data):\n",
    "        self.data=data\n",
    "        self.left=None\n",
    "        self.right=None\n",
    "root=Node(10)\n",
    "root.left=Node(5)\n",
    "root.right=Node(15)\n",
    "print(root.data)\n",
    "print(root.left.data)\n",
    "print(root.right.data)\n"
   ]
  },
  {
   "cell_type": "markdown",
   "id": "85f719f3",
   "metadata": {},
   "source": [
    "1. Top K Frequent Elements\n",
    "Medium\n",
    "Topics\n",
    "premium lock icon\n",
    "Companies\n",
    "Given an integer array nums and an integer k, return the k most frequent elements. You may return the answer in any order.\n",
    "\n",
    " \n",
    "\n",
    "Example 1:\n",
    "\n",
    "Input: nums = [1,1,1,2,2,3], k = 2\n",
    "Output: [1,2]\n",
    "Example 2:\n",
    "\n",
    "Input: nums = [1], k = 1\n",
    "Output: [1]\n",
    " \n",
    "\n",
    "Constraints:\n",
    "\n",
    "1 <= nums.length <= 105\n",
    "-104 <= nums[i] <= 104\n",
    "k is in the range [1, the number of unique elements in the array].\n",
    "It is guaranteed that the answer is unique."
   ]
  },
  {
   "cell_type": "code",
   "execution_count": null,
   "id": "e63bac94",
   "metadata": {},
   "outputs": [
    {
     "name": "stdout",
     "output_type": "stream",
     "text": [
      "[1]\n"
     ]
    }
   ],
   "source": [
    "def topKFrequent(nums, k):\n",
    "    frequency={} # inilitaze the frequency\n",
    "    for num in nums:\n",
    "        if num not in frequency:\n",
    "            frequency[num]=1\n",
    "        else:\n",
    "            frequency[num]=frequency[num]+1\n",
    "    frequency=dict(sorted(frequency.items(),key=lambda x:x[1],reverse=True))\n",
    "    result=list(frequency.keys())[:k]\n",
    "    return result\n",
    "nums = [1]\n",
    "k = 1    \n",
    "print(topKFrequent(nums, k))\n",
    "# space complexity is O(n*log n)\n",
    "# space complexity O(n)"
   ]
  },
  {
   "cell_type": "markdown",
   "id": "84e266b3",
   "metadata": {},
   "source": [
    "2. Find Peak Element\n",
    "A peak element is an element that is strictly greater than its neighbors.\n",
    "\n",
    "Given a 0-indexed integer array nums, find a peak element, and return its index. If the array contains multiple peaks, return the index to any of the peaks.\n",
    "\n",
    "You may imagine that nums[-1] = nums[n] = -∞. In other words, an element is always considered to be strictly greater than a neighbor that is outside the array.\n",
    "\n",
    "You must write an algorithm that runs in O(log n) time.\n",
    "\n",
    " \n",
    "\n",
    "Example 1:\n",
    "\n",
    "Input: nums = [1,2,3,1]\n",
    "Output: 2\n",
    "Explanation: 3 is a peak element and your function should return the index number 2.\n",
    "Example 2:\n",
    "\n",
    "Input: nums = [1,2,1,3,5,6,4]\n",
    "Output: 5\n",
    "Explanation: Your function can return either index number 1 where the peak element is 2, or index number 5 where the peak element is 6.\n",
    " \n",
    "\n",
    "Constraints:\n",
    "\n",
    "1 <= nums.length <= 1000\n",
    "-231 <= nums[i] <= 231 - 1\n",
    "nums[i] != nums[i + 1] for all valid i."
   ]
  },
  {
   "cell_type": "code",
   "execution_count": 3,
   "id": "4bedcf68",
   "metadata": {},
   "outputs": [
    {
     "name": "stdout",
     "output_type": "stream",
     "text": [
      "2\n"
     ]
    }
   ],
   "source": [
    "def findPeakElement(nums):\n",
    "    left,right=0,len(nums)-1\n",
    "    while left<right:\n",
    "        mid=(left+right)//2\n",
    "        if nums[mid]<nums[mid+1]:\n",
    "            right=mid\n",
    "        else:\n",
    "            left=mid+1\n",
    "    return left\n",
    "\n",
    "nums = [1,2,1,3,5,6,4]\n",
    "print(findPeakElement(nums))"
   ]
  },
  {
   "cell_type": "markdown",
   "id": "e2847e27",
   "metadata": {},
   "source": [
    "3. Product of Array Except Self (No Division)\n",
    "Given an integer array nums, return an array answer such that answer[i] is the product of all the elements of nums except nums[i].\n",
    "\n",
    "⛔ Don't use division\n",
    "✅ Must be O(n) time\n",
    "\n",
    "🔹 Input:\n",
    "python\n",
    "Copy\n",
    "Edit\n",
    "nums = [1, 2, 3, 4]\n",
    "🔹 Output:\n",
    "python\n",
    "Copy\n",
    "Edit\n",
    "[24, 12, 8, 6]\n"
   ]
  },
  {
   "cell_type": "code",
   "execution_count": null,
   "id": "602bd5ae",
   "metadata": {},
   "outputs": [
    {
     "name": "stdout",
     "output_type": "stream",
     "text": [
      "[24, 12, 8, 6]\n"
     ]
    }
   ],
   "source": [
    "def productExceptSelf(nums):\n",
    "    n=len(nums)\n",
    "    ans=[1]*n\n",
    "    # calculate prefix products\n",
    "    for i in range(1,n):\n",
    "        ans[i]=ans[i-1]*nums[i-1]\n",
    "    prevSuffix=1\n",
    "    # calculate suffix products and update ans array\n",
    "    for i in range(n-2,-1,-1):\n",
    "        prevSuffix*=nums[i+1]\n",
    "        ans[i]*=prevSuffix\n",
    "    return ans\n",
    "        \n",
    "nums = [1, 2, 3, 4]\n",
    "print(productExceptSelf(nums))\n",
    "# /time complexity o(n)\n",
    "# space complexity o(1)"
   ]
  }
 ],
 "metadata": {
  "kernelspec": {
   "display_name": "Python 3",
   "language": "python",
   "name": "python3"
  },
  "language_info": {
   "codemirror_mode": {
    "name": "ipython",
    "version": 3
   },
   "file_extension": ".py",
   "mimetype": "text/x-python",
   "name": "python",
   "nbconvert_exporter": "python",
   "pygments_lexer": "ipython3",
   "version": "3.13.2"
  }
 },
 "nbformat": 4,
 "nbformat_minor": 5
}
