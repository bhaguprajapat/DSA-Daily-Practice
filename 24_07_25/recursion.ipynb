{
 "cells": [
  {
   "cell_type": "code",
   "execution_count": 3,
   "id": "a31e28a0",
   "metadata": {},
   "outputs": [
    {
     "name": "stdout",
     "output_type": "stream",
     "text": [
      "5\n",
      "4\n",
      "3\n",
      "2\n",
      "1\n",
      "1*2 = 2\n",
      "2*2 = 4\n",
      "3*2 = 6\n",
      "4*2 = 8\n",
      "5*2 = 10\n"
     ]
    }
   ],
   "source": [
    "def print_n(n):\n",
    "    if n==0:\n",
    "        return\n",
    "    print(n)\n",
    "    print_n(n-1)\n",
    "    print(f\"{n}*{2} = {n*2}\")\n",
    "print_n(5)"
   ]
  },
  {
   "cell_type": "code",
   "execution_count": 5,
   "id": "88f1471a",
   "metadata": {},
   "outputs": [
    {
     "name": "stdout",
     "output_type": "stream",
     "text": [
      "120\n"
     ]
    }
   ],
   "source": [
    "def factorial(n):\n",
    "    if n==1:\n",
    "        return 1\n",
    "    return n*factorial(n-1)\n",
    "print(factorial(5))"
   ]
  }
 ],
 "metadata": {
  "kernelspec": {
   "display_name": "Python 3",
   "language": "python",
   "name": "python3"
  },
  "language_info": {
   "codemirror_mode": {
    "name": "ipython",
    "version": 3
   },
   "file_extension": ".py",
   "mimetype": "text/x-python",
   "name": "python",
   "nbconvert_exporter": "python",
   "pygments_lexer": "ipython3",
   "version": "3.13.2"
  }
 },
 "nbformat": 4,
 "nbformat_minor": 5
}
