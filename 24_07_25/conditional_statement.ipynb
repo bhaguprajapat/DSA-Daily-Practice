{
 "cells": [
  {
   "cell_type": "code",
   "execution_count": 1,
   "id": "d3ef2a7f",
   "metadata": {},
   "outputs": [
    {
     "name": "stdout",
     "output_type": "stream",
     "text": [
      "you are eligile\n"
     ]
    }
   ],
   "source": [
    "age=18\n",
    "# way 1\n",
    "if age>=18:\n",
    "    print(\"you are eligile\")\n",
    "else:\n",
    "    print(\"you are not eligible\")"
   ]
  },
  {
   "cell_type": "code",
   "execution_count": 2,
   "id": "59db3fda",
   "metadata": {},
   "outputs": [
    {
     "name": "stdout",
     "output_type": "stream",
     "text": [
      "you are eligible\n"
     ]
    }
   ],
   "source": [
    "# way 2\n",
    "print(\"you are eligible\") if age >=18 else print(\"you are not eliginle\")"
   ]
  },
  {
   "cell_type": "code",
   "execution_count": 4,
   "id": "bbc42716",
   "metadata": {},
   "outputs": [
    {
     "name": "stdout",
     "output_type": "stream",
     "text": [
      "you are eligible\n"
     ]
    }
   ],
   "source": [
    "# way 3\n",
    "vote=(\"You are not eligible\",\"you are eligible\") [age>=18]\n",
    "print(vote)"
   ]
  }
 ],
 "metadata": {
  "kernelspec": {
   "display_name": "Python 3",
   "language": "python",
   "name": "python3"
  },
  "language_info": {
   "codemirror_mode": {
    "name": "ipython",
    "version": 3
   },
   "file_extension": ".py",
   "mimetype": "text/x-python",
   "name": "python",
   "nbconvert_exporter": "python",
   "pygments_lexer": "ipython3",
   "version": "3.13.2"
  }
 },
 "nbformat": 4,
 "nbformat_minor": 5
}
