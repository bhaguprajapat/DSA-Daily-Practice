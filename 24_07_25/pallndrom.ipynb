{
 "cells": [
  {
   "cell_type": "markdown",
   "id": "13e671b9",
   "metadata": {},
   "source": [
    " Palindrome Number\n",
    " Given an integer x, return true if x is a palindrome, and false otherwise.\n",
    "\n",
    " \n",
    "\n",
    "Example 1:\n",
    "\n",
    "Input: x = 121\n",
    "Output: true\n",
    "Explanation: 121 reads as 121 from left to right and from right to left.\n",
    "Example 2:\n",
    "\n",
    "Input: x = -121\n",
    "Output: false\n",
    "Explanation: From left to right, it reads -121. From right to left, it becomes 121-. Therefore it is not a palindrome.\n",
    "Example 3:\n",
    "\n",
    "Input: x = 10\n",
    "Output: false\n",
    "Explanation: Reads 01 from right to left. Therefore it is not a palindrome.\n",
    " \n",
    "\n",
    "Constraints:\n",
    "\n",
    "-231 <= x <= 231 - 1"
   ]
  },
  {
   "cell_type": "code",
   "execution_count": 4,
   "id": "4f1f358a",
   "metadata": {},
   "outputs": [
    {
     "name": "stdout",
     "output_type": "stream",
     "text": [
      "False\n"
     ]
    }
   ],
   "source": [
    "def isPalindrome(lst):\n",
    "    lst_copy=lst.copy()\n",
    "    lst_copy.reverse()\n",
    "    if lst==lst_copy:\n",
    "        return True\n",
    "    else:\n",
    "        return False\n",
    "lst=[1,2,3]\n",
    "print(isPalindrome(lst))"
   ]
  },
  {
   "cell_type": "code",
   "execution_count": 16,
   "id": "b1d5bf51",
   "metadata": {},
   "outputs": [
    {
     "name": "stdout",
     "output_type": "stream",
     "text": [
      "True\n"
     ]
    }
   ],
   "source": [
    "def isPalindrome(string):\n",
    "    my_list=[]\n",
    "    for num in str(string):\n",
    "        my_list.append(num)\n",
    "    lst_copy=my_list.copy()\n",
    "    lst_copy.reverse()\n",
    "    if my_list==lst_copy:\n",
    "        return True\n",
    "    else:\n",
    "        return False\n",
    "string=121\n",
    "print(isPalindrome(string))"
   ]
  },
  {
   "cell_type": "code",
   "execution_count": 17,
   "id": "ab57a1f5",
   "metadata": {},
   "outputs": [
    {
     "name": "stdout",
     "output_type": "stream",
     "text": [
      "True\n"
     ]
    }
   ],
   "source": [
    "def isPalindrome(x):\n",
    "    x=str(x)\n",
    "    left,right=0,len(x)-1\n",
    "    while left<right:\n",
    "        if x[left] !=x[right]:\n",
    "            return False\n",
    "        left+=1\n",
    "        right-=1\n",
    "    return True\n",
    "string=121\n",
    "print(isPalindrome(string))"
   ]
  }
 ],
 "metadata": {
  "kernelspec": {
   "display_name": "Python 3",
   "language": "python",
   "name": "python3"
  },
  "language_info": {
   "codemirror_mode": {
    "name": "ipython",
    "version": 3
   },
   "file_extension": ".py",
   "mimetype": "text/x-python",
   "name": "python",
   "nbconvert_exporter": "python",
   "pygments_lexer": "ipython3",
   "version": "3.13.2"
  }
 },
 "nbformat": 4,
 "nbformat_minor": 5
}
