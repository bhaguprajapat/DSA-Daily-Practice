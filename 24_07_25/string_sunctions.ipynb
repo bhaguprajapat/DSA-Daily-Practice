{
 "cells": [
  {
   "cell_type": "code",
   "execution_count": null,
   "id": "6b768f6c",
   "metadata": {},
   "outputs": [
    {
     "data": {
      "text/plain": [
       "True"
      ]
     },
     "execution_count": 2,
     "metadata": {},
     "output_type": "execute_result"
    }
   ],
   "source": [
    "# endsWith() this function check is string end with same substring if yes then return true\n",
    "hello=\"hello world\"\n",
    "hello.endswith(\"rld\") # this will return True\n",
    "hello.endswith(\"ooo\") #this will return false"
   ]
  },
  {
   "cell_type": "code",
   "execution_count": 3,
   "id": "369dbec9",
   "metadata": {},
   "outputs": [
    {
     "name": "stdout",
     "output_type": "stream",
     "text": [
      "Hello learners how's going your study\n"
     ]
    }
   ],
   "source": [
    "# capitalize() this method return string's first latter capital latter\n",
    "pra=\"hello learners how's going your study\"\n",
    "pra=pra.capitalize()\n",
    "print(pra)"
   ]
  },
  {
   "cell_type": "code",
   "execution_count": 5,
   "id": "6298826b",
   "metadata": {},
   "outputs": [
    {
     "data": {
      "text/plain": [
       "True"
      ]
     },
     "execution_count": 5,
     "metadata": {},
     "output_type": "execute_result"
    }
   ],
   "source": [
    "# stratsWith(\"\") this function check is function strat with same subb string if yes then return true\n",
    "pra.startswith(\"hel\") # return false becouse we update this string with capilate latter\n",
    "pra.startswith(\"Hel\") #return True"
   ]
  },
  {
   "cell_type": "code",
   "execution_count": 6,
   "id": "827ba467",
   "metadata": {},
   "outputs": [
    {
     "name": "stdout",
     "output_type": "stream",
     "text": [
      "Hey world\n"
     ]
    }
   ],
   "source": [
    "# replace  with older value to new value\n",
    "hello=\"hello world\"\n",
    "hello=hello.replace(\"hello\",\"Hey\") # return Hay world\n",
    "print(hello)"
   ]
  },
  {
   "cell_type": "code",
   "execution_count": 10,
   "id": "9471fe9d",
   "metadata": {},
   "outputs": [
    {
     "data": {
      "text/plain": [
       "1"
      ]
     },
     "execution_count": 10,
     "metadata": {},
     "output_type": "execute_result"
    }
   ],
   "source": [
    "hello.count(\"world\")"
   ]
  },
  {
   "cell_type": "code",
   "execution_count": null,
   "id": "789297b7",
   "metadata": {},
   "outputs": [
    {
     "data": {
      "text/plain": [
       "5"
      ]
     },
     "execution_count": 11,
     "metadata": {},
     "output_type": "execute_result"
    }
   ],
   "source": [
    "hello.find(\"o\") # return index of string's element"
   ]
  }
 ],
 "metadata": {
  "kernelspec": {
   "display_name": "Python 3",
   "language": "python",
   "name": "python3"
  },
  "language_info": {
   "codemirror_mode": {
    "name": "ipython",
    "version": 3
   },
   "file_extension": ".py",
   "mimetype": "text/x-python",
   "name": "python",
   "nbconvert_exporter": "python",
   "pygments_lexer": "ipython3",
   "version": "3.13.2"
  }
 },
 "nbformat": 4,
 "nbformat_minor": 5
}
