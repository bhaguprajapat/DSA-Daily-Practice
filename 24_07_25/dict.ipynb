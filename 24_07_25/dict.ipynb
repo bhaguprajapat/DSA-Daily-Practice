{
 "cells": [
  {
   "cell_type": "code",
   "execution_count": 2,
   "id": "7bc72c13",
   "metadata": {},
   "outputs": [
    {
     "data": {
      "text/plain": [
       "9.2"
      ]
     },
     "execution_count": 2,
     "metadata": {},
     "output_type": "execute_result"
    }
   ],
   "source": [
    "my_details={\n",
    "    \"name\":\"Bhagwati Prajapat\",\n",
    "    \"subject\":[\"python\",\"java\",\"DSA\"],\n",
    "    \"CGPA\":9.2,\n",
    "    \"roll_no\":2414500\n",
    "}\n",
    "# get data using keywords\n",
    "my_details[\"CGPA\"]"
   ]
  },
  {
   "cell_type": "code",
   "execution_count": null,
   "id": "feba3a0d",
   "metadata": {},
   "outputs": [
    {
     "data": {
      "text/plain": [
       "dict_keys(['name', 'subject', 'CGPA', 'roll_no'])"
      ]
     },
     "execution_count": 3,
     "metadata": {},
     "output_type": "execute_result"
    }
   ],
   "source": [
    "my_details.keys() # send all key's list"
   ]
  },
  {
   "cell_type": "code",
   "execution_count": null,
   "id": "6d0bd59d",
   "metadata": {},
   "outputs": [
    {
     "data": {
      "text/plain": [
       "dict_items([('name', 'Bhagwati Prajapat'), ('subject', ['python', 'java', 'DSA']), ('CGPA', 9.2), ('roll_no', 2414500)])"
      ]
     },
     "execution_count": 4,
     "metadata": {},
     "output_type": "execute_result"
    }
   ],
   "source": [
    "my_details.items() # this will send whole data with key and value"
   ]
  },
  {
   "cell_type": "code",
   "execution_count": null,
   "id": "042ec2ba",
   "metadata": {},
   "outputs": [
    {
     "data": {
      "text/plain": [
       "dict_values(['Bhagwati Prajapat', ['python', 'java', 'DSA'], 9.2, 2414500])"
      ]
     },
     "execution_count": 5,
     "metadata": {},
     "output_type": "execute_result"
    }
   ],
   "source": [
    "my_details.values() # this return only values"
   ]
  }
 ],
 "metadata": {
  "kernelspec": {
   "display_name": "Python 3",
   "language": "python",
   "name": "python3"
  },
  "language_info": {
   "codemirror_mode": {
    "name": "ipython",
    "version": 3
   },
   "file_extension": ".py",
   "mimetype": "text/x-python",
   "name": "python",
   "nbconvert_exporter": "python",
   "pygments_lexer": "ipython3",
   "version": "3.13.2"
  }
 },
 "nbformat": 4,
 "nbformat_minor": 5
}
